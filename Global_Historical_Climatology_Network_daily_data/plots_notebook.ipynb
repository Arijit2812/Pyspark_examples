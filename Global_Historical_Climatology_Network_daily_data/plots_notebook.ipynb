{
 "cells": [
  {
   "cell_type": "code",
   "execution_count": 1,
   "metadata": {},
   "outputs": [
    {
     "data": {
      "text/html": [
       "<div>\n",
       "<style scoped>\n",
       "    .dataframe tbody tr th:only-of-type {\n",
       "        vertical-align: middle;\n",
       "    }\n",
       "\n",
       "    .dataframe tbody tr th {\n",
       "        vertical-align: top;\n",
       "    }\n",
       "\n",
       "    .dataframe thead th {\n",
       "        text-align: right;\n",
       "    }\n",
       "</style>\n",
       "<table border=\"1\" class=\"dataframe\">\n",
       "  <thead>\n",
       "    <tr style=\"text-align: right;\">\n",
       "      <th></th>\n",
       "      <th>ID</th>\n",
       "      <th>YEAR</th>\n",
       "      <th>MONTH</th>\n",
       "      <th>DAY</th>\n",
       "      <th>ELEMENT</th>\n",
       "      <th>TEMP_C</th>\n",
       "      <th>COUNTRY_CODE</th>\n",
       "    </tr>\n",
       "  </thead>\n",
       "  <tbody>\n",
       "    <tr>\n",
       "      <th>0</th>\n",
       "      <td>NZ000093012</td>\n",
       "      <td>2008</td>\n",
       "      <td>8</td>\n",
       "      <td>10</td>\n",
       "      <td>TMAX</td>\n",
       "      <td>19.0</td>\n",
       "      <td>NZ</td>\n",
       "    </tr>\n",
       "    <tr>\n",
       "      <th>13844</th>\n",
       "      <td>NZ000093012</td>\n",
       "      <td>1998</td>\n",
       "      <td>1</td>\n",
       "      <td>31</td>\n",
       "      <td>TMIN</td>\n",
       "      <td>16.5</td>\n",
       "      <td>NZ</td>\n",
       "    </tr>\n",
       "    <tr>\n",
       "      <th>13843</th>\n",
       "      <td>NZ000093012</td>\n",
       "      <td>1998</td>\n",
       "      <td>1</td>\n",
       "      <td>31</td>\n",
       "      <td>TMAX</td>\n",
       "      <td>27.3</td>\n",
       "      <td>NZ</td>\n",
       "    </tr>\n",
       "    <tr>\n",
       "      <th>13842</th>\n",
       "      <td>NZ000093012</td>\n",
       "      <td>1998</td>\n",
       "      <td>1</td>\n",
       "      <td>30</td>\n",
       "      <td>TMIN</td>\n",
       "      <td>16.8</td>\n",
       "      <td>NZ</td>\n",
       "    </tr>\n",
       "    <tr>\n",
       "      <th>13841</th>\n",
       "      <td>NZ000093012</td>\n",
       "      <td>1998</td>\n",
       "      <td>1</td>\n",
       "      <td>30</td>\n",
       "      <td>TMAX</td>\n",
       "      <td>26.3</td>\n",
       "      <td>NZ</td>\n",
       "    </tr>\n",
       "    <tr>\n",
       "      <th>13840</th>\n",
       "      <td>NZ000093012</td>\n",
       "      <td>1998</td>\n",
       "      <td>1</td>\n",
       "      <td>29</td>\n",
       "      <td>TMIN</td>\n",
       "      <td>19.7</td>\n",
       "      <td>NZ</td>\n",
       "    </tr>\n",
       "    <tr>\n",
       "      <th>13839</th>\n",
       "      <td>NZ000093012</td>\n",
       "      <td>1998</td>\n",
       "      <td>1</td>\n",
       "      <td>29</td>\n",
       "      <td>TMAX</td>\n",
       "      <td>24.7</td>\n",
       "      <td>NZ</td>\n",
       "    </tr>\n",
       "    <tr>\n",
       "      <th>13838</th>\n",
       "      <td>NZ000093012</td>\n",
       "      <td>1998</td>\n",
       "      <td>1</td>\n",
       "      <td>28</td>\n",
       "      <td>TMIN</td>\n",
       "      <td>19.9</td>\n",
       "      <td>NZ</td>\n",
       "    </tr>\n",
       "    <tr>\n",
       "      <th>13845</th>\n",
       "      <td>NZ000093012</td>\n",
       "      <td>1998</td>\n",
       "      <td>2</td>\n",
       "      <td>1</td>\n",
       "      <td>TMAX</td>\n",
       "      <td>28.6</td>\n",
       "      <td>NZ</td>\n",
       "    </tr>\n",
       "    <tr>\n",
       "      <th>13837</th>\n",
       "      <td>NZ000093012</td>\n",
       "      <td>1998</td>\n",
       "      <td>1</td>\n",
       "      <td>28</td>\n",
       "      <td>TMAX</td>\n",
       "      <td>26.7</td>\n",
       "      <td>NZ</td>\n",
       "    </tr>\n",
       "    <tr>\n",
       "      <th>13835</th>\n",
       "      <td>NZ000093012</td>\n",
       "      <td>1998</td>\n",
       "      <td>1</td>\n",
       "      <td>27</td>\n",
       "      <td>TMAX</td>\n",
       "      <td>25.7</td>\n",
       "      <td>NZ</td>\n",
       "    </tr>\n",
       "    <tr>\n",
       "      <th>13834</th>\n",
       "      <td>NZ000093012</td>\n",
       "      <td>1998</td>\n",
       "      <td>1</td>\n",
       "      <td>26</td>\n",
       "      <td>TMIN</td>\n",
       "      <td>17.7</td>\n",
       "      <td>NZ</td>\n",
       "    </tr>\n",
       "    <tr>\n",
       "      <th>13833</th>\n",
       "      <td>NZ000093012</td>\n",
       "      <td>1998</td>\n",
       "      <td>1</td>\n",
       "      <td>26</td>\n",
       "      <td>TMAX</td>\n",
       "      <td>27.8</td>\n",
       "      <td>NZ</td>\n",
       "    </tr>\n",
       "    <tr>\n",
       "      <th>13832</th>\n",
       "      <td>NZ000093012</td>\n",
       "      <td>1998</td>\n",
       "      <td>1</td>\n",
       "      <td>25</td>\n",
       "      <td>TMIN</td>\n",
       "      <td>16.7</td>\n",
       "      <td>NZ</td>\n",
       "    </tr>\n",
       "    <tr>\n",
       "      <th>13831</th>\n",
       "      <td>NZ000093012</td>\n",
       "      <td>1998</td>\n",
       "      <td>1</td>\n",
       "      <td>25</td>\n",
       "      <td>TMAX</td>\n",
       "      <td>26.7</td>\n",
       "      <td>NZ</td>\n",
       "    </tr>\n",
       "    <tr>\n",
       "      <th>13830</th>\n",
       "      <td>NZ000093012</td>\n",
       "      <td>1998</td>\n",
       "      <td>1</td>\n",
       "      <td>24</td>\n",
       "      <td>TMIN</td>\n",
       "      <td>18.7</td>\n",
       "      <td>NZ</td>\n",
       "    </tr>\n",
       "    <tr>\n",
       "      <th>13829</th>\n",
       "      <td>NZ000093012</td>\n",
       "      <td>1998</td>\n",
       "      <td>1</td>\n",
       "      <td>24</td>\n",
       "      <td>TMAX</td>\n",
       "      <td>24.2</td>\n",
       "      <td>NZ</td>\n",
       "    </tr>\n",
       "    <tr>\n",
       "      <th>13836</th>\n",
       "      <td>NZ000093012</td>\n",
       "      <td>1998</td>\n",
       "      <td>1</td>\n",
       "      <td>27</td>\n",
       "      <td>TMIN</td>\n",
       "      <td>18.5</td>\n",
       "      <td>NZ</td>\n",
       "    </tr>\n",
       "    <tr>\n",
       "      <th>13828</th>\n",
       "      <td>NZ000093012</td>\n",
       "      <td>1998</td>\n",
       "      <td>1</td>\n",
       "      <td>23</td>\n",
       "      <td>TMIN</td>\n",
       "      <td>18.6</td>\n",
       "      <td>NZ</td>\n",
       "    </tr>\n",
       "    <tr>\n",
       "      <th>13846</th>\n",
       "      <td>NZ000093012</td>\n",
       "      <td>1998</td>\n",
       "      <td>2</td>\n",
       "      <td>1</td>\n",
       "      <td>TMIN</td>\n",
       "      <td>16.4</td>\n",
       "      <td>NZ</td>\n",
       "    </tr>\n",
       "  </tbody>\n",
       "</table>\n",
       "</div>"
      ],
      "text/plain": [
       "                ID  YEAR  MONTH  DAY ELEMENT  TEMP_C COUNTRY_CODE\n",
       "0      NZ000093012  2008      8   10    TMAX    19.0           NZ\n",
       "13844  NZ000093012  1998      1   31    TMIN    16.5           NZ\n",
       "13843  NZ000093012  1998      1   31    TMAX    27.3           NZ\n",
       "13842  NZ000093012  1998      1   30    TMIN    16.8           NZ\n",
       "13841  NZ000093012  1998      1   30    TMAX    26.3           NZ\n",
       "13840  NZ000093012  1998      1   29    TMIN    19.7           NZ\n",
       "13839  NZ000093012  1998      1   29    TMAX    24.7           NZ\n",
       "13838  NZ000093012  1998      1   28    TMIN    19.9           NZ\n",
       "13845  NZ000093012  1998      2    1    TMAX    28.6           NZ\n",
       "13837  NZ000093012  1998      1   28    TMAX    26.7           NZ\n",
       "13835  NZ000093012  1998      1   27    TMAX    25.7           NZ\n",
       "13834  NZ000093012  1998      1   26    TMIN    17.7           NZ\n",
       "13833  NZ000093012  1998      1   26    TMAX    27.8           NZ\n",
       "13832  NZ000093012  1998      1   25    TMIN    16.7           NZ\n",
       "13831  NZ000093012  1998      1   25    TMAX    26.7           NZ\n",
       "13830  NZ000093012  1998      1   24    TMIN    18.7           NZ\n",
       "13829  NZ000093012  1998      1   24    TMAX    24.2           NZ\n",
       "13836  NZ000093012  1998      1   27    TMIN    18.5           NZ\n",
       "13828  NZ000093012  1998      1   23    TMIN    18.6           NZ\n",
       "13846  NZ000093012  1998      2    1    TMIN    16.4           NZ"
      ]
     },
     "execution_count": 1,
     "metadata": {},
     "output_type": "execute_result"
    }
   ],
   "source": [
    "import os\n",
    "import pandas as pd\n",
    "\n",
    "columns = [\"ID\",\"YEAR\",\"MONTH\",\"DAY\",\"ELEMENT\",\"TEMP_C\",\"COUNTRY_CODE\"]\n",
    "\n",
    "parts = []\n",
    "for file in os.listdir(os.path.expanduser(\"D:\\\\newzealand_stations_temperature.csv\\\\\")):\n",
    "    if file == \"_SUCCESS\":\n",
    "        continue\n",
    "    try:\n",
    "        data_temperature = pd.read_csv(f\"D:\\\\newzealand_stations_temperature.csv\\\\{file}\", header=None, names=columns)\n",
    "        parts.append(data_temperature)\n",
    "    except pd.io.common.EmptyDataError:\n",
    "        pass\n",
    "\n",
    "data_temperature = pd.concat(parts).sort_values([\"ID\"])\n",
    "\n",
    "data_temperature.head(20)"
   ]
  },
  {
   "cell_type": "code",
   "execution_count": 2,
   "metadata": {},
   "outputs": [
    {
     "name": "stdout",
     "output_type": "stream",
     "text": [
      "ELEMENT       TMAX       TMIN\n",
      "YEAR                         \n",
      "1940     20.103010  14.803679\n",
      "1941     17.051554  11.772527\n",
      "1942     19.696328  10.485616\n",
      "1943     15.899119  10.458767\n",
      "1944     15.723814   9.830510\n",
      "...            ...        ...\n",
      "2018     18.205804   9.574757\n",
      "2019     18.092661   8.957908\n",
      "2020     17.466722   8.638333\n",
      "2021     17.930301   9.336597\n",
      "2022     18.087949   9.968475\n",
      "\n",
      "[83 rows x 2 columns]\n"
     ]
    }
   ],
   "source": [
    "import numpy as np\n",
    "temperature_NZ = data_temperature.pivot_table(values='TEMP_C', index='YEAR', columns='ELEMENT',aggfunc=np.mean)\n",
    "print(temperature_NZ)"
   ]
  },
  {
   "cell_type": "code",
   "execution_count": 3,
   "metadata": {},
   "outputs": [
    {
     "data": {
      "text/plain": [
       "Text(0, 0.5, 'TEMPERATURE in CELCIUS')"
      ]
     },
     "execution_count": 3,
     "metadata": {},
     "output_type": "execute_result"
    },
    {
     "data": {
      "image/png": "[encoded data removed]",
      "text/plain": [
       "<Figure size 432x288 with 1 Axes>"
      ]
     },
     "metadata": {
      "needs_background": "light"
     },
     "output_type": "display_data"
    }
   ],
   "source": [
    "#temperature_NZ.plot()\n",
    "ax = temperature_NZ.plot(lw=1, colormap='jet', marker='.', markersize=2, title='Timeseries for NZ')\n",
    "ax.set_xlabel(\"YEAR\")\n",
    "ax.set_ylabel(\"TEMPERATURE in CELCIUS\")"
   ]
  },
  {
   "cell_type": "code",
   "execution_count": 14,
   "metadata": {},
   "outputs": [],
   "source": [
    "#Save the plot \n",
    "fig = ax.get_figure()\n",
    "fig.savefig('D:\\\\plots\\\\nz_timeseries.jpg', dpi = 600)"
   ]
  },
  {
   "cell_type": "code",
   "execution_count": null,
   "metadata": {},
   "outputs": [],
   "source": [
    "#Yearly plot of TMIN TMAX of each station of NZ\n",
    "from matplotlib.ticker import MaxNLocator\n",
    "stations_NZ = data_temperature['ID'].unique()\n",
    "for stn in stations_NZ:\n",
    "    p=stn\n",
    "    stn = data_temperature[data_temperature[\"ID\"] == stn]\n",
    "    stn = stn.pivot_table(values='TEMP_C', index='YEAR', columns='ELEMENT',aggfunc=np.mean)\n",
    "    ax = stn.plot(lw=1, colormap='jet', marker='.', markersize=2, title= p)\n",
    "    ax.xaxis.set_major_locator(MaxNLocator(integer=True))\n",
    "    ax.set_xlabel(\"YEAR\")\n",
    "    ax.set_ylabel(\"TEMPERATURE in CELCIUS\")\n",
    "    fig = ax.get_figure()\n",
    "    fig.savefig(f'D:\\\\plots\\\\stationwise_plot\\\\{p}.jpg', dpi = 600)"
   ]
  },
  {
   "cell_type": "code",
   "execution_count": 4,
   "metadata": {},
   "outputs": [
    {
     "data": {
      "text/plain": [
       "array(['NZ000093012', 'NZ000093292', 'NZ000093417', 'NZ000093844',\n",
       "       'NZ000093994', 'NZ000933090', 'NZ000936150', 'NZ000937470',\n",
       "       'NZ000939450', 'NZ000939870', 'NZM00093110', 'NZM00093439',\n",
       "       'NZM00093678', 'NZM00093781', 'NZM00093929'], dtype=object)"
      ]
     },
     "execution_count": 4,
     "metadata": {},
     "output_type": "execute_result"
    }
   ],
   "source": [
    "stations_NZ = data_temperature['ID'].unique()\n",
    "stations_NZ"
   ]
  },
  {
   "cell_type": "code",
   "execution_count": null,
   "metadata": {
    "scrolled": true
   },
   "outputs": [],
   "source": [
    "# Month wise plot of TMIN TMAX for each year for every station\n",
    "years = data_temperature['YEAR'].unique()\n",
    "for stn in stations_NZ:\n",
    "    for year in years:\n",
    "        x = (data_temperature[(data_temperature[\"YEAR\"] == year) & (data_temperature[\"ID\"] == stn)]) \n",
    "        x = x.pivot_table(values='TEMP_C', index=['YEAR','MONTH',\"DAY\"], columns='ELEMENT',aggfunc=np.mean)\n",
    "        try:\n",
    "            ax = x.plot(lw=1, colormap='jet', marker='.', markersize=2, title= stn + \"Year\"+str(year),figsize=(20, 4.8))\n",
    "            ax.set_xlabel(\"YEAR,MONTH,DAY\")\n",
    "            ax.set_ylabel(\"TEMPERATURE in CELCIUS\")\n",
    "            fig = ax.get_figure()\n",
    "            fig.savefig(f'D:\\\\plots\\\\stationwise_plot\\\\{stn}\\\\{year}.jpg')\n",
    "        except:\n",
    "            pass"
   ]
  },
  {
   "cell_type": "code",
   "execution_count": 1,
   "metadata": {},
   "outputs": [
    {
     "name": "stdout",
     "output_type": "stream",
     "text": [
      "Collecting plotly\n",
      "  Downloading plotly-5.10.0-py2.py3-none-any.whl (15.2 MB)\n",
      "Collecting tenacity>=6.2.0\n",
      "  Downloading tenacity-8.0.1-py3-none-any.whl (24 kB)\n",
      "Installing collected packages: tenacity, plotly\n",
      "Successfully installed plotly-5.10.0 tenacity-8.0.1\n"
     ]
    }
   ],
   "source": [
    "!pip install plotly"
   ]
  },
  {
   "cell_type": "code",
   "execution_count": 130,
   "metadata": {},
   "outputs": [],
   "source": [
    "import plotly.graph_objs as go"
   ]
  },
  {
   "cell_type": "code",
   "execution_count": 5,
   "metadata": {},
   "outputs": [
    {
     "data": {
      "text/html": [
       "<div>\n",
       "<style scoped>\n",
       "    .dataframe tbody tr th:only-of-type {\n",
       "        vertical-align: middle;\n",
       "    }\n",
       "\n",
       "    .dataframe tbody tr th {\n",
       "        vertical-align: top;\n",
       "    }\n",
       "\n",
       "    .dataframe thead th {\n",
       "        text-align: right;\n",
       "    }\n",
       "</style>\n",
       "<table border=\"1\" class=\"dataframe\">\n",
       "  <thead>\n",
       "    <tr style=\"text-align: right;\">\n",
       "      <th></th>\n",
       "      <th>COUNTRY_CODE</th>\n",
       "      <th>YEAR</th>\n",
       "      <th>COUNT</th>\n",
       "      <th>MIN_RAINFALL</th>\n",
       "      <th>MAX_RAINFALL</th>\n",
       "      <th>AVERAGE_RAINFALL</th>\n",
       "      <th>COUNTRY_NAME</th>\n",
       "    </tr>\n",
       "  </thead>\n",
       "  <tbody>\n",
       "    <tr>\n",
       "      <th>14867</th>\n",
       "      <td>AC</td>\n",
       "      <td>1966</td>\n",
       "      <td>243</td>\n",
       "      <td>0.0</td>\n",
       "      <td>42.7</td>\n",
       "      <td>1.571605</td>\n",
       "      <td>Antigua and Barbuda</td>\n",
       "    </tr>\n",
       "    <tr>\n",
       "      <th>1565</th>\n",
       "      <td>AC</td>\n",
       "      <td>1962</td>\n",
       "      <td>363</td>\n",
       "      <td>0.0</td>\n",
       "      <td>103.1</td>\n",
       "      <td>3.091736</td>\n",
       "      <td>Antigua and Barbuda</td>\n",
       "    </tr>\n",
       "    <tr>\n",
       "      <th>13985</th>\n",
       "      <td>AC</td>\n",
       "      <td>1968</td>\n",
       "      <td>245</td>\n",
       "      <td>0.0</td>\n",
       "      <td>47.0</td>\n",
       "      <td>1.748571</td>\n",
       "      <td>Antigua and Barbuda</td>\n",
       "    </tr>\n",
       "    <tr>\n",
       "      <th>10234</th>\n",
       "      <td>AC</td>\n",
       "      <td>1958</td>\n",
       "      <td>334</td>\n",
       "      <td>0.0</td>\n",
       "      <td>79.8</td>\n",
       "      <td>3.564970</td>\n",
       "      <td>Antigua and Barbuda</td>\n",
       "    </tr>\n",
       "    <tr>\n",
       "      <th>14396</th>\n",
       "      <td>AC</td>\n",
       "      <td>1967</td>\n",
       "      <td>59</td>\n",
       "      <td>0.0</td>\n",
       "      <td>77.2</td>\n",
       "      <td>1.667797</td>\n",
       "      <td>Antigua and Barbuda</td>\n",
       "    </tr>\n",
       "    <tr>\n",
       "      <th>5187</th>\n",
       "      <td>AC</td>\n",
       "      <td>1970</td>\n",
       "      <td>32</td>\n",
       "      <td>0.0</td>\n",
       "      <td>15.5</td>\n",
       "      <td>0.684375</td>\n",
       "      <td>Antigua and Barbuda</td>\n",
       "    </tr>\n",
       "    <tr>\n",
       "      <th>12135</th>\n",
       "      <td>AC</td>\n",
       "      <td>1961</td>\n",
       "      <td>334</td>\n",
       "      <td>0.0</td>\n",
       "      <td>41.9</td>\n",
       "      <td>2.397904</td>\n",
       "      <td>Antigua and Barbuda</td>\n",
       "    </tr>\n",
       "    <tr>\n",
       "      <th>1646</th>\n",
       "      <td>AC</td>\n",
       "      <td>1959</td>\n",
       "      <td>365</td>\n",
       "      <td>0.0</td>\n",
       "      <td>109.0</td>\n",
       "      <td>3.056164</td>\n",
       "      <td>Antigua and Barbuda</td>\n",
       "    </tr>\n",
       "    <tr>\n",
       "      <th>10634</th>\n",
       "      <td>AC</td>\n",
       "      <td>1969</td>\n",
       "      <td>313</td>\n",
       "      <td>0.0</td>\n",
       "      <td>79.0</td>\n",
       "      <td>3.353355</td>\n",
       "      <td>Antigua and Barbuda</td>\n",
       "    </tr>\n",
       "    <tr>\n",
       "      <th>8027</th>\n",
       "      <td>AC</td>\n",
       "      <td>1957</td>\n",
       "      <td>122</td>\n",
       "      <td>0.0</td>\n",
       "      <td>56.1</td>\n",
       "      <td>5.322951</td>\n",
       "      <td>Antigua and Barbuda</td>\n",
       "    </tr>\n",
       "    <tr>\n",
       "      <th>12446</th>\n",
       "      <td>AC</td>\n",
       "      <td>1964</td>\n",
       "      <td>366</td>\n",
       "      <td>0.0</td>\n",
       "      <td>61.7</td>\n",
       "      <td>2.320219</td>\n",
       "      <td>Antigua and Barbuda</td>\n",
       "    </tr>\n",
       "    <tr>\n",
       "      <th>13150</th>\n",
       "      <td>AC</td>\n",
       "      <td>1949</td>\n",
       "      <td>225</td>\n",
       "      <td>0.0</td>\n",
       "      <td>37.8</td>\n",
       "      <td>1.924000</td>\n",
       "      <td>Antigua and Barbuda</td>\n",
       "    </tr>\n",
       "    <tr>\n",
       "      <th>12361</th>\n",
       "      <td>AC</td>\n",
       "      <td>1960</td>\n",
       "      <td>366</td>\n",
       "      <td>0.0</td>\n",
       "      <td>57.4</td>\n",
       "      <td>2.339071</td>\n",
       "      <td>Antigua and Barbuda</td>\n",
       "    </tr>\n",
       "    <tr>\n",
       "      <th>11762</th>\n",
       "      <td>AC</td>\n",
       "      <td>1965</td>\n",
       "      <td>365</td>\n",
       "      <td>0.0</td>\n",
       "      <td>85.6</td>\n",
       "      <td>2.501370</td>\n",
       "      <td>Antigua and Barbuda</td>\n",
       "    </tr>\n",
       "    <tr>\n",
       "      <th>1703</th>\n",
       "      <td>AC</td>\n",
       "      <td>1963</td>\n",
       "      <td>365</td>\n",
       "      <td>0.0</td>\n",
       "      <td>68.6</td>\n",
       "      <td>3.034247</td>\n",
       "      <td>Antigua and Barbuda</td>\n",
       "    </tr>\n",
       "    <tr>\n",
       "      <th>17134</th>\n",
       "      <td>AE</td>\n",
       "      <td>1980</td>\n",
       "      <td>1</td>\n",
       "      <td>0.0</td>\n",
       "      <td>0.0</td>\n",
       "      <td>0.000000</td>\n",
       "      <td>United Arab Emirates</td>\n",
       "    </tr>\n",
       "    <tr>\n",
       "      <th>16112</th>\n",
       "      <td>AE</td>\n",
       "      <td>1944</td>\n",
       "      <td>287</td>\n",
       "      <td>0.0</td>\n",
       "      <td>46.0</td>\n",
       "      <td>0.619512</td>\n",
       "      <td>United Arab Emirates</td>\n",
       "    </tr>\n",
       "    <tr>\n",
       "      <th>3538</th>\n",
       "      <td>AE</td>\n",
       "      <td>2001</td>\n",
       "      <td>6</td>\n",
       "      <td>1.0</td>\n",
       "      <td>1.8</td>\n",
       "      <td>1.466667</td>\n",
       "      <td>United Arab Emirates</td>\n",
       "    </tr>\n",
       "    <tr>\n",
       "      <th>16204</th>\n",
       "      <td>AE</td>\n",
       "      <td>1985</td>\n",
       "      <td>7</td>\n",
       "      <td>0.0</td>\n",
       "      <td>2.0</td>\n",
       "      <td>0.571429</td>\n",
       "      <td>United Arab Emirates</td>\n",
       "    </tr>\n",
       "    <tr>\n",
       "      <th>5380</th>\n",
       "      <td>AE</td>\n",
       "      <td>1993</td>\n",
       "      <td>11</td>\n",
       "      <td>0.0</td>\n",
       "      <td>75.9</td>\n",
       "      <td>12.300000</td>\n",
       "      <td>United Arab Emirates</td>\n",
       "    </tr>\n",
       "  </tbody>\n",
       "</table>\n",
       "</div>"
      ],
      "text/plain": [
       "      COUNTRY_CODE  YEAR  COUNT  MIN_RAINFALL  MAX_RAINFALL  AVERAGE_RAINFALL  \\\n",
       "14867           AC  1966    243           0.0          42.7          1.571605   \n",
       "1565            AC  1962    363           0.0         103.1          3.091736   \n",
       "13985           AC  1968    245           0.0          47.0          1.748571   \n",
       "10234           AC  1958    334           0.0          79.8          3.564970   \n",
       "14396           AC  1967     59           0.0          77.2          1.667797   \n",
       "5187            AC  1970     32           0.0          15.5          0.684375   \n",
       "12135           AC  1961    334           0.0          41.9          2.397904   \n",
       "1646            AC  1959    365           0.0         109.0          3.056164   \n",
       "10634           AC  1969    313           0.0          79.0          3.353355   \n",
       "8027            AC  1957    122           0.0          56.1          5.322951   \n",
       "12446           AC  1964    366           0.0          61.7          2.320219   \n",
       "13150           AC  1949    225           0.0          37.8          1.924000   \n",
       "12361           AC  1960    366           0.0          57.4          2.339071   \n",
       "11762           AC  1965    365           0.0          85.6          2.501370   \n",
       "1703            AC  1963    365           0.0          68.6          3.034247   \n",
       "17134           AE  1980      1           0.0           0.0          0.000000   \n",
       "16112           AE  1944    287           0.0          46.0          0.619512   \n",
       "3538            AE  2001      6           1.0           1.8          1.466667   \n",
       "16204           AE  1985      7           0.0           2.0          0.571429   \n",
       "5380            AE  1993     11           0.0          75.9         12.300000   \n",
       "\n",
       "               COUNTRY_NAME  \n",
       "14867   Antigua and Barbuda  \n",
       "1565    Antigua and Barbuda  \n",
       "13985   Antigua and Barbuda  \n",
       "10234   Antigua and Barbuda  \n",
       "14396   Antigua and Barbuda  \n",
       "5187    Antigua and Barbuda  \n",
       "12135   Antigua and Barbuda  \n",
       "1646    Antigua and Barbuda  \n",
       "10634   Antigua and Barbuda  \n",
       "8027    Antigua and Barbuda  \n",
       "12446   Antigua and Barbuda  \n",
       "13150   Antigua and Barbuda  \n",
       "12361   Antigua and Barbuda  \n",
       "11762   Antigua and Barbuda  \n",
       "1703    Antigua and Barbuda  \n",
       "17134  United Arab Emirates  \n",
       "16112  United Arab Emirates  \n",
       "3538   United Arab Emirates  \n",
       "16204  United Arab Emirates  \n",
       "5380   United Arab Emirates  "
      ]
     },
     "execution_count": 5,
     "metadata": {},
     "output_type": "execute_result"
    }
   ],
   "source": [
    "#Load rainfall data\n",
    "import os\n",
    "import pandas as pd\n",
    "\n",
    "columns = [\"COUNTRY_CODE\",\"YEAR\",\"COUNT\",\"MIN_RAINFALL\",\"MAX_RAINFALL\",\"AVERAGE_RAINFALL\",\"COUNTRY_NAME\"]\n",
    "\n",
    "parts = []\n",
    "for file in os.listdir(os.path.expanduser(\"D:\\\\rainfall\\\\\")):\n",
    "    if file == \"_SUCCESS\":\n",
    "        continue\n",
    "    try:\n",
    "        data_rainfall = pd.read_csv(f\"D:\\\\rainfall\\\\{file}\", header=None, names=columns)\n",
    "        parts.append(data_rainfall)\n",
    "    except pd.io.common.EmptyDataError:\n",
    "        pass\n",
    "\n",
    "data_rainfall = pd.concat(parts).sort_values([\"COUNTRY_CODE\"])\n",
    "\n",
    "data_rainfall.head(20)\n"
   ]
  },
  {
   "cell_type": "code",
   "execution_count": 134,
   "metadata": {},
   "outputs": [
    {
     "data": {
      "text/html": [
       "<div>\n",
       "<style scoped>\n",
       "    .dataframe tbody tr th:only-of-type {\n",
       "        vertical-align: middle;\n",
       "    }\n",
       "\n",
       "    .dataframe tbody tr th {\n",
       "        vertical-align: top;\n",
       "    }\n",
       "\n",
       "    .dataframe thead th {\n",
       "        text-align: right;\n",
       "    }\n",
       "</style>\n",
       "<table border=\"1\" class=\"dataframe\">\n",
       "  <thead>\n",
       "    <tr style=\"text-align: right;\">\n",
       "      <th></th>\n",
       "      <th>COUNTRY_NAME</th>\n",
       "      <th>AVERAGE_RAINFALL</th>\n",
       "    </tr>\n",
       "  </thead>\n",
       "  <tbody>\n",
       "    <tr>\n",
       "      <th>17071</th>\n",
       "      <td>United Arab Emirates</td>\n",
       "      <td>0.000000</td>\n",
       "    </tr>\n",
       "    <tr>\n",
       "      <th>17076</th>\n",
       "      <td>Wake Island [United States]</td>\n",
       "      <td>0.000000</td>\n",
       "    </tr>\n",
       "    <tr>\n",
       "      <th>17035</th>\n",
       "      <td>Bangladesh</td>\n",
       "      <td>0.000000</td>\n",
       "    </tr>\n",
       "    <tr>\n",
       "      <th>17153</th>\n",
       "      <td>Venezuela</td>\n",
       "      <td>0.000000</td>\n",
       "    </tr>\n",
       "    <tr>\n",
       "      <th>16828</th>\n",
       "      <td>Iraq</td>\n",
       "      <td>0.143373</td>\n",
       "    </tr>\n",
       "    <tr>\n",
       "      <th>16366</th>\n",
       "      <td>Iran</td>\n",
       "      <td>0.487857</td>\n",
       "    </tr>\n",
       "    <tr>\n",
       "      <th>16218</th>\n",
       "      <td>Tunisia</td>\n",
       "      <td>0.563871</td>\n",
       "    </tr>\n",
       "    <tr>\n",
       "      <th>5250</th>\n",
       "      <td>Maldives</td>\n",
       "      <td>0.652226</td>\n",
       "    </tr>\n",
       "    <tr>\n",
       "      <th>5220</th>\n",
       "      <td>Cyprus</td>\n",
       "      <td>0.669578</td>\n",
       "    </tr>\n",
       "    <tr>\n",
       "      <th>4450</th>\n",
       "      <td>Falkland Islands (Islas Malvinas) [United King...</td>\n",
       "      <td>0.991341</td>\n",
       "    </tr>\n",
       "    <tr>\n",
       "      <th>4261</th>\n",
       "      <td>Kuwait</td>\n",
       "      <td>1.051136</td>\n",
       "    </tr>\n",
       "    <tr>\n",
       "      <th>4249</th>\n",
       "      <td>Algeria</td>\n",
       "      <td>1.054936</td>\n",
       "    </tr>\n",
       "    <tr>\n",
       "      <th>16030</th>\n",
       "      <td>Malta</td>\n",
       "      <td>1.082848</td>\n",
       "    </tr>\n",
       "    <tr>\n",
       "      <th>15894</th>\n",
       "      <td>Morocco</td>\n",
       "      <td>1.121851</td>\n",
       "    </tr>\n",
       "    <tr>\n",
       "      <th>15717</th>\n",
       "      <td>Chile</td>\n",
       "      <td>1.169583</td>\n",
       "    </tr>\n",
       "    <tr>\n",
       "      <th>15542</th>\n",
       "      <td>Western Sahara</td>\n",
       "      <td>1.212121</td>\n",
       "    </tr>\n",
       "    <tr>\n",
       "      <th>15404</th>\n",
       "      <td>Jordan</td>\n",
       "      <td>1.242500</td>\n",
       "    </tr>\n",
       "    <tr>\n",
       "      <th>15051</th>\n",
       "      <td>Mauritania</td>\n",
       "      <td>1.318182</td>\n",
       "    </tr>\n",
       "    <tr>\n",
       "      <th>3952</th>\n",
       "      <td>Svalbard [Norway]</td>\n",
       "      <td>1.385475</td>\n",
       "    </tr>\n",
       "    <tr>\n",
       "      <th>15031</th>\n",
       "      <td>Spain</td>\n",
       "      <td>1.542784</td>\n",
       "    </tr>\n",
       "    <tr>\n",
       "      <th>15025</th>\n",
       "      <td>Qatar</td>\n",
       "      <td>1.543810</td>\n",
       "    </tr>\n",
       "    <tr>\n",
       "      <th>14968</th>\n",
       "      <td>Turkmenistan</td>\n",
       "      <td>1.553644</td>\n",
       "    </tr>\n",
       "    <tr>\n",
       "      <th>14906</th>\n",
       "      <td>Russia</td>\n",
       "      <td>1.564037</td>\n",
       "    </tr>\n",
       "    <tr>\n",
       "      <th>14851</th>\n",
       "      <td>Macedonia</td>\n",
       "      <td>1.573804</td>\n",
       "    </tr>\n",
       "    <tr>\n",
       "      <th>14439</th>\n",
       "      <td>Greece</td>\n",
       "      <td>1.659449</td>\n",
       "    </tr>\n",
       "    <tr>\n",
       "      <th>14308</th>\n",
       "      <td>Jan Mayen [Norway]</td>\n",
       "      <td>1.688767</td>\n",
       "    </tr>\n",
       "    <tr>\n",
       "      <th>14205</th>\n",
       "      <td>Estonia</td>\n",
       "      <td>1.707951</td>\n",
       "    </tr>\n",
       "    <tr>\n",
       "      <th>14111</th>\n",
       "      <td>Italy</td>\n",
       "      <td>1.725866</td>\n",
       "    </tr>\n",
       "    <tr>\n",
       "      <th>13871</th>\n",
       "      <td>Finland</td>\n",
       "      <td>1.769010</td>\n",
       "    </tr>\n",
       "    <tr>\n",
       "      <th>13746</th>\n",
       "      <td>Hungary</td>\n",
       "      <td>1.794909</td>\n",
       "    </tr>\n",
       "  </tbody>\n",
       "</table>\n",
       "</div>"
      ],
      "text/plain": [
       "                                            COUNTRY_NAME  AVERAGE_RAINFALL\n",
       "17071                               United Arab Emirates          0.000000\n",
       "17076                        Wake Island [United States]          0.000000\n",
       "17035                                         Bangladesh          0.000000\n",
       "17153                                          Venezuela          0.000000\n",
       "16828                                               Iraq          0.143373\n",
       "16366                                               Iran          0.487857\n",
       "16218                                            Tunisia          0.563871\n",
       "5250                                            Maldives          0.652226\n",
       "5220                                              Cyprus          0.669578\n",
       "4450   Falkland Islands (Islas Malvinas) [United King...          0.991341\n",
       "4261                                              Kuwait          1.051136\n",
       "4249                                             Algeria          1.054936\n",
       "16030                                              Malta          1.082848\n",
       "15894                                            Morocco          1.121851\n",
       "15717                                              Chile          1.169583\n",
       "15542                                     Western Sahara          1.212121\n",
       "15404                                             Jordan          1.242500\n",
       "15051                                         Mauritania          1.318182\n",
       "3952                                   Svalbard [Norway]          1.385475\n",
       "15031                                              Spain          1.542784\n",
       "15025                                              Qatar          1.543810\n",
       "14968                                       Turkmenistan          1.553644\n",
       "14906                                             Russia          1.564037\n",
       "14851                                          Macedonia          1.573804\n",
       "14439                                             Greece          1.659449\n",
       "14308                                 Jan Mayen [Norway]          1.688767\n",
       "14205                                            Estonia          1.707951\n",
       "14111                                              Italy          1.725866\n",
       "13871                                            Finland          1.769010\n",
       "13746                                            Hungary          1.794909"
      ]
     },
     "execution_count": 134,
     "metadata": {},
     "output_type": "execute_result"
    }
   ],
   "source": [
    "#Filter observations for 2021\n",
    "rainfall_2021 = data_rainfall[data_rainfall[\"YEAR\"] == 2021]\n",
    "rainfall_2021 = rainfall_2021[[\"COUNTRY_NAME\",\"AVERAGE_RAINFALL\"]]\n",
    "rainfall_2021.sort_values([\"AVERAGE_RAINFALL\"]).head(30)"
   ]
  },
  {
   "cell_type": "code",
   "execution_count": 136,
   "metadata": {},
   "outputs": [
    {
     "data": {
      "application/vnd.plotly.v1+json": {
       "config": {
        "plotlyServerURL": "https://plot.ly"
       },
       "data": [
        {
         "colorbar": {
          "title": {
           "text": "World Rainfall in mm for 2021"
          }
         },
         "colorscale": [
          [
           0,
           "rgb(12,51,131)"
          ],
          [
           0.25,
           "rgb(10,136,186)"
          ],
          [
           0.5,
           "rgb(242,211,56)"
          ],
          [
           0.75,
           "rgb(242,143,56)"
          ],
          [
           1,
           "rgb(217,30,30)"
          ]
         ],
         "locationmode": "country names",
         "locations": [
          "United Arab Emirates",
          "Afghanistan",
          "Algeria",
          "Azerbaijan",
          "Armenia",
          "Angola",
          "American Samoa [United States]",
          "Argentina",
          "Australia",
          "Austria",
          "Antarctica",
          "Bahrain",
          "Botswana",
          "Bermuda [United Kingdom]",
          "Belgium",
          "Bahamas, The",
          "Bangladesh",
          "Belize",
          "Bosnia and Herzegovina",
          "Bolivia",
          "Burma",
          "Benin",
          "Belarus",
          "Solomon Islands",
          "Brazil",
          "Bulgaria",
          "Brunei",
          "Canada",
          "Cambodia",
          "Chad",
          "Sri Lanka",
          "Congo (Brazzaville)",
          "Congo (Kinshasa)",
          "China",
          "Chile",
          "Cayman Islands [United Kingdom]",
          "Cameroon",
          "Colombia",
          "Northern Mariana Islands [United States]",
          "Costa Rica",
          "Central African Republic",
          "Cuba",
          "Cape Verde",
          "Cook Islands [New Zealand]",
          "Cyprus",
          "Denmark",
          "Dominican Republic",
          "Ecuador",
          "Egypt",
          "Ireland",
          "Equatorial Guinea",
          "Estonia",
          "El Salvador",
          "Ethiopia",
          "Czech Republic",
          "French Guiana [France]",
          "Finland",
          "Fiji",
          "Falkland Islands (Islas Malvinas) [United Kingdom]",
          "Federated States of Micronesia",
          "French Polynesia",
          "France",
          "Gambia, The",
          "Gabon",
          "Georgia",
          "Ghana",
          "Gibraltar [United Kingdom]",
          "Greenland [Denmark]",
          "Germany",
          "Guam [United States]",
          "Greece",
          "Guinea",
          "Guyana",
          "Honduras",
          "Croatia",
          "Hungary",
          "Indonesia",
          "India",
          "Iran",
          "Israel",
          "Italy",
          "Cote D'Ivoire",
          "Iraq",
          "Japan",
          "Jamaica",
          "Jan Mayen [Norway]",
          "Jordan",
          "Kenya",
          "Kyrgyzstan",
          "Korea, North",
          "Kiribati",
          "Korea, South",
          "Kuwait",
          "Kazakhstan",
          "Laos",
          "Lebanon",
          "Latvia",
          "Lithuania",
          "Liberia",
          "Slovakia",
          "Luxembourg",
          "Libya",
          "Madagascar",
          "Macau S.A.R",
          "Moldova",
          "Mayotte [France]",
          "Mongolia",
          "Malawi",
          "Montenegro",
          "Macedonia",
          "Mali",
          "Morocco",
          "Mauritius",
          "Mauritania",
          "Malta",
          "Oman",
          "Maldives",
          "Mexico",
          "Malaysia",
          "Mozambique",
          "Norfolk Island [Australia]",
          "Niger",
          "Vanuatu",
          "Nigeria",
          "Netherlands",
          "Norway",
          "Nepal",
          "Suriname",
          "New Zealand",
          "Paraguay",
          "Peru",
          "Pakistan",
          "Poland",
          "Portugal",
          "Papua New Guinea",
          "Palau",
          "Qatar",
          "Reunion [France]",
          "Serbia",
          "Marshall Islands",
          "Romania",
          "Philippines",
          "Puerto Rico [United States]",
          "Russia",
          "Rwanda",
          "Saudi Arabia",
          "Saint Pierre and Miquelon [France]",
          "Seychelles",
          "South Africa",
          "Senegal",
          "Slovenia",
          "Singapore",
          "Spain",
          "Svalbard [Norway]",
          "Sweden",
          "Syria",
          "Switzerland",
          "Trinidad and Tobago",
          "Thailand",
          "Tajikistan",
          "Togo",
          "Tunisia",
          "Turkey",
          "Tuvalu",
          "Turkmenistan",
          "Tanzania",
          "United Kingdom",
          "Ukraine",
          "United States",
          "Burkina Faso",
          "Uruguay",
          "Uzbekistan",
          "Venezuela",
          "Vietnam",
          "Virgin Islands [United States]",
          "Namibia",
          "Wallis and Futuna [France]",
          "Western Sahara",
          "Wake Island [United States]",
          "Zambia"
         ],
         "marker": {
          "line": {
           "color": "rgb(255,255,255)",
           "width": 2
          }
         },
         "type": "choropleth",
         "z": [
          0,
          3.32,
          1.0549363605091082,
          10.694196642685784,
          3.0667723525681736,
          10.035135135135137,
          8.643424657534213,
          6.061295856426502,
          2.353540471010165,
          3.449777183600712,
          1.8118577981651616,
          4.804347826086956,
          4.86109510086455,
          4.539062499999994,
          2.8778393351800524,
          3.08857763825162,
          0,
          4.2871428571428565,
          3.2850267379679186,
          8.974227831285171,
          15.58785607196402,
          7.68605898123325,
          3.851080332410015,
          6.8581712062256965,
          5.826273077703371,
          2.0121338912133915,
          12.517171717171722,
          2.630422823607932,
          16.419999999999998,
          9.12380952380952,
          5.448487668683107,
          8.456480000000006,
          12.687804878048782,
          2.4998732153684684,
          1.1695833333333452,
          3.9717391304347793,
          10.968997668997677,
          4.400653594771244,
          6.4954337899543795,
          10.968067226890767,
          9.28666666666667,
          4.224000000000001,
          5.621875,
          5.219999999999998,
          0.6695783132530119,
          2.1926102502979683,
          5.0036842105263135,
          6.017000000000012,
          8.572500000000002,
          3.2513101983003008,
          8.318954248366008,
          1.7079512035726103,
          8.70564102564102,
          8.648218527315915,
          2.958406395048982,
          13.319373219373233,
          1.7690096096660477,
          7.447423352902793,
          0.9913407821229068,
          11.398317054846178,
          3.5300759013282925,
          2.0243715632365458,
          12.011940298507461,
          9.287150837988829,
          1.807916666666668,
          7.607177033492833,
          1.821921921921922,
          2.429036827195457,
          2.1919923818329847,
          7.303743315508004,
          1.6594491927825328,
          17.975694444444443,
          9.048067632850248,
          3.772431506849319,
          2.6718262806236077,
          1.794908616187988,
          16.66468401486991,
          11.113386771017575,
          0.4878565127903592,
          2.2964227642276414,
          1.7258663148636535,
          8.265289672544071,
          0.14337349397590365,
          5.847663632049074,
          2.580279503105588,
          1.6887671232876718,
          1.2425,
          5.035883424408009,
          12.785207100591716,
          12.893083573487045,
          2.611614730878186,
          10.468614891913534,
          1.0511363636363635,
          12.997058823529407,
          11.591225626740949,
          2.562886597938145,
          2.178037904124868,
          3.3786936236392204,
          14.5,
          2.7730266893810454,
          2.2231671554252204,
          3.723841059602648,
          8.696912114014244,
          5.341193181818178,
          7.226370757180152,
          3.0387005649717485,
          6.270220588235327,
          4.7980392156862735,
          4.777385725741781,
          1.5738035264483596,
          7.4768217734855265,
          1.1218512898330906,
          4.184708893154205,
          1.318181818181818,
          1.0828478964401296,
          1.9174911660777323,
          0.6522255192878348,
          2.0586373361127808,
          9.008645161290348,
          6.733044846577508,
          2.9213235294117648,
          5.996675531914892,
          10.336043587594316,
          14.864748201438838,
          2.2947363620610783,
          3.051893315403332,
          4.379331306990881,
          8.181615598885791,
          3.0592211055276093,
          9.656763754045302,
          6.423153692614783,
          4.250655294362386,
          2.3406487232574413,
          3.768047337278104,
          5.428260869565218,
          9.955801104972394,
          1.5438095238095235,
          3.9207756232686943,
          2.090858208955221,
          8.351367521367479,
          1.9646060606060736,
          10.330922844175413,
          4.148632491406592,
          1.564036683252113,
          8.845086705202313,
          9.863768115942033,
          2.7238095238095226,
          5.4198847262247805,
          4.760844490216258,
          10.14627994955865,
          3.4866220735785913,
          8.158357771260999,
          1.5427842363317523,
          1.3854748603351972,
          1.8821425632736355,
          9.308510638297877,
          3.903023332237923,
          5.368876080691641,
          9.7093436480119,
          7.117346938775513,
          7.816522811344032,
          0.5638713745271114,
          2.8431083958158982,
          7.760643564356434,
          1.5536437246963564,
          9.065543071161066,
          2.669628847314335,
          4.075517890772119,
          2.880685902343932,
          7.312958715596337,
          3.091610987379368,
          4.6129533678756465,
          0,
          6.534420376100887,
          2.3804919184820066,
          6.132217573221753,
          7.054929577464784,
          1.2121212121212122,
          0,
          16.060000000000002
         ]
        }
       ],
       "layout": {
        "geo": {
         "scope": "world"
        },
        "template": {
         "data": {
          "bar": [
           {
            "error_x": {
             "color": "#2a3f5f"
            },
            "error_y": {
             "color": "#2a3f5f"
            },
            "marker": {
             "line": {
              "color": "#E5ECF6",
              "width": 0.5
             },
             "pattern": {
              "fillmode": "overlay",
              "size": 10,
              "solidity": 0.2
             }
            },
            "type": "bar"
           }
          ],
          "barpolar": [
           {
            "marker": {
             "line": {
              "color": "#E5ECF6",
              "width": 0.5
             },
             "pattern": {
              "fillmode": "overlay",
              "size": 10,
              "solidity": 0.2
             }
            },
            "type": "barpolar"
           }
          ],
          "carpet": [
           {
            "aaxis": {
             "endlinecolor": "#2a3f5f",
             "gridcolor": "white",
             "linecolor": "white",
             "minorgridcolor": "white",
             "startlinecolor": "#2a3f5f"
            },
            "baxis": {
             "endlinecolor": "#2a3f5f",
             "gridcolor": "white",
             "linecolor": "white",
             "minorgridcolor": "white",
             "startlinecolor": "#2a3f5f"
            },
            "type": "carpet"
           }
          ],
          "choropleth": [
           {
            "colorbar": {
             "outlinewidth": 0,
             "ticks": ""
            },
            "type": "choropleth"
           }
          ],
          "contour": [
           {
            "colorbar": {
             "outlinewidth": 0,
             "ticks": ""
            },
            "colorscale": [
             [
              0,
              "#0d0887"
             ],
             [
              0.1111111111111111,
              "#46039f"
             ],
             [
              0.2222222222222222,
              "#7201a8"
             ],
             [
              0.3333333333333333,
              "#9c179e"
             ],
             [
              0.4444444444444444,
              "#bd3786"
             ],
             [
              0.5555555555555556,
              "#d8576b"
             ],
             [
              0.6666666666666666,
              "#ed7953"
             ],
             [
              0.7777777777777778,
              "#fb9f3a"
             ],
             [
              0.8888888888888888,
              "#fdca26"
             ],
             [
              1,
              "#f0f921"
             ]
            ],
            "type": "contour"
           }
          ],
          "contourcarpet": [
           {
            "colorbar": {
             "outlinewidth": 0,
             "ticks": ""
            },
            "type": "contourcarpet"
           }
          ],
          "heatmap": [
           {
            "colorbar": {
             "outlinewidth": 0,
             "ticks": ""
            },
            "colorscale": [
             [
              0,
              "#0d0887"
             ],
             [
              0.1111111111111111,
              "#46039f"
             ],
             [
              0.2222222222222222,
              "#7201a8"
             ],
             [
              0.3333333333333333,
              "#9c179e"
             ],
             [
              0.4444444444444444,
              "#bd3786"
             ],
             [
              0.5555555555555556,
              "#d8576b"
             ],
             [
              0.6666666666666666,
              "#ed7953"
             ],
             [
              0.7777777777777778,
              "#fb9f3a"
             ],
             [
              0.8888888888888888,
              "#fdca26"
             ],
             [
              1,
              "#f0f921"
             ]
            ],
            "type": "heatmap"
           }
          ],
          "heatmapgl": [
           {
            "colorbar": {
             "outlinewidth": 0,
             "ticks": ""
            },
            "colorscale": [
             [
              0,
              "#0d0887"
             ],
             [
              0.1111111111111111,
              "#46039f"
             ],
             [
              0.2222222222222222,
              "#7201a8"
             ],
             [
              0.3333333333333333,
              "#9c179e"
             ],
             [
              0.4444444444444444,
              "#bd3786"
             ],
             [
              0.5555555555555556,
              "#d8576b"
             ],
             [
              0.6666666666666666,
              "#ed7953"
             ],
             [
              0.7777777777777778,
              "#fb9f3a"
             ],
             [
              0.8888888888888888,
              "#fdca26"
             ],
             [
              1,
              "#f0f921"
             ]
            ],
            "type": "heatmapgl"
           }
          ],
          "histogram": [
           {
            "marker": {
             "pattern": {
              "fillmode": "overlay",
              "size": 10,
              "solidity": 0.2
             }
            },
            "type": "histogram"
           }
          ],
          "histogram2d": [
           {
            "colorbar": {
             "outlinewidth": 0,
             "ticks": ""
            },
            "colorscale": [
             [
              0,
              "#0d0887"
             ],
             [
              0.1111111111111111,
              "#46039f"
             ],
             [
              0.2222222222222222,
              "#7201a8"
             ],
             [
              0.3333333333333333,
              "#9c179e"
             ],
             [
              0.4444444444444444,
              "#bd3786"
             ],
             [
              0.5555555555555556,
              "#d8576b"
             ],
             [
              0.6666666666666666,
              "#ed7953"
             ],
             [
              0.7777777777777778,
              "#fb9f3a"
             ],
             [
              0.8888888888888888,
              "#fdca26"
             ],
             [
              1,
              "#f0f921"
             ]
            ],
            "type": "histogram2d"
           }
          ],
          "histogram2dcontour": [
           {
            "colorbar": {
             "outlinewidth": 0,
             "ticks": ""
            },
            "colorscale": [
             [
              0,
              "#0d0887"
             ],
             [
              0.1111111111111111,
              "#46039f"
             ],
             [
              0.2222222222222222,
              "#7201a8"
             ],
             [
              0.3333333333333333,
              "#9c179e"
             ],
             [
              0.4444444444444444,
              "#bd3786"
             ],
             [
              0.5555555555555556,
              "#d8576b"
             ],
             [
              0.6666666666666666,
              "#ed7953"
             ],
             [
              0.7777777777777778,
              "#fb9f3a"
             ],
             [
              0.8888888888888888,
              "#fdca26"
             ],
             [
              1,
              "#f0f921"
             ]
            ],
            "type": "histogram2dcontour"
           }
          ],
          "mesh3d": [
           {
            "colorbar": {
             "outlinewidth": 0,
             "ticks": ""
            },
            "type": "mesh3d"
           }
          ],
          "parcoords": [
           {
            "line": {
             "colorbar": {
              "outlinewidth": 0,
              "ticks": ""
             }
            },
            "type": "parcoords"
           }
          ],
          "pie": [
           {
            "automargin": true,
            "type": "pie"
           }
          ],
          "scatter": [
           {
            "fillpattern": {
             "fillmode": "overlay",
             "size": 10,
             "solidity": 0.2
            },
            "type": "scatter"
           }
          ],
          "scatter3d": [
           {
            "line": {
             "colorbar": {
              "outlinewidth": 0,
              "ticks": ""
             }
            },
            "marker": {
             "colorbar": {
              "outlinewidth": 0,
              "ticks": ""
             }
            },
            "type": "scatter3d"
           }
          ],
          "scattercarpet": [
           {
            "marker": {
             "colorbar": {
              "outlinewidth": 0,
              "ticks": ""
             }
            },
            "type": "scattercarpet"
           }
          ],
          "scattergeo": [
           {
            "marker": {
             "colorbar": {
              "outlinewidth": 0,
              "ticks": ""
             }
            },
            "type": "scattergeo"
           }
          ],
          "scattergl": [
           {
            "marker": {
             "colorbar": {
              "outlinewidth": 0,
              "ticks": ""
             }
            },
            "type": "scattergl"
           }
          ],
          "scattermapbox": [
           {
            "marker": {
             "colorbar": {
              "outlinewidth": 0,
              "ticks": ""
             }
            },
            "type": "scattermapbox"
           }
          ],
          "scatterpolar": [
           {
            "marker": {
             "colorbar": {
              "outlinewidth": 0,
              "ticks": ""
             }
            },
            "type": "scatterpolar"
           }
          ],
          "scatterpolargl": [
           {
            "marker": {
             "colorbar": {
              "outlinewidth": 0,
              "ticks": ""
             }
            },
            "type": "scatterpolargl"
           }
          ],
          "scatterternary": [
           {
            "marker": {
             "colorbar": {
              "outlinewidth": 0,
              "ticks": ""
             }
            },
            "type": "scatterternary"
           }
          ],
          "surface": [
           {
            "colorbar": {
             "outlinewidth": 0,
             "ticks": ""
            },
            "colorscale": [
             [
              0,
              "#0d0887"
             ],
             [
              0.1111111111111111,
              "#46039f"
             ],
             [
              0.2222222222222222,
              "#7201a8"
             ],
             [
              0.3333333333333333,
              "#9c179e"
             ],
             [
              0.4444444444444444,
              "#bd3786"
             ],
             [
              0.5555555555555556,
              "#d8576b"
             ],
             [
              0.6666666666666666,
              "#ed7953"
             ],
             [
              0.7777777777777778,
              "#fb9f3a"
             ],
             [
              0.8888888888888888,
              "#fdca26"
             ],
             [
              1,
              "#f0f921"
             ]
            ],
            "type": "surface"
           }
          ],
          "table": [
           {
            "cells": {
             "fill": {
              "color": "#EBF0F8"
             },
             "line": {
              "color": "white"
             }
            },
            "header": {
             "fill": {
              "color": "#C8D4E3"
             },
             "line": {
              "color": "white"
             }
            },
            "type": "table"
           }
          ]
         },
         "layout": {
          "annotationdefaults": {
           "arrowcolor": "#2a3f5f",
           "arrowhead": 0,
           "arrowwidth": 1
          },
          "autotypenumbers": "strict",
          "coloraxis": {
           "colorbar": {
            "outlinewidth": 0,
            "ticks": ""
           }
          },
          "colorscale": {
           "diverging": [
            [
             0,
             "#8e0152"
            ],
            [
             0.1,
             "#c51b7d"
            ],
            [
             0.2,
             "#de77ae"
            ],
            [
             0.3,
             "#f1b6da"
            ],
            [
             0.4,
             "#fde0ef"
            ],
            [
             0.5,
             "#f7f7f7"
            ],
            [
             0.6,
             "#e6f5d0"
            ],
            [
             0.7,
             "#b8e186"
            ],
            [
             0.8,
             "#7fbc41"
            ],
            [
             0.9,
             "#4d9221"
            ],
            [
             1,
             "#276419"
            ]
           ],
           "sequential": [
            [
             0,
             "#0d0887"
            ],
            [
             0.1111111111111111,
             "#46039f"
            ],
            [
             0.2222222222222222,
             "#7201a8"
            ],
            [
             0.3333333333333333,
             "#9c179e"
            ],
            [
             0.4444444444444444,
             "#bd3786"
            ],
            [
             0.5555555555555556,
             "#d8576b"
            ],
            [
             0.6666666666666666,
             "#ed7953"
            ],
            [
             0.7777777777777778,
             "#fb9f3a"
            ],
            [
             0.8888888888888888,
             "#fdca26"
            ],
            [
             1,
             "#f0f921"
            ]
           ],
           "sequentialminus": [
            [
             0,
             "#0d0887"
            ],
            [
             0.1111111111111111,
             "#46039f"
            ],
            [
             0.2222222222222222,
             "#7201a8"
            ],
            [
             0.3333333333333333,
             "#9c179e"
            ],
            [
             0.4444444444444444,
             "#bd3786"
            ],
            [
             0.5555555555555556,
             "#d8576b"
            ],
            [
             0.6666666666666666,
             "#ed7953"
            ],
            [
             0.7777777777777778,
             "#fb9f3a"
            ],
            [
             0.8888888888888888,
             "#fdca26"
            ],
            [
             1,
             "#f0f921"
            ]
           ]
          },
          "colorway": [
           "#636efa",
           "#EF553B",
           "#00cc96",
           "#ab63fa",
           "#FFA15A",
           "#19d3f3",
           "#FF6692",
           "#B6E880",
           "#FF97FF",
           "#FECB52"
          ],
          "font": {
           "color": "#2a3f5f"
          },
          "geo": {
           "bgcolor": "white",
           "lakecolor": "white",
           "landcolor": "#E5ECF6",
           "showlakes": true,
           "showland": true,
           "subunitcolor": "white"
          },
          "hoverlabel": {
           "align": "left"
          },
          "hovermode": "closest",
          "mapbox": {
           "style": "light"
          },
          "paper_bgcolor": "white",
          "plot_bgcolor": "#E5ECF6",
          "polar": {
           "angularaxis": {
            "gridcolor": "white",
            "linecolor": "white",
            "ticks": ""
           },
           "bgcolor": "#E5ECF6",
           "radialaxis": {
            "gridcolor": "white",
            "linecolor": "white",
            "ticks": ""
           }
          },
          "scene": {
           "xaxis": {
            "backgroundcolor": "#E5ECF6",
            "gridcolor": "white",
            "gridwidth": 2,
            "linecolor": "white",
            "showbackground": true,
            "ticks": "",
            "zerolinecolor": "white"
           },
           "yaxis": {
            "backgroundcolor": "#E5ECF6",
            "gridcolor": "white",
            "gridwidth": 2,
            "linecolor": "white",
            "showbackground": true,
            "ticks": "",
            "zerolinecolor": "white"
           },
           "zaxis": {
            "backgroundcolor": "#E5ECF6",
            "gridcolor": "white",
            "gridwidth": 2,
            "linecolor": "white",
            "showbackground": true,
            "ticks": "",
            "zerolinecolor": "white"
           }
          },
          "shapedefaults": {
           "line": {
            "color": "#2a3f5f"
           }
          },
          "ternary": {
           "aaxis": {
            "gridcolor": "white",
            "linecolor": "white",
            "ticks": ""
           },
           "baxis": {
            "gridcolor": "white",
            "linecolor": "white",
            "ticks": ""
           },
           "bgcolor": "#E5ECF6",
           "caxis": {
            "gridcolor": "white",
            "linecolor": "white",
            "ticks": ""
           }
          },
          "title": {
           "x": 0.05
          },
          "xaxis": {
           "automargin": true,
           "gridcolor": "white",
           "linecolor": "white",
           "ticks": "",
           "title": {
            "standoff": 15
           },
           "zerolinecolor": "white",
           "zerolinewidth": 2
          },
          "yaxis": {
           "automargin": true,
           "gridcolor": "white",
           "linecolor": "white",
           "ticks": "",
           "title": {
            "standoff": 15
           },
           "zerolinecolor": "white",
           "zerolinewidth": 2
          }
         }
        }
       }
      },
      "text/html": [
       "<div>                            <div id=\"6248bb12-09bf-4ca2-ba74-f99e5fbccbd8\" class=\"plotly-graph-div\" style=\"height:525px; width:100%;\"></div>            <script type=\"text/javascript\">                require([\"plotly\"], function(Plotly) {                    window.PLOTLYENV=window.PLOTLYENV || {};                                    if (document.getElementById(\"6248bb12-09bf-4ca2-ba74-f99e5fbccbd8\")) {                    Plotly.newPlot(                        \"6248bb12-09bf-4ca2-ba74-f99e5fbccbd8\",                        [{\"colorbar\":{\"title\":{\"text\":\"World Rainfall in mm for 2021\"}},\"colorscale\":[[0.0,\"rgb(12,51,131)\"],[0.25,\"rgb(10,136,186)\"],[0.5,\"rgb(242,211,56)\"],[0.75,\"rgb(242,143,56)\"],[1.0,\"rgb(217,30,30)\"]],\"locationmode\":\"country names\",\"locations\":[\"United Arab Emirates\",\"Afghanistan\",\"Algeria\",\"Azerbaijan\",\"Armenia\",\"Angola\",\"American Samoa [United States]\",\"Argentina\",\"Australia\",\"Austria\",\"Antarctica\",\"Bahrain\",\"Botswana\",\"Bermuda [United Kingdom]\",\"Belgium\",\"Bahamas, The\",\"Bangladesh\",\"Belize\",\"Bosnia and Herzegovina\",\"Bolivia\",\"Burma\",\"Benin\",\"Belarus\",\"Solomon Islands\",\"Brazil\",\"Bulgaria\",\"Brunei\",\"Canada\",\"Cambodia\",\"Chad\",\"Sri Lanka\",\"Congo (Brazzaville)\",\"Congo (Kinshasa)\",\"China\",\"Chile\",\"Cayman Islands [United Kingdom]\",\"Cameroon\",\"Colombia\",\"Northern Mariana Islands [United States]\",\"Costa Rica\",\"Central African Republic\",\"Cuba\",\"Cape Verde\",\"Cook Islands [New Zealand]\",\"Cyprus\",\"Denmark\",\"Dominican Republic\",\"Ecuador\",\"Egypt\",\"Ireland\",\"Equatorial Guinea\",\"Estonia\",\"El Salvador\",\"Ethiopia\",\"Czech Republic\",\"French Guiana [France]\",\"Finland\",\"Fiji\",\"Falkland Islands (Islas Malvinas) [United Kingdom]\",\"Federated States of Micronesia\",\"French Polynesia\",\"France\",\"Gambia, The\",\"Gabon\",\"Georgia\",\"Ghana\",\"Gibraltar [United Kingdom]\",\"Greenland [Denmark]\",\"Germany\",\"Guam [United States]\",\"Greece\",\"Guinea\",\"Guyana\",\"Honduras\",\"Croatia\",\"Hungary\",\"Indonesia\",\"India\",\"Iran\",\"Israel\",\"Italy\",\"Cote D'Ivoire\",\"Iraq\",\"Japan\",\"Jamaica\",\"Jan Mayen [Norway]\",\"Jordan\",\"Kenya\",\"Kyrgyzstan\",\"Korea, North\",\"Kiribati\",\"Korea, South\",\"Kuwait\",\"Kazakhstan\",\"Laos\",\"Lebanon\",\"Latvia\",\"Lithuania\",\"Liberia\",\"Slovakia\",\"Luxembourg\",\"Libya\",\"Madagascar\",\"Macau S.A.R\",\"Moldova\",\"Mayotte [France]\",\"Mongolia\",\"Malawi\",\"Montenegro\",\"Macedonia\",\"Mali\",\"Morocco\",\"Mauritius\",\"Mauritania\",\"Malta\",\"Oman\",\"Maldives\",\"Mexico\",\"Malaysia\",\"Mozambique\",\"Norfolk Island [Australia]\",\"Niger\",\"Vanuatu\",\"Nigeria\",\"Netherlands\",\"Norway\",\"Nepal\",\"Suriname\",\"New Zealand\",\"Paraguay\",\"Peru\",\"Pakistan\",\"Poland\",\"Portugal\",\"Papua New Guinea\",\"Palau\",\"Qatar\",\"Reunion [France]\",\"Serbia\",\"Marshall Islands\",\"Romania\",\"Philippines\",\"Puerto Rico [United States]\",\"Russia\",\"Rwanda\",\"Saudi Arabia\",\"Saint Pierre and Miquelon [France]\",\"Seychelles\",\"South Africa\",\"Senegal\",\"Slovenia\",\"Singapore\",\"Spain\",\"Svalbard [Norway]\",\"Sweden\",\"Syria\",\"Switzerland\",\"Trinidad and Tobago\",\"Thailand\",\"Tajikistan\",\"Togo\",\"Tunisia\",\"Turkey\",\"Tuvalu\",\"Turkmenistan\",\"Tanzania\",\"United Kingdom\",\"Ukraine\",\"United States\",\"Burkina Faso\",\"Uruguay\",\"Uzbekistan\",\"Venezuela\",\"Vietnam\",\"Virgin Islands [United States]\",\"Namibia\",\"Wallis and Futuna [France]\",\"Western Sahara\",\"Wake Island [United States]\",\"Zambia\"],\"marker\":{\"line\":{\"color\":\"rgb(255,255,255)\",\"width\":2}},\"z\":[0.0,3.32,1.0549363605091082,10.694196642685784,3.0667723525681736,10.035135135135137,8.643424657534213,6.061295856426502,2.353540471010165,3.449777183600712,1.8118577981651616,4.804347826086956,4.86109510086455,4.539062499999994,2.8778393351800524,3.08857763825162,0.0,4.2871428571428565,3.2850267379679186,8.974227831285171,15.58785607196402,7.68605898123325,3.851080332410015,6.8581712062256965,5.826273077703371,2.0121338912133915,12.517171717171722,2.630422823607932,16.419999999999998,9.12380952380952,5.448487668683107,8.456480000000006,12.687804878048782,2.4998732153684684,1.1695833333333452,3.9717391304347793,10.968997668997677,4.400653594771244,6.4954337899543795,10.968067226890767,9.28666666666667,4.224000000000001,5.621875,5.219999999999998,0.6695783132530119,2.1926102502979683,5.0036842105263135,6.017000000000012,8.572500000000002,3.2513101983003008,8.318954248366008,1.7079512035726103,8.70564102564102,8.648218527315915,2.958406395048982,13.319373219373233,1.7690096096660477,7.447423352902793,0.9913407821229068,11.398317054846178,3.5300759013282925,2.0243715632365458,12.011940298507461,9.287150837988829,1.807916666666668,7.607177033492833,1.821921921921922,2.429036827195457,2.1919923818329847,7.303743315508004,1.6594491927825328,17.975694444444443,9.048067632850248,3.772431506849319,2.6718262806236077,1.794908616187988,16.66468401486991,11.113386771017575,0.4878565127903592,2.2964227642276414,1.7258663148636535,8.265289672544071,0.14337349397590365,5.847663632049074,2.580279503105588,1.6887671232876718,1.2425,5.035883424408009,12.785207100591716,12.893083573487045,2.611614730878186,10.468614891913534,1.0511363636363635,12.997058823529407,11.591225626740949,2.562886597938145,2.178037904124868,3.3786936236392204,14.5,2.7730266893810454,2.2231671554252204,3.723841059602648,8.696912114014244,5.341193181818178,7.226370757180152,3.0387005649717485,6.270220588235327,4.7980392156862735,4.777385725741781,1.5738035264483596,7.4768217734855265,1.1218512898330906,4.184708893154205,1.318181818181818,1.0828478964401296,1.9174911660777323,0.6522255192878348,2.0586373361127808,9.008645161290348,6.733044846577508,2.9213235294117648,5.996675531914892,10.336043587594316,14.864748201438838,2.2947363620610783,3.051893315403332,4.379331306990881,8.181615598885791,3.0592211055276093,9.656763754045302,6.423153692614783,4.250655294362386,2.3406487232574413,3.768047337278104,5.428260869565218,9.955801104972394,1.5438095238095235,3.9207756232686943,2.090858208955221,8.351367521367479,1.9646060606060736,10.330922844175413,4.148632491406592,1.564036683252113,8.845086705202313,9.863768115942033,2.7238095238095226,5.4198847262247805,4.760844490216258,10.14627994955865,3.4866220735785913,8.158357771260999,1.5427842363317523,1.3854748603351972,1.8821425632736355,9.308510638297877,3.903023332237923,5.368876080691641,9.7093436480119,7.117346938775513,7.816522811344032,0.5638713745271114,2.8431083958158982,7.760643564356434,1.5536437246963564,9.065543071161066,2.669628847314335,4.075517890772119,2.880685902343932,7.312958715596337,3.091610987379368,4.6129533678756465,0.0,6.534420376100887,2.3804919184820066,6.132217573221753,7.054929577464784,1.2121212121212122,0.0,16.060000000000002],\"type\":\"choropleth\"}],                        {\"geo\":{\"scope\":\"world\"},\"template\":{\"data\":{\"histogram2dcontour\":[{\"type\":\"histogram2dcontour\",\"colorbar\":{\"outlinewidth\":0,\"ticks\":\"\"},\"colorscale\":[[0.0,\"#0d0887\"],[0.1111111111111111,\"#46039f\"],[0.2222222222222222,\"#7201a8\"],[0.3333333333333333,\"#9c179e\"],[0.4444444444444444,\"#bd3786\"],[0.5555555555555556,\"#d8576b\"],[0.6666666666666666,\"#ed7953\"],[0.7777777777777778,\"#fb9f3a\"],[0.8888888888888888,\"#fdca26\"],[1.0,\"#f0f921\"]]}],\"choropleth\":[{\"type\":\"choropleth\",\"colorbar\":{\"outlinewidth\":0,\"ticks\":\"\"}}],\"histogram2d\":[{\"type\":\"histogram2d\",\"colorbar\":{\"outlinewidth\":0,\"ticks\":\"\"},\"colorscale\":[[0.0,\"#0d0887\"],[0.1111111111111111,\"#46039f\"],[0.2222222222222222,\"#7201a8\"],[0.3333333333333333,\"#9c179e\"],[0.4444444444444444,\"#bd3786\"],[0.5555555555555556,\"#d8576b\"],[0.6666666666666666,\"#ed7953\"],[0.7777777777777778,\"#fb9f3a\"],[0.8888888888888888,\"#fdca26\"],[1.0,\"#f0f921\"]]}],\"heatmap\":[{\"type\":\"heatmap\",\"colorbar\":{\"outlinewidth\":0,\"ticks\":\"\"},\"colorscale\":[[0.0,\"#0d0887\"],[0.1111111111111111,\"#46039f\"],[0.2222222222222222,\"#7201a8\"],[0.3333333333333333,\"#9c179e\"],[0.4444444444444444,\"#bd3786\"],[0.5555555555555556,\"#d8576b\"],[0.6666666666666666,\"#ed7953\"],[0.7777777777777778,\"#fb9f3a\"],[0.8888888888888888,\"#fdca26\"],[1.0,\"#f0f921\"]]}],\"heatmapgl\":[{\"type\":\"heatmapgl\",\"colorbar\":{\"outlinewidth\":0,\"ticks\":\"\"},\"colorscale\":[[0.0,\"#0d0887\"],[0.1111111111111111,\"#46039f\"],[0.2222222222222222,\"#7201a8\"],[0.3333333333333333,\"#9c179e\"],[0.4444444444444444,\"#bd3786\"],[0.5555555555555556,\"#d8576b\"],[0.6666666666666666,\"#ed7953\"],[0.7777777777777778,\"#fb9f3a\"],[0.8888888888888888,\"#fdca26\"],[1.0,\"#f0f921\"]]}],\"contourcarpet\":[{\"type\":\"contourcarpet\",\"colorbar\":{\"outlinewidth\":0,\"ticks\":\"\"}}],\"contour\":[{\"type\":\"contour\",\"colorbar\":{\"outlinewidth\":0,\"ticks\":\"\"},\"colorscale\":[[0.0,\"#0d0887\"],[0.1111111111111111,\"#46039f\"],[0.2222222222222222,\"#7201a8\"],[0.3333333333333333,\"#9c179e\"],[0.4444444444444444,\"#bd3786\"],[0.5555555555555556,\"#d8576b\"],[0.6666666666666666,\"#ed7953\"],[0.7777777777777778,\"#fb9f3a\"],[0.8888888888888888,\"#fdca26\"],[1.0,\"#f0f921\"]]}],\"surface\":[{\"type\":\"surface\",\"colorbar\":{\"outlinewidth\":0,\"ticks\":\"\"},\"colorscale\":[[0.0,\"#0d0887\"],[0.1111111111111111,\"#46039f\"],[0.2222222222222222,\"#7201a8\"],[0.3333333333333333,\"#9c179e\"],[0.4444444444444444,\"#bd3786\"],[0.5555555555555556,\"#d8576b\"],[0.6666666666666666,\"#ed7953\"],[0.7777777777777778,\"#fb9f3a\"],[0.8888888888888888,\"#fdca26\"],[1.0,\"#f0f921\"]]}],\"mesh3d\":[{\"type\":\"mesh3d\",\"colorbar\":{\"outlinewidth\":0,\"ticks\":\"\"}}],\"scatter\":[{\"fillpattern\":{\"fillmode\":\"overlay\",\"size\":10,\"solidity\":0.2},\"type\":\"scatter\"}],\"parcoords\":[{\"type\":\"parcoords\",\"line\":{\"colorbar\":{\"outlinewidth\":0,\"ticks\":\"\"}}}],\"scatterpolargl\":[{\"type\":\"scatterpolargl\",\"marker\":{\"colorbar\":{\"outlinewidth\":0,\"ticks\":\"\"}}}],\"bar\":[{\"error_x\":{\"color\":\"#2a3f5f\"},\"error_y\":{\"color\":\"#2a3f5f\"},\"marker\":{\"line\":{\"color\":\"#E5ECF6\",\"width\":0.5},\"pattern\":{\"fillmode\":\"overlay\",\"size\":10,\"solidity\":0.2}},\"type\":\"bar\"}],\"scattergeo\":[{\"type\":\"scattergeo\",\"marker\":{\"colorbar\":{\"outlinewidth\":0,\"ticks\":\"\"}}}],\"scatterpolar\":[{\"type\":\"scatterpolar\",\"marker\":{\"colorbar\":{\"outlinewidth\":0,\"ticks\":\"\"}}}],\"histogram\":[{\"marker\":{\"pattern\":{\"fillmode\":\"overlay\",\"size\":10,\"solidity\":0.2}},\"type\":\"histogram\"}],\"scattergl\":[{\"type\":\"scattergl\",\"marker\":{\"colorbar\":{\"outlinewidth\":0,\"ticks\":\"\"}}}],\"scatter3d\":[{\"type\":\"scatter3d\",\"line\":{\"colorbar\":{\"outlinewidth\":0,\"ticks\":\"\"}},\"marker\":{\"colorbar\":{\"outlinewidth\":0,\"ticks\":\"\"}}}],\"scattermapbox\":[{\"type\":\"scattermapbox\",\"marker\":{\"colorbar\":{\"outlinewidth\":0,\"ticks\":\"\"}}}],\"scatterternary\":[{\"type\":\"scatterternary\",\"marker\":{\"colorbar\":{\"outlinewidth\":0,\"ticks\":\"\"}}}],\"scattercarpet\":[{\"type\":\"scattercarpet\",\"marker\":{\"colorbar\":{\"outlinewidth\":0,\"ticks\":\"\"}}}],\"carpet\":[{\"aaxis\":{\"endlinecolor\":\"#2a3f5f\",\"gridcolor\":\"white\",\"linecolor\":\"white\",\"minorgridcolor\":\"white\",\"startlinecolor\":\"#2a3f5f\"},\"baxis\":{\"endlinecolor\":\"#2a3f5f\",\"gridcolor\":\"white\",\"linecolor\":\"white\",\"minorgridcolor\":\"white\",\"startlinecolor\":\"#2a3f5f\"},\"type\":\"carpet\"}],\"table\":[{\"cells\":{\"fill\":{\"color\":\"#EBF0F8\"},\"line\":{\"color\":\"white\"}},\"header\":{\"fill\":{\"color\":\"#C8D4E3\"},\"line\":{\"color\":\"white\"}},\"type\":\"table\"}],\"barpolar\":[{\"marker\":{\"line\":{\"color\":\"#E5ECF6\",\"width\":0.5},\"pattern\":{\"fillmode\":\"overlay\",\"size\":10,\"solidity\":0.2}},\"type\":\"barpolar\"}],\"pie\":[{\"automargin\":true,\"type\":\"pie\"}]},\"layout\":{\"autotypenumbers\":\"strict\",\"colorway\":[\"#636efa\",\"#EF553B\",\"#00cc96\",\"#ab63fa\",\"#FFA15A\",\"#19d3f3\",\"#FF6692\",\"#B6E880\",\"#FF97FF\",\"#FECB52\"],\"font\":{\"color\":\"#2a3f5f\"},\"hovermode\":\"closest\",\"hoverlabel\":{\"align\":\"left\"},\"paper_bgcolor\":\"white\",\"plot_bgcolor\":\"#E5ECF6\",\"polar\":{\"bgcolor\":\"#E5ECF6\",\"angularaxis\":{\"gridcolor\":\"white\",\"linecolor\":\"white\",\"ticks\":\"\"},\"radialaxis\":{\"gridcolor\":\"white\",\"linecolor\":\"white\",\"ticks\":\"\"}},\"ternary\":{\"bgcolor\":\"#E5ECF6\",\"aaxis\":{\"gridcolor\":\"white\",\"linecolor\":\"white\",\"ticks\":\"\"},\"baxis\":{\"gridcolor\":\"white\",\"linecolor\":\"white\",\"ticks\":\"\"},\"caxis\":{\"gridcolor\":\"white\",\"linecolor\":\"white\",\"ticks\":\"\"}},\"coloraxis\":{\"colorbar\":{\"outlinewidth\":0,\"ticks\":\"\"}},\"colorscale\":{\"sequential\":[[0.0,\"#0d0887\"],[0.1111111111111111,\"#46039f\"],[0.2222222222222222,\"#7201a8\"],[0.3333333333333333,\"#9c179e\"],[0.4444444444444444,\"#bd3786\"],[0.5555555555555556,\"#d8576b\"],[0.6666666666666666,\"#ed7953\"],[0.7777777777777778,\"#fb9f3a\"],[0.8888888888888888,\"#fdca26\"],[1.0,\"#f0f921\"]],\"sequentialminus\":[[0.0,\"#0d0887\"],[0.1111111111111111,\"#46039f\"],[0.2222222222222222,\"#7201a8\"],[0.3333333333333333,\"#9c179e\"],[0.4444444444444444,\"#bd3786\"],[0.5555555555555556,\"#d8576b\"],[0.6666666666666666,\"#ed7953\"],[0.7777777777777778,\"#fb9f3a\"],[0.8888888888888888,\"#fdca26\"],[1.0,\"#f0f921\"]],\"diverging\":[[0,\"#8e0152\"],[0.1,\"#c51b7d\"],[0.2,\"#de77ae\"],[0.3,\"#f1b6da\"],[0.4,\"#fde0ef\"],[0.5,\"#f7f7f7\"],[0.6,\"#e6f5d0\"],[0.7,\"#b8e186\"],[0.8,\"#7fbc41\"],[0.9,\"#4d9221\"],[1,\"#276419\"]]},\"xaxis\":{\"gridcolor\":\"white\",\"linecolor\":\"white\",\"ticks\":\"\",\"title\":{\"standoff\":15},\"zerolinecolor\":\"white\",\"automargin\":true,\"zerolinewidth\":2},\"yaxis\":{\"gridcolor\":\"white\",\"linecolor\":\"white\",\"ticks\":\"\",\"title\":{\"standoff\":15},\"zerolinecolor\":\"white\",\"automargin\":true,\"zerolinewidth\":2},\"scene\":{\"xaxis\":{\"backgroundcolor\":\"#E5ECF6\",\"gridcolor\":\"white\",\"linecolor\":\"white\",\"showbackground\":true,\"ticks\":\"\",\"zerolinecolor\":\"white\",\"gridwidth\":2},\"yaxis\":{\"backgroundcolor\":\"#E5ECF6\",\"gridcolor\":\"white\",\"linecolor\":\"white\",\"showbackground\":true,\"ticks\":\"\",\"zerolinecolor\":\"white\",\"gridwidth\":2},\"zaxis\":{\"backgroundcolor\":\"#E5ECF6\",\"gridcolor\":\"white\",\"linecolor\":\"white\",\"showbackground\":true,\"ticks\":\"\",\"zerolinecolor\":\"white\",\"gridwidth\":2}},\"shapedefaults\":{\"line\":{\"color\":\"#2a3f5f\"}},\"annotationdefaults\":{\"arrowcolor\":\"#2a3f5f\",\"arrowhead\":0,\"arrowwidth\":1},\"geo\":{\"bgcolor\":\"white\",\"landcolor\":\"#E5ECF6\",\"subunitcolor\":\"white\",\"showland\":true,\"showlakes\":true,\"lakecolor\":\"white\"},\"title\":{\"x\":0.05},\"mapbox\":{\"style\":\"light\"}}}},                        {\"responsive\": true}                    ).then(function(){\n",
       "                            \n",
       "var gd = document.getElementById('6248bb12-09bf-4ca2-ba74-f99e5fbccbd8');\n",
       "var x = new MutationObserver(function (mutations, observer) {{\n",
       "        var display = window.getComputedStyle(gd).display;\n",
       "        if (!display || display === 'none') {{\n",
       "            console.log([gd, 'removed!']);\n",
       "            Plotly.purge(gd);\n",
       "            observer.disconnect();\n",
       "        }}\n",
       "}});\n",
       "\n",
       "// Listen for the removal of the full notebook cells\n",
       "var notebookContainer = gd.closest('#notebook-container');\n",
       "if (notebookContainer) {{\n",
       "    x.observe(notebookContainer, {childList: true});\n",
       "}}\n",
       "\n",
       "// Listen for the clearing of the current output cell\n",
       "var outputEl = gd.closest('.output');\n",
       "if (outputEl) {{\n",
       "    x.observe(outputEl, {childList: true});\n",
       "}}\n",
       "\n",
       "                        })                };                });            </script>        </div>"
      ]
     },
     "metadata": {},
     "output_type": "display_data"
    }
   ],
   "source": [
    "#Color world map using choropleth \n",
    "choropleth_map = go.Figure(\n",
    "    data = {\n",
    "        'type':'choropleth',\n",
    "        'locations':rainfall_2021['COUNTRY_NAME'],\n",
    "        'locationmode':'country names',\n",
    "        'colorscale':'Portland',\n",
    "        'z':rainfall_2021['AVERAGE_RAINFALL'],\n",
    "        'colorbar':{'title':'World Rainfall in mm for 2021'},\n",
    "        'marker': {\n",
    "            'line': {\n",
    "                'color':'rgb(255,255,255)',\n",
    "                'width':2\n",
    "            }\n",
    "        }\n",
    "    },    \n",
    "    layout = {      \n",
    "      'geo':{\n",
    "          'scope':'world',\n",
    "      }  \n",
    "    })\n",
    "choropleth_map"
   ]
  }
 ],
 "metadata": {
  "kernelspec": {
   "display_name": "Python 3",
   "language": "python",
   "name": "python3"
  },
  "language_info": {
   "codemirror_mode": {
    "name": "ipython",
    "version": 3
   },
   "file_extension": ".py",
   "mimetype": "text/x-python",
   "name": "python",
   "nbconvert_exporter": "python",
   "pygments_lexer": "ipython3",
   "version": "3.8.5"
  }
 },
 "nbformat": 4,
 "nbformat_minor": 4
}
