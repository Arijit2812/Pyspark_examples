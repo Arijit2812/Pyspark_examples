{
 "cells": [
  {
   "cell_type": "markdown",
   "metadata": {},
   "source": [
    "**Spark notebook**\n",
    "\n",
    "This notebook will only work in a Jupyter session running on `mathmadslinux2p`.\n",
    "\n",
    "You can start your own Jupyter session on `mathmadslinux2p` and open this notebook in Chrome on the MADS Windows server by\n",
    "\n",
    "1. Login to the MADS Windows server using https://mathportal.canterbury.ac.nz/.\n",
    "2. Download or copy this notebook to your home directory.\n",
    "3. Open powershell and run `ssh mathmadslinux2p`.\n",
    "4. Run `start_pyspark_notebook` or `/opt/anaconda3/bin/jupyter-notebook --ip 132.181.129.68 --port $((8000 + $((RANDOM % 999))))`.\n",
    "5. Copy / paste the url provided in the shell window into Chrome on the MADS Windows server.\n",
    "6. Open the notebook from the Jupyter root directory (which is your home directory).\n",
    "7. Run `start_spark()` to start a spark session in the notebook.\n",
    "8. Run `stop_spark()` before closing the notebook or kill your spark application by hand using the link in the Spark UI."
   ]
  },
  {
   "cell_type": "code",
   "execution_count": 1,
   "metadata": {},
   "outputs": [
    {
     "data": {
      "text/html": [
       "<style>pre { white-space: pre !important; }table.dataframe td { white-space: nowrap !important; }table.dataframe thead th:first-child, table.dataframe tbody th { display: none; }</style>"
      ],
      "text/plain": [
       "<IPython.core.display.HTML object>"
      ]
     },
     "metadata": {},
     "output_type": "display_data"
    },
    {
     "name": "stdout",
     "output_type": "stream",
     "text": [
      "Help on function start_spark in module __main__:\n",
      "\n",
      "start_spark(executor_instances=2, executor_cores=1, worker_memory=1, master_memory=1)\n",
      "    Start a new Spark session and define globals for SparkSession (spark) and SparkContext (sc).\n",
      "    \n",
      "    Args:\n",
      "        executor_instances (int): number of executors (default: 2)\n",
      "        executor_cores (int): number of cores per executor (default: 1)\n",
      "        worker_memory (float): worker memory (default: 1)\n",
      "        master_memory (float): master memory (default: 1)\n",
      "\n",
      "Help on function stop_spark in module __main__:\n",
      "\n",
      "stop_spark()\n",
      "    Stop the active Spark session and delete globals for SparkSession (spark) and SparkContext (sc).\n",
      "\n",
      "Help on function display_spark in module __main__:\n",
      "\n",
      "display_spark()\n",
      "    Display the status of the active Spark session if one is currently running.\n",
      "\n",
      "Help on function show_as_html in module __main__:\n",
      "\n",
      "show_as_html(df, n=20)\n",
      "    Leverage existing pandas jupyter integration to show a spark dataframe as html.\n",
      "    \n",
      "    Args:\n",
      "        n (int): number of rows to show (default: 20)\n",
      "\n"
     ]
    }
   ],
   "source": [
    "# Run this cell to import pyspark and to define start_spark() and stop_spark()\n",
    "\n",
    "import findspark\n",
    "\n",
    "findspark.init()\n",
    "\n",
    "import getpass\n",
    "import pandas as pd\n",
    "import pyspark\n",
    "import random\n",
    "import re\n",
    "\n",
    "from IPython.display import display, HTML\n",
    "from pyspark import SparkContext\n",
    "from pyspark.sql import SparkSession\n",
    "\n",
    "\n",
    "# Functions used below\n",
    "\n",
    "def username():\n",
    "    \"\"\"Get username with any domain information removed.\n",
    "    \"\"\"\n",
    "\n",
    "    return re.sub('@.*', '', getpass.getuser())\n",
    "\n",
    "\n",
    "def dict_to_html(d):\n",
    "    \"\"\"Convert a Python dictionary into a two column table for display.\n",
    "    \"\"\"\n",
    "\n",
    "    html = []\n",
    "\n",
    "    html.append(f'<table width=\"100%\" style=\"width:100%; font-family: monospace;\">')\n",
    "    for k, v in d.items():\n",
    "        html.append(f'<tr><td style=\"text-align:left;\">{k}</td><td>{v}</td></tr>')\n",
    "    html.append(f'</table>')\n",
    "\n",
    "    return ''.join(html)\n",
    "\n",
    "\n",
    "def show_as_html(df, n=20):\n",
    "    \"\"\"Leverage existing pandas jupyter integration to show a spark dataframe as html.\n",
    "    \n",
    "    Args:\n",
    "        n (int): number of rows to show (default: 20)\n",
    "    \"\"\"\n",
    "\n",
    "    display(df.limit(n).toPandas())\n",
    "\n",
    "    \n",
    "def display_spark():\n",
    "    \"\"\"Display the status of the active Spark session if one is currently running.\n",
    "    \"\"\"\n",
    "    \n",
    "    if 'spark' in globals() and 'sc' in globals():\n",
    "\n",
    "        name = sc.getConf().get(\"spark.app.name\")\n",
    "        \n",
    "        html = [\n",
    "            f'<p><b>Spark</b></p>',\n",
    "            f'<p>The spark session is <b><span style=\"color:green\">active</span></b>, look for <code>{name}</code> under the running applications section in the Spark UI.</p>',\n",
    "            f'<ul>',\n",
    "            f'<li><a href=\"http://mathmadslinux2p.canterbury.ac.nz:8080/\" target=\"_blank\">Spark UI</a></li>',\n",
    "            f'<li><a href=\"{sc.uiWebUrl}\" target=\"_blank\">Spark Application UI</a></li>',\n",
    "            f'</ul>',\n",
    "            f'<p><b>Config</b></p>',\n",
    "            dict_to_html(dict(sc.getConf().getAll())),\n",
    "            f'<p><b>Notes</b></p>',\n",
    "            f'<ul>',\n",
    "            f'<li>The spark session <code>spark</code> and spark context <code>sc</code> global variables have been defined by <code>start_spark()</code>.</li>',\n",
    "            f'<li>Please run <code>stop_spark()</code> before closing the notebook or restarting the kernel or kill <code>{name}</code> by hand using the link in the Spark UI.</li>',\n",
    "            f'</ul>',\n",
    "        ]\n",
    "        display(HTML(''.join(html)))\n",
    "        \n",
    "    else:\n",
    "        \n",
    "        html = [\n",
    "            f'<p><b>Spark</b></p>',\n",
    "            f'<p>The spark session is <b><span style=\"color:red\">stopped</span></b>, confirm that <code>{username() + \" (jupyter)\"}</code> is under the completed applications section in the Spark UI.</p>',\n",
    "            f'<ul>',\n",
    "            f'<li><a href=\"http://mathmadslinux2p.canterbury.ac.nz:8080/\" target=\"_blank\">Spark UI</a></li>',\n",
    "            f'</ul>',\n",
    "        ]\n",
    "        display(HTML(''.join(html)))\n",
    "\n",
    "\n",
    "# Functions to start and stop spark\n",
    "\n",
    "def start_spark(executor_instances=2, executor_cores=1, worker_memory=1, master_memory=1):\n",
    "    \"\"\"Start a new Spark session and define globals for SparkSession (spark) and SparkContext (sc).\n",
    "    \n",
    "    Args:\n",
    "        executor_instances (int): number of executors (default: 2)\n",
    "        executor_cores (int): number of cores per executor (default: 1)\n",
    "        worker_memory (float): worker memory (default: 1)\n",
    "        master_memory (float): master memory (default: 1)\n",
    "    \"\"\"\n",
    "\n",
    "    global spark\n",
    "    global sc\n",
    "\n",
    "    user = username()\n",
    "    \n",
    "    cores = executor_instances * executor_cores\n",
    "    partitions = cores * 4\n",
    "    port = 4000 + random.randint(1, 999)\n",
    "\n",
    "    spark = (\n",
    "        SparkSession.builder\n",
    "        .master(\"spark://masternode2:7077\")\n",
    "        .config(\"spark.driver.extraJavaOptions\", f\"-Dderby.system.home=/tmp/{user}/spark/\")\n",
    "        .config(\"spark.dynamicAllocation.enabled\", \"false\")\n",
    "        .config(\"spark.executor.instances\", str(executor_instances))\n",
    "        .config(\"spark.executor.cores\", str(executor_cores))\n",
    "        .config(\"spark.cores.max\", str(cores))\n",
    "        .config(\"spark.executor.memory\", f\"{worker_memory}g\")\n",
    "        .config(\"spark.driver.memory\", f\"{master_memory}g\")\n",
    "        .config(\"spark.driver.maxResultSize\", \"0\")\n",
    "        .config(\"spark.sql.shuffle.partitions\", str(partitions))\n",
    "        .config(\"spark.ui.port\", str(port))\n",
    "        .appName(user + \" (jupyter)\")\n",
    "        .getOrCreate()\n",
    "    )\n",
    "    sc = SparkContext.getOrCreate()\n",
    "    \n",
    "    display_spark()\n",
    "\n",
    "    \n",
    "def stop_spark():\n",
    "    \"\"\"Stop the active Spark session and delete globals for SparkSession (spark) and SparkContext (sc).\n",
    "    \"\"\"\n",
    "\n",
    "    global spark\n",
    "    global sc\n",
    "\n",
    "    if 'spark' in globals() and 'sc' in globals():\n",
    "\n",
    "        spark.stop()\n",
    "\n",
    "        del spark\n",
    "        del sc\n",
    "\n",
    "    display_spark()\n",
    "\n",
    "\n",
    "# Make css changes to improve spark output readability\n",
    "\n",
    "html = [\n",
    "    '<style>',\n",
    "    'pre { white-space: pre !important; }',\n",
    "    'table.dataframe td { white-space: nowrap !important; }',\n",
    "    'table.dataframe thead th:first-child, table.dataframe tbody th { display: none; }',\n",
    "    '</style>',\n",
    "]\n",
    "display(HTML(''.join(html)))\n",
    "\n",
    "\n",
    "# Print function docstrings\n",
    "\n",
    "help(start_spark)\n",
    "help(stop_spark)\n",
    "help(display_spark)\n",
    "help(show_as_html)"
   ]
  },
  {
   "cell_type": "code",
   "execution_count": 2,
   "metadata": {},
   "outputs": [
    {
     "data": {
      "text/html": [
       "<p><b>Spark</b></p><p>The spark session is <b><span style=\"color:green\">active</span></b>, look for <code>abh89 (jupyter)</code> under the running applications section in the Spark UI.</p><ul><li><a href=\"http://mathmadslinux2p.canterbury.ac.nz:8080/\" target=\"_blank\">Spark UI</a></li><li><a href=\"http://mathmadslinux2p.canterbury.ac.nz:4183\" target=\"_blank\">Spark Application UI</a></li></ul><p><b>Config</b></p><table width=\"100%\" style=\"width:100%; font-family: monospace;\"><tr><td style=\"text-align:left;\">spark.dynamicAllocation.enabled</td><td>false</td></tr><tr><td style=\"text-align:left;\">spark.driver.extraJavaOptions</td><td>-Dderby.system.home=/tmp/abh89/spark/</td></tr><tr><td style=\"text-align:left;\">spark.app.name</td><td>abh89 (jupyter)</td></tr><tr><td style=\"text-align:left;\">spark.master</td><td>spark://masternode2:7077</td></tr><tr><td style=\"text-align:left;\">spark.driver.port</td><td>43679</td></tr><tr><td style=\"text-align:left;\">spark.app.startTime</td><td>1663076150207</td></tr><tr><td style=\"text-align:left;\">spark.executor.id</td><td>driver</td></tr><tr><td style=\"text-align:left;\">spark.sql.warehouse.dir</td><td>file:/users/home/abh89/spark/spark-warehouse</td></tr><tr><td style=\"text-align:left;\">spark.driver.memory</td><td>1g</td></tr><tr><td style=\"text-align:left;\">spark.driver.host</td><td>mathmadslinux2p.canterbury.ac.nz</td></tr><tr><td style=\"text-align:left;\">spark.app.id</td><td>app-20220914013552-0643</td></tr><tr><td style=\"text-align:left;\">spark.ui.port</td><td>4183</td></tr><tr><td style=\"text-align:left;\">spark.executor.memory</td><td>1g</td></tr><tr><td style=\"text-align:left;\">spark.rdd.compress</td><td>True</td></tr><tr><td style=\"text-align:left;\">spark.executor.instances</td><td>2</td></tr><tr><td style=\"text-align:left;\">spark.serializer.objectStreamReset</td><td>100</td></tr><tr><td style=\"text-align:left;\">spark.driver.maxResultSize</td><td>0</td></tr><tr><td style=\"text-align:left;\">spark.cores.max</td><td>2</td></tr><tr><td style=\"text-align:left;\">spark.submit.pyFiles</td><td></td></tr><tr><td style=\"text-align:left;\">spark.executor.cores</td><td>1</td></tr><tr><td style=\"text-align:left;\">spark.submit.deployMode</td><td>client</td></tr><tr><td style=\"text-align:left;\">spark.sql.shuffle.partitions</td><td>8</td></tr><tr><td style=\"text-align:left;\">spark.ui.showConsoleProgress</td><td>true</td></tr></table><p><b>Notes</b></p><ul><li>The spark session <code>spark</code> and spark context <code>sc</code> global variables have been defined by <code>start_spark()</code>.</li><li>Please run <code>stop_spark()</code> before closing the notebook or restarting the kernel or kill <code>abh89 (jupyter)</code> by hand using the link in the Spark UI.</li></ul>"
      ],
      "text/plain": [
       "<IPython.core.display.HTML object>"
      ]
     },
     "metadata": {},
     "output_type": "display_data"
    }
   ],
   "source": [
    "# Run this cell to start a spark session in this notebook\n",
    "\n",
    "start_spark(executor_instances=2, executor_cores=1, worker_memory=1, master_memory=1)\n",
    "#start_spark(executor_instances=4, executor_cores=2, worker_memory=4, master_memory=4)"
   ]
  },
  {
   "cell_type": "code",
   "execution_count": 3,
   "metadata": {},
   "outputs": [],
   "source": [
    "# Write your imports and code here or insert cells below\n",
    "\n",
    "from pyspark.sql import Row, DataFrame, Window, functions as F\n",
    "from pyspark.sql.types import *"
   ]
  },
  {
   "cell_type": "code",
   "execution_count": null,
   "metadata": {},
   "outputs": [],
   "source": [
    "#Processing Q1"
   ]
  },
  {
   "cell_type": "code",
   "execution_count": 4,
   "metadata": {},
   "outputs": [
    {
     "name": "stdout",
     "output_type": "stream",
     "text": [
      "Found 260 items\n",
      "-rw-r--r--   8 jsw93 supergroup      3.3 K 2021-08-09 15:08 /data/ghcnd/daily/1763.csv.gz\n",
      "-rw-r--r--   8 jsw93 supergroup      3.2 K 2021-08-09 15:03 /data/ghcnd/daily/1764.csv.gz\n",
      "-rw-r--r--   8 jsw93 supergroup      3.3 K 2021-08-09 15:03 /data/ghcnd/daily/1765.csv.gz\n",
      "-rw-r--r--   8 jsw93 supergroup      3.3 K 2021-08-09 14:56 /data/ghcnd/daily/1766.csv.gz\n",
      "-rw-r--r--   8 jsw93 supergroup      3.3 K 2021-08-09 15:06 /data/ghcnd/daily/1767.csv.gz\n",
      "-rw-r--r--   8 jsw93 supergroup      3.2 K 2021-08-09 15:02 /data/ghcnd/daily/1768.csv.gz\n",
      "-rw-r--r--   8 jsw93 supergroup      3.3 K 2021-08-09 15:03 /data/ghcnd/daily/1769.csv.gz\n",
      "-rw-r--r--   8 jsw93 supergroup      3.3 K 2021-08-09 15:07 /data/ghcnd/daily/1770.csv.gz\n",
      "-rw-r--r--   8 jsw93 supergroup      3.3 K 2021-08-09 15:06 /data/ghcnd/daily/1771.csv.gz\n",
      "-rw-r--r--   8 jsw93 supergroup      3.3 K 2021-08-09 15:05 /data/ghcnd/daily/1772.csv.gz\n",
      "-rw-r--r--   8 jsw93 supergroup      3.3 K 2021-08-09 15:08 /data/ghcnd/daily/1773.csv.gz\n",
      "-rw-r--r--   8 jsw93 supergroup      3.3 K 2021-08-09 15:03 /data/ghcnd/daily/1774.csv.gz\n",
      "-rw-r--r--   8 jsw93 supergroup      6.3 K 2021-08-09 14:59 /data/ghcnd/daily/1775.csv.gz\n",
      "-rw-r--r--   8 jsw93 supergroup      6.3 K 2021-08-09 15:06 /data/ghcnd/daily/1776.csv.gz\n",
      "-rw-r--r--   8 jsw93 supergroup      6.3 K 2021-08-09 15:06 /data/ghcnd/daily/1777.csv.gz\n",
      "-rw-r--r--   8 jsw93 supergroup      6.1 K 2021-08-09 14:57 /data/ghcnd/daily/1778.csv.gz\n",
      "-rw-r--r--   8 jsw93 supergroup      6.0 K 2021-08-09 15:03 /data/ghcnd/daily/1779.csv.gz\n",
      "-rw-r--r--   8 jsw93 supergroup      6.1 K 2021-08-09 14:57 /data/ghcnd/daily/1780.csv.gz\n",
      "-rw-r--r--   8 jsw93 supergroup      7.5 K 2021-08-09 15:00 /data/ghcnd/daily/1781.csv.gz\n",
      "-rw-r--r--   8 jsw93 supergroup      7.6 K 2021-08-09 15:00 /data/ghcnd/daily/1782.csv.gz\n",
      "-rw-r--r--   8 jsw93 supergroup      7.7 K 2021-08-09 15:07 /data/ghcnd/daily/1783.csv.gz\n",
      "-rw-r--r--   8 jsw93 supergroup      7.7 K 2021-08-09 15:00 /data/ghcnd/daily/1784.csv.gz\n",
      "-rw-r--r--   8 jsw93 supergroup      7.6 K 2021-08-09 15:07 /data/ghcnd/daily/1785.csv.gz\n",
      "-rw-r--r--   8 jsw93 supergroup      7.7 K 2021-08-09 14:59 /data/ghcnd/daily/1786.csv.gz\n",
      "-rw-r--r--   8 jsw93 supergroup      6.2 K 2021-08-09 15:01 /data/ghcnd/daily/1787.csv.gz\n",
      "-rw-r--r--   8 jsw93 supergroup      6.3 K 2021-08-09 15:03 /data/ghcnd/daily/1788.csv.gz\n",
      "-rw-r--r--   8 jsw93 supergroup      7.6 K 2021-08-09 15:08 /data/ghcnd/daily/1789.csv.gz\n",
      "-rw-r--r--   8 jsw93 supergroup      7.5 K 2021-08-09 15:01 /data/ghcnd/daily/1790.csv.gz\n",
      "-rw-r--r--   8 jsw93 supergroup      7.5 K 2021-08-09 15:01 /data/ghcnd/daily/1791.csv.gz\n",
      "-rw-r--r--   8 jsw93 supergroup      7.6 K 2021-08-09 15:00 /data/ghcnd/daily/1792.csv.gz\n",
      "-rw-r--r--   8 jsw93 supergroup      6.2 K 2021-08-09 15:03 /data/ghcnd/daily/1793.csv.gz\n",
      "-rw-r--r--   8 jsw93 supergroup      7.5 K 2021-08-09 14:57 /data/ghcnd/daily/1794.csv.gz\n",
      "-rw-r--r--   8 jsw93 supergroup      7.6 K 2021-08-09 15:05 /data/ghcnd/daily/1795.csv.gz\n",
      "-rw-r--r--   8 jsw93 supergroup      7.6 K 2021-08-09 14:57 /data/ghcnd/daily/1796.csv.gz\n",
      "-rw-r--r--   8 jsw93 supergroup      9.0 K 2021-08-09 14:57 /data/ghcnd/daily/1797.csv.gz\n",
      "-rw-r--r--   8 jsw93 supergroup      8.9 K 2021-08-09 14:57 /data/ghcnd/daily/1798.csv.gz\n",
      "-rw-r--r--   8 jsw93 supergroup      6.2 K 2021-08-09 14:57 /data/ghcnd/daily/1799.csv.gz\n",
      "-rw-r--r--   8 jsw93 supergroup      7.5 K 2021-08-09 14:58 /data/ghcnd/daily/1800.csv.gz\n",
      "-rw-r--r--   8 jsw93 supergroup      7.6 K 2021-08-09 14:57 /data/ghcnd/daily/1801.csv.gz\n",
      "-rw-r--r--   8 jsw93 supergroup      8.9 K 2021-08-09 15:07 /data/ghcnd/daily/1802.csv.gz\n",
      "-rw-r--r--   8 jsw93 supergroup      7.7 K 2021-08-09 15:04 /data/ghcnd/daily/1803.csv.gz\n",
      "-rw-r--r--   8 jsw93 supergroup      8.5 K 2021-08-09 15:02 /data/ghcnd/daily/1804.csv.gz\n",
      "-rw-r--r--   8 jsw93 supergroup      8.8 K 2021-08-09 15:08 /data/ghcnd/daily/1805.csv.gz\n",
      "-rw-r--r--   8 jsw93 supergroup      8.4 K 2021-08-09 15:00 /data/ghcnd/daily/1806.csv.gz\n",
      "-rw-r--r--   8 jsw93 supergroup      8.5 K 2021-08-09 15:02 /data/ghcnd/daily/1807.csv.gz\n",
      "-rw-r--r--   8 jsw93 supergroup      8.7 K 2021-08-09 14:57 /data/ghcnd/daily/1808.csv.gz\n",
      "-rw-r--r--   8 jsw93 supergroup      8.5 K 2021-08-09 14:59 /data/ghcnd/daily/1809.csv.gz\n",
      "-rw-r--r--   8 jsw93 supergroup      8.6 K 2021-08-09 15:00 /data/ghcnd/daily/1810.csv.gz\n",
      "-rw-r--r--   8 jsw93 supergroup      8.6 K 2021-08-09 15:03 /data/ghcnd/daily/1811.csv.gz\n",
      "-rw-r--r--   8 jsw93 supergroup      8.7 K 2021-08-09 15:07 /data/ghcnd/daily/1812.csv.gz\n",
      "-rw-r--r--   8 jsw93 supergroup      9.2 K 2021-08-09 14:57 /data/ghcnd/daily/1813.csv.gz\n",
      "-rw-r--r--   8 jsw93 supergroup     11.9 K 2021-08-09 15:07 /data/ghcnd/daily/1814.csv.gz\n",
      "-rw-r--r--   8 jsw93 supergroup     14.9 K 2021-08-09 14:59 /data/ghcnd/daily/1815.csv.gz\n",
      "-rw-r--r--   8 jsw93 supergroup     14.8 K 2021-08-09 15:06 /data/ghcnd/daily/1816.csv.gz\n",
      "-rw-r--r--   8 jsw93 supergroup     14.7 K 2021-08-09 15:02 /data/ghcnd/daily/1817.csv.gz\n",
      "-rw-r--r--   8 jsw93 supergroup     14.7 K 2021-08-09 14:57 /data/ghcnd/daily/1818.csv.gz\n",
      "-rw-r--r--   8 jsw93 supergroup     14.7 K 2021-08-09 15:08 /data/ghcnd/daily/1819.csv.gz\n",
      "-rw-r--r--   8 jsw93 supergroup     15.0 K 2021-08-09 14:56 /data/ghcnd/daily/1820.csv.gz\n",
      "-rw-r--r--   8 jsw93 supergroup     14.8 K 2021-08-09 15:02 /data/ghcnd/daily/1821.csv.gz\n",
      "-rw-r--r--   8 jsw93 supergroup     15.0 K 2021-08-09 15:01 /data/ghcnd/daily/1822.csv.gz\n",
      "-rw-r--r--   8 jsw93 supergroup     15.8 K 2021-08-09 14:56 /data/ghcnd/daily/1823.csv.gz\n",
      "-rw-r--r--   8 jsw93 supergroup     19.1 K 2021-08-09 14:58 /data/ghcnd/daily/1824.csv.gz\n",
      "-rw-r--r--   8 jsw93 supergroup     19.2 K 2021-08-09 14:56 /data/ghcnd/daily/1825.csv.gz\n",
      "-rw-r--r--   8 jsw93 supergroup     19.5 K 2021-08-09 15:03 /data/ghcnd/daily/1826.csv.gz\n",
      "-rw-r--r--   8 jsw93 supergroup     22.1 K 2021-08-09 15:00 /data/ghcnd/daily/1827.csv.gz\n",
      "-rw-r--r--   8 jsw93 supergroup     22.1 K 2021-08-09 14:57 /data/ghcnd/daily/1828.csv.gz\n",
      "-rw-r--r--   8 jsw93 supergroup     22.3 K 2021-08-09 15:06 /data/ghcnd/daily/1829.csv.gz\n",
      "-rw-r--r--   8 jsw93 supergroup     22.5 K 2021-08-09 15:02 /data/ghcnd/daily/1830.csv.gz\n",
      "-rw-r--r--   8 jsw93 supergroup     22.4 K 2021-08-09 15:01 /data/ghcnd/daily/1831.csv.gz\n",
      "-rw-r--r--   8 jsw93 supergroup     23.5 K 2021-08-09 15:00 /data/ghcnd/daily/1832.csv.gz\n",
      "-rw-r--r--   8 jsw93 supergroup     28.0 K 2021-08-09 15:05 /data/ghcnd/daily/1833.csv.gz\n",
      "-rw-r--r--   8 jsw93 supergroup     27.9 K 2021-08-09 14:57 /data/ghcnd/daily/1834.csv.gz\n",
      "-rw-r--r--   8 jsw93 supergroup     28.5 K 2021-08-09 15:02 /data/ghcnd/daily/1835.csv.gz\n",
      "-rw-r--r--   8 jsw93 supergroup     29.4 K 2021-08-09 14:58 /data/ghcnd/daily/1836.csv.gz\n",
      "-rw-r--r--   8 jsw93 supergroup     29.0 K 2021-08-09 15:01 /data/ghcnd/daily/1837.csv.gz\n",
      "-rw-r--r--   8 jsw93 supergroup     31.4 K 2021-08-09 15:02 /data/ghcnd/daily/1838.csv.gz\n",
      "-rw-r--r--   8 jsw93 supergroup     29.1 K 2021-08-09 15:03 /data/ghcnd/daily/1839.csv.gz\n",
      "-rw-r--r--   8 jsw93 supergroup     34.0 K 2021-08-09 14:57 /data/ghcnd/daily/1840.csv.gz\n",
      "-rw-r--r--   8 jsw93 supergroup     35.1 K 2021-08-09 15:00 /data/ghcnd/daily/1841.csv.gz\n",
      "-rw-r--r--   8 jsw93 supergroup     37.7 K 2021-08-09 15:00 /data/ghcnd/daily/1842.csv.gz\n",
      "-rw-r--r--   8 jsw93 supergroup     37.5 K 2021-08-09 14:57 /data/ghcnd/daily/1843.csv.gz\n",
      "-rw-r--r--   8 jsw93 supergroup     41.3 K 2021-08-09 15:03 /data/ghcnd/daily/1844.csv.gz\n",
      "-rw-r--r--   8 jsw93 supergroup     45.1 K 2021-08-09 15:06 /data/ghcnd/daily/1845.csv.gz\n",
      "-rw-r--r--   8 jsw93 supergroup     42.5 K 2021-08-09 15:03 /data/ghcnd/daily/1846.csv.gz\n",
      "-rw-r--r--   8 jsw93 supergroup     44.0 K 2021-08-09 15:08 /data/ghcnd/daily/1847.csv.gz\n",
      "-rw-r--r--   8 jsw93 supergroup     42.8 K 2021-08-09 15:03 /data/ghcnd/daily/1848.csv.gz\n",
      "-rw-r--r--   8 jsw93 supergroup     45.0 K 2021-08-09 14:57 /data/ghcnd/daily/1849.csv.gz\n",
      "-rw-r--r--   8 jsw93 supergroup     45.1 K 2021-08-09 15:07 /data/ghcnd/daily/1850.csv.gz\n",
      "-rw-r--r--   8 jsw93 supergroup     52.7 K 2021-08-09 14:56 /data/ghcnd/daily/1851.csv.gz\n",
      "-rw-r--r--   8 jsw93 supergroup     56.9 K 2021-08-09 15:02 /data/ghcnd/daily/1852.csv.gz\n",
      "-rw-r--r--   8 jsw93 supergroup     56.3 K 2021-08-09 14:58 /data/ghcnd/daily/1853.csv.gz\n",
      "-rw-r--r--   8 jsw93 supergroup     55.2 K 2021-08-09 15:05 /data/ghcnd/daily/1854.csv.gz\n",
      "-rw-r--r--   8 jsw93 supergroup     58.9 K 2021-08-09 15:02 /data/ghcnd/daily/1855.csv.gz\n",
      "-rw-r--r--   8 jsw93 supergroup     71.0 K 2021-08-09 15:05 /data/ghcnd/daily/1856.csv.gz\n",
      "-rw-r--r--   8 jsw93 supergroup     76.8 K 2021-08-09 15:05 /data/ghcnd/daily/1857.csv.gz\n",
      "-rw-r--r--   8 jsw93 supergroup    109.7 K 2021-08-09 14:57 /data/ghcnd/daily/1858.csv.gz\n",
      "-rw-r--r--   8 jsw93 supergroup    115.9 K 2021-08-09 15:07 /data/ghcnd/daily/1859.csv.gz\n",
      "-rw-r--r--   8 jsw93 supergroup    122.6 K 2021-08-09 14:56 /data/ghcnd/daily/1860.csv.gz\n",
      "-rw-r--r--   8 jsw93 supergroup    126.7 K 2021-08-09 14:57 /data/ghcnd/daily/1861.csv.gz\n",
      "-rw-r--r--   8 jsw93 supergroup    122.8 K 2021-08-09 15:00 /data/ghcnd/daily/1862.csv.gz\n",
      "-rw-r--r--   8 jsw93 supergroup    138.0 K 2021-08-09 14:56 /data/ghcnd/daily/1863.csv.gz\n",
      "-rw-r--r--   8 jsw93 supergroup    136.5 K 2021-08-09 15:03 /data/ghcnd/daily/1864.csv.gz\n",
      "-rw-r--r--   8 jsw93 supergroup    141.9 K 2021-08-09 15:07 /data/ghcnd/daily/1865.csv.gz\n",
      "-rw-r--r--   8 jsw93 supergroup    184.0 K 2021-08-09 14:58 /data/ghcnd/daily/1866.csv.gz\n",
      "-rw-r--r--   8 jsw93 supergroup    232.3 K 2021-08-09 15:03 /data/ghcnd/daily/1867.csv.gz\n",
      "-rw-r--r--   8 jsw93 supergroup    251.5 K 2021-08-09 15:01 /data/ghcnd/daily/1868.csv.gz\n",
      "-rw-r--r--   8 jsw93 supergroup    298.1 K 2021-08-09 15:03 /data/ghcnd/daily/1869.csv.gz\n",
      "-rw-r--r--   8 jsw93 supergroup    346.8 K 2021-08-09 14:58 /data/ghcnd/daily/1870.csv.gz\n",
      "-rw-r--r--   8 jsw93 supergroup    467.1 K 2021-08-09 15:02 /data/ghcnd/daily/1871.csv.gz\n",
      "-rw-r--r--   8 jsw93 supergroup    637.2 K 2021-08-09 14:59 /data/ghcnd/daily/1872.csv.gz\n",
      "-rw-r--r--   8 jsw93 supergroup    717.5 K 2021-08-09 14:56 /data/ghcnd/daily/1873.csv.gz\n",
      "-rw-r--r--   8 jsw93 supergroup    801.6 K 2021-08-09 15:03 /data/ghcnd/daily/1874.csv.gz\n",
      "-rw-r--r--   8 jsw93 supergroup    883.7 K 2021-08-09 15:05 /data/ghcnd/daily/1875.csv.gz\n",
      "-rw-r--r--   8 jsw93 supergroup    976.5 K 2021-08-09 15:06 /data/ghcnd/daily/1876.csv.gz\n",
      "-rw-r--r--   8 jsw93 supergroup      1.1 M 2021-08-09 15:05 /data/ghcnd/daily/1877.csv.gz\n",
      "-rw-r--r--   8 jsw93 supergroup      1.3 M 2021-08-09 15:01 /data/ghcnd/daily/1878.csv.gz\n",
      "-rw-r--r--   8 jsw93 supergroup      1.5 M 2021-08-09 15:07 /data/ghcnd/daily/1879.csv.gz\n",
      "-rw-r--r--   8 jsw93 supergroup      1.8 M 2021-08-09 15:05 /data/ghcnd/daily/1880.csv.gz\n",
      "-rw-r--r--   8 jsw93 supergroup      2.3 M 2021-08-09 15:02 /data/ghcnd/daily/1881.csv.gz\n",
      "-rw-r--r--   8 jsw93 supergroup      2.7 M 2021-08-09 14:57 /data/ghcnd/daily/1882.csv.gz\n",
      "-rw-r--r--   8 jsw93 supergroup      3.0 M 2021-08-09 15:01 /data/ghcnd/daily/1883.csv.gz\n",
      "-rw-r--r--   8 jsw93 supergroup      3.6 M 2021-08-09 15:04 /data/ghcnd/daily/1884.csv.gz\n",
      "-rw-r--r--   8 jsw93 supergroup      4.1 M 2021-08-09 15:05 /data/ghcnd/daily/1885.csv.gz\n",
      "-rw-r--r--   8 jsw93 supergroup      4.6 M 2021-08-09 15:05 /data/ghcnd/daily/1886.csv.gz\n",
      "-rw-r--r--   8 jsw93 supergroup      5.1 M 2021-08-09 15:02 /data/ghcnd/daily/1887.csv.gz\n",
      "-rw-r--r--   8 jsw93 supergroup      5.5 M 2021-08-09 14:59 /data/ghcnd/daily/1888.csv.gz\n",
      "-rw-r--r--   8 jsw93 supergroup      6.0 M 2021-08-09 15:02 /data/ghcnd/daily/1889.csv.gz\n",
      "-rw-r--r--   8 jsw93 supergroup      6.6 M 2021-08-09 14:58 /data/ghcnd/daily/1890.csv.gz\n",
      "-rw-r--r--   8 jsw93 supergroup      6.9 M 2021-08-09 15:01 /data/ghcnd/daily/1891.csv.gz\n",
      "-rw-r--r--   8 jsw93 supergroup      8.1 M 2021-08-09 15:08 /data/ghcnd/daily/1892.csv.gz\n",
      "-rw-r--r--   8 jsw93 supergroup     14.8 M 2021-08-09 14:57 /data/ghcnd/daily/1893.csv.gz\n",
      "-rw-r--r--   8 jsw93 supergroup     15.8 M 2021-08-09 15:01 /data/ghcnd/daily/1894.csv.gz\n",
      "-rw-r--r--   8 jsw93 supergroup     17.1 M 2021-08-09 15:07 /data/ghcnd/daily/1895.csv.gz\n",
      "-rw-r--r--   8 jsw93 supergroup     18.4 M 2021-08-09 15:03 /data/ghcnd/daily/1896.csv.gz\n",
      "-rw-r--r--   8 jsw93 supergroup     19.9 M 2021-08-09 15:08 /data/ghcnd/daily/1897.csv.gz\n",
      "-rw-r--r--   8 jsw93 supergroup     20.8 M 2021-08-09 15:00 /data/ghcnd/daily/1898.csv.gz\n",
      "-rw-r--r--   8 jsw93 supergroup     21.6 M 2021-08-09 15:01 /data/ghcnd/daily/1899.csv.gz\n",
      "-rw-r--r--   8 jsw93 supergroup     23.2 M 2021-08-09 15:00 /data/ghcnd/daily/1900.csv.gz\n",
      "-rw-r--r--   8 jsw93 supergroup     30.2 M 2021-08-09 15:05 /data/ghcnd/daily/1901.csv.gz\n",
      "-rw-r--r--   8 jsw93 supergroup     31.4 M 2021-08-09 15:01 /data/ghcnd/daily/1902.csv.gz\n",
      "-rw-r--r--   8 jsw93 supergroup     32.1 M 2021-08-09 15:02 /data/ghcnd/daily/1903.csv.gz\n",
      "-rw-r--r--   8 jsw93 supergroup     33.2 M 2021-08-09 15:08 /data/ghcnd/daily/1904.csv.gz\n",
      "-rw-r--r--   8 jsw93 supergroup     34.9 M 2021-08-09 15:02 /data/ghcnd/daily/1905.csv.gz\n",
      "-rw-r--r--   8 jsw93 supergroup     35.7 M 2021-08-09 15:07 /data/ghcnd/daily/1906.csv.gz\n",
      "-rw-r--r--   8 jsw93 supergroup     36.9 M 2021-08-09 14:59 /data/ghcnd/daily/1907.csv.gz\n",
      "-rw-r--r--   8 jsw93 supergroup     37.7 M 2021-08-09 15:02 /data/ghcnd/daily/1908.csv.gz\n",
      "-rw-r--r--   8 jsw93 supergroup     39.7 M 2021-08-09 14:58 /data/ghcnd/daily/1909.csv.gz\n",
      "-rw-r--r--   8 jsw93 supergroup     41.1 M 2021-08-09 14:57 /data/ghcnd/daily/1910.csv.gz\n",
      "-rw-r--r--   8 jsw93 supergroup     42.7 M 2021-08-09 15:06 /data/ghcnd/daily/1911.csv.gz\n",
      "-rw-r--r--   8 jsw93 supergroup     44.4 M 2021-08-09 14:56 /data/ghcnd/daily/1912.csv.gz\n",
      "-rw-r--r--   8 jsw93 supergroup     45.7 M 2021-08-09 15:01 /data/ghcnd/daily/1913.csv.gz\n",
      "-rw-r--r--   8 jsw93 supergroup     47.2 M 2021-08-09 15:02 /data/ghcnd/daily/1914.csv.gz\n",
      "-rw-r--r--   8 jsw93 supergroup     48.7 M 2021-08-09 14:56 /data/ghcnd/daily/1915.csv.gz\n",
      "-rw-r--r--   8 jsw93 supergroup     50.3 M 2021-08-09 14:58 /data/ghcnd/daily/1916.csv.gz\n",
      "-rw-r--r--   8 jsw93 supergroup     50.6 M 2021-08-09 15:07 /data/ghcnd/daily/1917.csv.gz\n",
      "-rw-r--r--   8 jsw93 supergroup     49.4 M 2021-08-09 14:57 /data/ghcnd/daily/1918.csv.gz\n",
      "-rw-r--r--   8 jsw93 supergroup     48.8 M 2021-08-09 15:03 /data/ghcnd/daily/1919.csv.gz\n",
      "-rw-r--r--   8 jsw93 supergroup     49.1 M 2021-08-09 15:01 /data/ghcnd/daily/1920.csv.gz\n",
      "-rw-r--r--   8 jsw93 supergroup     49.6 M 2021-08-09 15:01 /data/ghcnd/daily/1921.csv.gz\n",
      "-rw-r--r--   8 jsw93 supergroup     50.5 M 2021-08-09 15:03 /data/ghcnd/daily/1922.csv.gz\n",
      "-rw-r--r--   8 jsw93 supergroup     51.5 M 2021-08-09 15:03 /data/ghcnd/daily/1923.csv.gz\n",
      "-rw-r--r--   8 jsw93 supergroup     52.6 M 2021-08-09 15:03 /data/ghcnd/daily/1924.csv.gz\n",
      "-rw-r--r--   8 jsw93 supergroup     52.9 M 2021-08-09 14:59 /data/ghcnd/daily/1925.csv.gz\n",
      "-rw-r--r--   8 jsw93 supergroup     54.3 M 2021-08-09 15:03 /data/ghcnd/daily/1926.csv.gz\n",
      "-rw-r--r--   8 jsw93 supergroup     55.3 M 2021-08-09 14:59 /data/ghcnd/daily/1927.csv.gz\n",
      "-rw-r--r--   8 jsw93 supergroup     56.1 M 2021-08-09 15:08 /data/ghcnd/daily/1928.csv.gz\n",
      "-rw-r--r--   8 jsw93 supergroup     57.3 M 2021-08-09 15:06 /data/ghcnd/daily/1929.csv.gz\n",
      "-rw-r--r--   8 jsw93 supergroup     58.9 M 2021-08-09 15:05 /data/ghcnd/daily/1930.csv.gz\n",
      "-rw-r--r--   8 jsw93 supergroup     60.9 M 2021-08-09 14:56 /data/ghcnd/daily/1931.csv.gz\n",
      "-rw-r--r--   8 jsw93 supergroup     62.1 M 2021-08-09 15:07 /data/ghcnd/daily/1932.csv.gz\n",
      "-rw-r--r--   8 jsw93 supergroup     62.8 M 2021-08-09 15:05 /data/ghcnd/daily/1933.csv.gz\n",
      "-rw-r--r--   8 jsw93 supergroup     63.2 M 2021-08-09 15:05 /data/ghcnd/daily/1934.csv.gz\n",
      "-rw-r--r--   8 jsw93 supergroup     64.4 M 2021-08-09 15:02 /data/ghcnd/daily/1935.csv.gz\n",
      "-rw-r--r--   8 jsw93 supergroup     68.8 M 2021-08-09 15:07 /data/ghcnd/daily/1936.csv.gz\n",
      "-rw-r--r--   8 jsw93 supergroup     70.5 M 2021-08-09 15:03 /data/ghcnd/daily/1937.csv.gz\n",
      "-rw-r--r--   8 jsw93 supergroup     72.0 M 2021-08-09 15:06 /data/ghcnd/daily/1938.csv.gz\n",
      "-rw-r--r--   8 jsw93 supergroup     74.3 M 2021-08-09 15:01 /data/ghcnd/daily/1939.csv.gz\n",
      "-rw-r--r--   8 jsw93 supergroup     77.1 M 2021-08-09 15:00 /data/ghcnd/daily/1940.csv.gz\n",
      "-rw-r--r--   8 jsw93 supergroup     79.6 M 2021-08-09 14:59 /data/ghcnd/daily/1941.csv.gz\n",
      "-rw-r--r--   8 jsw93 supergroup     82.1 M 2021-08-09 15:02 /data/ghcnd/daily/1942.csv.gz\n",
      "-rw-r--r--   8 jsw93 supergroup     83.3 M 2021-08-09 14:59 /data/ghcnd/daily/1943.csv.gz\n",
      "-rw-r--r--   8 jsw93 supergroup     85.4 M 2021-08-09 15:02 /data/ghcnd/daily/1944.csv.gz\n",
      "-rw-r--r--   8 jsw93 supergroup     88.6 M 2021-08-09 15:01 /data/ghcnd/daily/1945.csv.gz\n",
      "-rw-r--r--   8 jsw93 supergroup     89.3 M 2021-08-09 15:02 /data/ghcnd/daily/1946.csv.gz\n",
      "-rw-r--r--   8 jsw93 supergroup     91.7 M 2021-08-09 14:56 /data/ghcnd/daily/1947.csv.gz\n",
      "-rw-r--r--   8 jsw93 supergroup    108.7 M 2021-08-09 15:00 /data/ghcnd/daily/1948.csv.gz\n",
      "-rw-r--r--   8 jsw93 supergroup    123.6 M 2021-08-09 15:05 /data/ghcnd/daily/1949.csv.gz\n",
      "-rw-r--r--   8 jsw93 supergroup    127.2 M 2021-08-09 14:59 /data/ghcnd/daily/1950.csv.gz\n",
      "-rw-r--r--   8 jsw93 supergroup    132.1 M 2021-08-09 15:06 /data/ghcnd/daily/1951.csv.gz\n",
      "-rw-r--r--   8 jsw93 supergroup    134.0 M 2021-08-09 14:59 /data/ghcnd/daily/1952.csv.gz\n",
      "-rw-r--r--   8 jsw93 supergroup    135.8 M 2021-08-09 15:03 /data/ghcnd/daily/1953.csv.gz\n",
      "-rw-r--r--   8 jsw93 supergroup    138.6 M 2021-08-09 15:06 /data/ghcnd/daily/1954.csv.gz\n",
      "-rw-r--r--   8 jsw93 supergroup    141.7 M 2021-08-09 15:05 /data/ghcnd/daily/1955.csv.gz\n",
      "-rw-r--r--   8 jsw93 supergroup    144.4 M 2021-08-09 15:03 /data/ghcnd/daily/1956.csv.gz\n",
      "-rw-r--r--   8 jsw93 supergroup    147.6 M 2021-08-09 15:01 /data/ghcnd/daily/1957.csv.gz\n",
      "-rw-r--r--   8 jsw93 supergroup    149.3 M 2021-08-09 15:00 /data/ghcnd/daily/1958.csv.gz\n",
      "-rw-r--r--   8 jsw93 supergroup    153.1 M 2021-08-09 15:05 /data/ghcnd/daily/1959.csv.gz\n",
      "-rw-r--r--   8 jsw93 supergroup    156.3 M 2021-08-09 15:07 /data/ghcnd/daily/1960.csv.gz\n",
      "-rw-r--r--   8 jsw93 supergroup    161.8 M 2021-08-09 15:05 /data/ghcnd/daily/1961.csv.gz\n",
      "-rw-r--r--   8 jsw93 supergroup    165.4 M 2021-08-09 15:01 /data/ghcnd/daily/1962.csv.gz\n",
      "-rw-r--r--   8 jsw93 supergroup    169.5 M 2021-08-09 15:00 /data/ghcnd/daily/1963.csv.gz\n",
      "-rw-r--r--   8 jsw93 supergroup    170.6 M 2021-08-09 14:57 /data/ghcnd/daily/1964.csv.gz\n",
      "-rw-r--r--   8 jsw93 supergroup    175.8 M 2021-08-09 15:08 /data/ghcnd/daily/1965.csv.gz\n",
      "-rw-r--r--   8 jsw93 supergroup    178.4 M 2021-08-09 15:05 /data/ghcnd/daily/1966.csv.gz\n",
      "-rw-r--r--   8 jsw93 supergroup    180.5 M 2021-08-09 15:03 /data/ghcnd/daily/1967.csv.gz\n",
      "-rw-r--r--   8 jsw93 supergroup    180.4 M 2021-08-09 15:01 /data/ghcnd/daily/1968.csv.gz\n",
      "-rw-r--r--   8 jsw93 supergroup    182.5 M 2021-08-09 15:02 /data/ghcnd/daily/1969.csv.gz\n",
      "-rw-r--r--   8 jsw93 supergroup    184.0 M 2021-08-09 15:00 /data/ghcnd/daily/1970.csv.gz\n",
      "-rw-r--r--   8 jsw93 supergroup    175.3 M 2021-08-09 14:59 /data/ghcnd/daily/1971.csv.gz\n",
      "-rw-r--r--   8 jsw93 supergroup    174.3 M 2021-08-09 14:59 /data/ghcnd/daily/1972.csv.gz\n",
      "-rw-r--r--   8 jsw93 supergroup    182.9 M 2021-08-09 15:04 /data/ghcnd/daily/1973.csv.gz\n",
      "-rw-r--r--   8 jsw93 supergroup    184.4 M 2021-08-09 14:57 /data/ghcnd/daily/1974.csv.gz\n",
      "-rw-r--r--   8 jsw93 supergroup    183.8 M 2021-08-09 15:07 /data/ghcnd/daily/1975.csv.gz\n",
      "-rw-r--r--   8 jsw93 supergroup    183.7 M 2021-08-09 15:00 /data/ghcnd/daily/1976.csv.gz\n",
      "-rw-r--r--   8 jsw93 supergroup    183.4 M 2021-08-09 15:03 /data/ghcnd/daily/1977.csv.gz\n",
      "-rw-r--r--   8 jsw93 supergroup    184.0 M 2021-08-09 15:08 /data/ghcnd/daily/1978.csv.gz\n",
      "-rw-r--r--   8 jsw93 supergroup    184.6 M 2021-08-09 15:04 /data/ghcnd/daily/1979.csv.gz\n",
      "-rw-r--r--   8 jsw93 supergroup    185.4 M 2021-08-09 14:57 /data/ghcnd/daily/1980.csv.gz\n",
      "-rw-r--r--   8 jsw93 supergroup    189.4 M 2021-08-09 14:57 /data/ghcnd/daily/1981.csv.gz\n",
      "-rw-r--r--   8 jsw93 supergroup    191.1 M 2021-08-09 14:57 /data/ghcnd/daily/1982.csv.gz\n",
      "-rw-r--r--   8 jsw93 supergroup    192.8 M 2021-08-09 15:08 /data/ghcnd/daily/1983.csv.gz\n",
      "-rw-r--r--   8 jsw93 supergroup    189.8 M 2021-08-09 15:02 /data/ghcnd/daily/1984.csv.gz\n",
      "-rw-r--r--   8 jsw93 supergroup    188.1 M 2021-08-09 15:07 /data/ghcnd/daily/1985.csv.gz\n",
      "-rw-r--r--   8 jsw93 supergroup    186.7 M 2021-08-09 14:57 /data/ghcnd/daily/1986.csv.gz\n",
      "-rw-r--r--   8 jsw93 supergroup    186.7 M 2021-08-09 14:57 /data/ghcnd/daily/1987.csv.gz\n",
      "-rw-r--r--   8 jsw93 supergroup    187.6 M 2021-08-09 14:56 /data/ghcnd/daily/1988.csv.gz\n",
      "-rw-r--r--   8 jsw93 supergroup    188.0 M 2021-08-09 14:57 /data/ghcnd/daily/1989.csv.gz\n",
      "-rw-r--r--   8 jsw93 supergroup    188.1 M 2021-08-09 15:00 /data/ghcnd/daily/1990.csv.gz\n",
      "-rw-r--r--   8 jsw93 supergroup    188.6 M 2021-08-09 15:00 /data/ghcnd/daily/1991.csv.gz\n",
      "-rw-r--r--   8 jsw93 supergroup    188.6 M 2021-08-09 15:03 /data/ghcnd/daily/1992.csv.gz\n",
      "-rw-r--r--   8 jsw93 supergroup    187.1 M 2021-08-09 15:05 /data/ghcnd/daily/1993.csv.gz\n",
      "-rw-r--r--   8 jsw93 supergroup    186.0 M 2021-08-09 15:08 /data/ghcnd/daily/1994.csv.gz\n",
      "-rw-r--r--   8 jsw93 supergroup    185.5 M 2021-08-09 15:01 /data/ghcnd/daily/1995.csv.gz\n",
      "-rw-r--r--   8 jsw93 supergroup    185.6 M 2021-08-09 15:07 /data/ghcnd/daily/1996.csv.gz\n",
      "-rw-r--r--   8 jsw93 supergroup    183.9 M 2021-08-09 15:00 /data/ghcnd/daily/1997.csv.gz\n",
      "-rw-r--r--   8 jsw93 supergroup    185.3 M 2021-08-09 14:56 /data/ghcnd/daily/1998.csv.gz\n",
      "-rw-r--r--   8 jsw93 supergroup    188.0 M 2021-08-09 15:01 /data/ghcnd/daily/1999.csv.gz\n",
      "-rw-r--r--   8 jsw93 supergroup    189.7 M 2021-08-09 15:08 /data/ghcnd/daily/2000.csv.gz\n",
      "-rw-r--r--   8 jsw93 supergroup    191.8 M 2021-08-09 15:07 /data/ghcnd/daily/2001.csv.gz\n",
      "-rw-r--r--   8 jsw93 supergroup    193.9 M 2021-08-09 15:01 /data/ghcnd/daily/2002.csv.gz\n",
      "-rw-r--r--   8 jsw93 supergroup    198.4 M 2021-08-09 14:58 /data/ghcnd/daily/2003.csv.gz\n",
      "-rw-r--r--   8 jsw93 supergroup    201.8 M 2021-08-09 14:58 /data/ghcnd/daily/2004.csv.gz\n",
      "-rw-r--r--   8 jsw93 supergroup    199.2 M 2021-08-09 15:06 /data/ghcnd/daily/2005.csv.gz\n",
      "-rw-r--r--   8 jsw93 supergroup    201.1 M 2021-08-09 15:02 /data/ghcnd/daily/2006.csv.gz\n",
      "-rw-r--r--   8 jsw93 supergroup    205.2 M 2021-08-09 15:06 /data/ghcnd/daily/2007.csv.gz\n",
      "-rw-r--r--   8 jsw93 supergroup    215.5 M 2021-08-09 15:05 /data/ghcnd/daily/2008.csv.gz\n",
      "-rw-r--r--   8 jsw93 supergroup    219.7 M 2021-08-09 15:04 /data/ghcnd/daily/2009.csv.gz\n",
      "-rw-r--r--   8 jsw93 supergroup    221.3 M 2021-08-09 15:02 /data/ghcnd/daily/2010.csv.gz\n",
      "-rw-r--r--   8 jsw93 supergroup    210.6 M 2021-08-09 14:58 /data/ghcnd/daily/2011.csv.gz\n",
      "-rw-r--r--   8 jsw93 supergroup    206.5 M 2021-08-09 14:58 /data/ghcnd/daily/2012.csv.gz\n",
      "-rw-r--r--   8 jsw93 supergroup    200.7 M 2021-08-09 14:59 /data/ghcnd/daily/2013.csv.gz\n",
      "-rw-r--r--   8 jsw93 supergroup    195.9 M 2021-08-09 15:03 /data/ghcnd/daily/2014.csv.gz\n",
      "-rw-r--r--   8 jsw93 supergroup    198.0 M 2021-08-09 15:00 /data/ghcnd/daily/2015.csv.gz\n",
      "-rw-r--r--   8 jsw93 supergroup    199.9 M 2021-08-09 15:04 /data/ghcnd/daily/2016.csv.gz\n",
      "-rw-r--r--   8 jsw93 supergroup    197.7 M 2021-08-09 15:06 /data/ghcnd/daily/2017.csv.gz\n",
      "-rw-r--r--   8 jsw93 supergroup    155.6 M 2022-08-08 01:19 /data/ghcnd/daily/2018.csv.gz\n",
      "-rw-r--r--   8 jsw93 supergroup    154.4 M 2022-08-08 01:19 /data/ghcnd/daily/2019.csv.gz\n",
      "-rw-r--r--   8 jsw93 supergroup    154.5 M 2022-08-08 01:19 /data/ghcnd/daily/2020.csv.gz\n",
      "-rw-r--r--   8 jsw93 supergroup    152.2 M 2022-08-08 01:19 /data/ghcnd/daily/2021.csv.gz\n",
      "-rw-r--r--   8 jsw93 supergroup     84.1 M 2022-08-08 01:20 /data/ghcnd/daily/2022.csv.gz\n"
     ]
    }
   ],
   "source": [
    "! hdfs dfs -ls -h /data/ghcnd/daily"
   ]
  },
  {
   "cell_type": "code",
   "execution_count": 5,
   "metadata": {},
   "outputs": [
    {
     "name": "stdout",
     "output_type": "stream",
     "text": [
      "15.8 G  126.1 G  /data/ghcnd/daily\r\n",
      "3.6 K   28.6 K   /data/ghcnd/ghcnd-countries.txt\r\n",
      "31.8 M  254.7 M  /data/ghcnd/ghcnd-inventory.txt\r\n",
      "1.1 K   8.5 K    /data/ghcnd/ghcnd-states.txt\r\n",
      "10.0 M  80.1 M   /data/ghcnd/ghcnd-stations.txt\r\n"
     ]
    }
   ],
   "source": [
    "! hdfs dfs -du -h /data/ghcnd/"
   ]
  },
  {
   "cell_type": "code",
   "execution_count": 4,
   "metadata": {},
   "outputs": [],
   "source": [
    "#Processing Q2"
   ]
  },
  {
   "cell_type": "code",
   "execution_count": 7,
   "metadata": {},
   "outputs": [],
   "source": [
    "#Defining schema for daily\n",
    "schema_daily = StructType([\n",
    "    StructField(\"ID\", StringType(), True),  #Station code\n",
    "    StructField(\"DATE\", DateType(), True),  #Observation date formatted as YYYYMMDD\n",
    "    StructField(\"ELEMENT\", StringType(), True),  #Element type indicator\n",
    "    StructField(\"VALUE\", DoubleType(), True),  #Data value for ELEMENT\n",
    "    StructField(\"MEASUREMENT_FLAG\", StringType(), True),  # Measurement Flag\n",
    "    StructField(\"QUALITY_FLAG\", StringType(), True),  #Quality Flag\n",
    "    StructField(\"SOURCE_FLAG\", StringType(), True),  #Source Flag\n",
    "    StructField(\"OBSERVATION_TIME\", TimestampType(), True),  #Observation time formatted as HHMM\n",
    "])"
   ]
  },
  {
   "cell_type": "code",
   "execution_count": 10,
   "metadata": {},
   "outputs": [
    {
     "name": "stdout",
     "output_type": "stream",
     "text": [
      "+-----------+----+-------+-----+----------------+------------+-----------+----------------+\n",
      "|         ID|DATE|ELEMENT|VALUE|MEASUREMENT_FLAG|QUALITY_FLAG|SOURCE_FLAG|OBSERVATION_TIME|\n",
      "+-----------+----+-------+-----+----------------+------------+-----------+----------------+\n",
      "|AE000041196|null|   TAVG|204.0|               H|        null|          S|            null|\n",
      "|AEM00041194|null|   TAVG|211.0|               H|        null|          S|            null|\n",
      "|AEM00041217|null|   TAVG|209.0|               H|        null|          S|            null|\n",
      "|AEM00041218|null|   TAVG|207.0|               H|        null|          S|            null|\n",
      "|AG000060390|null|   TAVG|121.0|               H|        null|          S|            null|\n",
      "|AG000060590|null|   TAVG|151.0|               H|        null|          S|            null|\n",
      "|AG000060611|null|   TAVG|111.0|               H|        null|          S|            null|\n",
      "|AGE00147708|null|   TMIN| 73.0|            null|        null|          S|            null|\n",
      "|AGE00147708|null|   PRCP|  0.0|            null|        null|          S|            null|\n",
      "|AGE00147708|null|   TAVG|133.0|               H|        null|          S|            null|\n",
      "|AGE00147716|null|   TMIN|107.0|            null|        null|          S|            null|\n",
      "|AGE00147716|null|   PRCP|  0.0|            null|        null|          S|            null|\n",
      "|AGE00147716|null|   TAVG|133.0|               H|        null|          S|            null|\n",
      "|AGE00147718|null|   TMIN| 90.0|            null|        null|          S|            null|\n",
      "|AGE00147718|null|   TAVG|152.0|               H|        null|          S|            null|\n",
      "|AGE00147719|null|   TMAX|201.0|            null|        null|          S|            null|\n",
      "|AGE00147719|null|   PRCP|  0.0|            null|        null|          S|            null|\n",
      "|AGE00147719|null|   TAVG|119.0|               H|        null|          S|            null|\n",
      "|AGM00060351|null|   PRCP|  0.0|            null|        null|          S|            null|\n",
      "|AGM00060351|null|   TAVG|126.0|               H|        null|          S|            null|\n",
      "+-----------+----+-------+-----+----------------+------------+-----------+----------------+\n",
      "only showing top 20 rows\n",
      "\n"
     ]
    }
   ],
   "source": [
    "#Loading 1000 rows of the hdfs:///data/ghcnd/daily/2022.csv.gz file into Spark\n",
    "daily = (\n",
    "    spark.read.format(\"com.databricks.spark.csv\")\n",
    "    .option(\"header\", \"false\")\n",
    "    .option(\"inferSchema\", \"false\")\n",
    "    .schema(schema_daily)\n",
    "    .load(\"hdfs:///data/ghcnd/daily/2022.csv.gz\")\n",
    "    .limit(1000)\n",
    ")\n",
    "daily.show(20)\n"
   ]
  },
  {
   "cell_type": "code",
   "execution_count": 11,
   "metadata": {},
   "outputs": [],
   "source": [
    "#Changing the datatype for DATE and OBSERVATION_TYPE to StringType() in the schema for daily\n",
    "schema_daily = StructType([\n",
    "    StructField(\"ID\", StringType(), True),  #Station code\n",
    "    StructField(\"DATE\", StringType(), True),  #Observation date formatted as YYYYMMDD\n",
    "    StructField(\"ELEMENT\", StringType(), True),  #Element type indicator\n",
    "    StructField(\"VALUE\", DoubleType(), True),  #Data value for ELEMENT\n",
    "    StructField(\"MEASUREMENT_FLAG\", StringType(), True),  # Measurement Flag\n",
    "    StructField(\"QUALITY_FLAG\", StringType(), True),  #Quality Flag\n",
    "    StructField(\"SOURCE_FLAG\", StringType(), True),  #Source Flag\n",
    "    StructField(\"OBSERVATION_TIME\", StringType(), True),  #Observation time formatted as HHMM\n",
    "])"
   ]
  },
  {
   "cell_type": "code",
   "execution_count": 12,
   "metadata": {},
   "outputs": [
    {
     "name": "stdout",
     "output_type": "stream",
     "text": [
      "+-----------+--------+-------+-----+----------------+------------+-----------+----------------+\n",
      "|         ID|    DATE|ELEMENT|VALUE|MEASUREMENT_FLAG|QUALITY_FLAG|SOURCE_FLAG|OBSERVATION_TIME|\n",
      "+-----------+--------+-------+-----+----------------+------------+-----------+----------------+\n",
      "|AE000041196|20220101|   TAVG|204.0|               H|        null|          S|            null|\n",
      "|AEM00041194|20220101|   TAVG|211.0|               H|        null|          S|            null|\n",
      "|AEM00041217|20220101|   TAVG|209.0|               H|        null|          S|            null|\n",
      "|AEM00041218|20220101|   TAVG|207.0|               H|        null|          S|            null|\n",
      "|AG000060390|20220101|   TAVG|121.0|               H|        null|          S|            null|\n",
      "|AG000060590|20220101|   TAVG|151.0|               H|        null|          S|            null|\n",
      "|AG000060611|20220101|   TAVG|111.0|               H|        null|          S|            null|\n",
      "|AGE00147708|20220101|   TMIN| 73.0|            null|        null|          S|            null|\n",
      "|AGE00147708|20220101|   PRCP|  0.0|            null|        null|          S|            null|\n",
      "|AGE00147708|20220101|   TAVG|133.0|               H|        null|          S|            null|\n",
      "|AGE00147716|20220101|   TMIN|107.0|            null|        null|          S|            null|\n",
      "|AGE00147716|20220101|   PRCP|  0.0|            null|        null|          S|            null|\n",
      "|AGE00147716|20220101|   TAVG|133.0|               H|        null|          S|            null|\n",
      "|AGE00147718|20220101|   TMIN| 90.0|            null|        null|          S|            null|\n",
      "|AGE00147718|20220101|   TAVG|152.0|               H|        null|          S|            null|\n",
      "|AGE00147719|20220101|   TMAX|201.0|            null|        null|          S|            null|\n",
      "|AGE00147719|20220101|   PRCP|  0.0|            null|        null|          S|            null|\n",
      "|AGE00147719|20220101|   TAVG|119.0|               H|        null|          S|            null|\n",
      "|AGM00060351|20220101|   PRCP|  0.0|            null|        null|          S|            null|\n",
      "|AGM00060351|20220101|   TAVG|126.0|               H|        null|          S|            null|\n",
      "+-----------+--------+-------+-----+----------------+------------+-----------+----------------+\n",
      "only showing top 20 rows\n",
      "\n"
     ]
    }
   ],
   "source": [
    "#Again loading 1000 rows of the hdfs:///data/ghcnd/daily/2022.csv.gz file into Spark\n",
    "daily = (\n",
    "    spark.read.format(\"com.databricks.spark.csv\")\n",
    "    .option(\"header\", \"false\")\n",
    "    .option(\"inferSchema\", \"false\")\n",
    "    .schema(schema_daily)\n",
    "    .load(\"hdfs:///data/ghcnd/daily/2022.csv.gz\")\n",
    "    .limit(1000)\n",
    ")\n",
    "daily.show(20)"
   ]
  },
  {
   "cell_type": "code",
   "execution_count": 13,
   "metadata": {},
   "outputs": [
    {
     "name": "stdout",
     "output_type": "stream",
     "text": [
      "root\n",
      " |-- ID: string (nullable = true)\n",
      " |-- DATE: string (nullable = true)\n",
      " |-- ELEMENT: string (nullable = true)\n",
      " |-- VALUE: double (nullable = true)\n",
      " |-- MEASUREMENT_FLAG: string (nullable = true)\n",
      " |-- QUALITY_FLAG: string (nullable = true)\n",
      " |-- SOURCE_FLAG: string (nullable = true)\n",
      " |-- OBSERVATION_TIME: string (nullable = true)\n",
      "\n"
     ]
    }
   ],
   "source": [
    "daily.printSchema()"
   ]
  },
  {
   "cell_type": "code",
   "execution_count": 31,
   "metadata": {},
   "outputs": [
    {
     "name": "stdout",
     "output_type": "stream",
     "text": [
      "+--------------------+\n",
      "|               value|\n",
      "+--------------------+\n",
      "|ACW00011604  17.1...|\n",
      "|ACW00011647  17.1...|\n",
      "|AE000041196  25.3...|\n",
      "|AEM00041194  25.2...|\n",
      "|AEM00041217  24.4...|\n",
      "|AEM00041218  24.2...|\n",
      "|AF000040930  35.3...|\n",
      "|AFM00040938  34.2...|\n",
      "|AFM00040948  34.5...|\n",
      "|AFM00040990  31.5...|\n",
      "+--------------------+\n",
      "only showing top 10 rows\n",
      "\n"
     ]
    }
   ],
   "source": [
    "#Load Stations \n",
    "load_stations = spark.read.text(\"hdfs:///data/ghcnd/ghcnd-stations.txt\")\n",
    "load_stations.show(10)"
   ]
  },
  {
   "cell_type": "code",
   "execution_count": 32,
   "metadata": {},
   "outputs": [
    {
     "name": "stdout",
     "output_type": "stream",
     "text": [
      "+-----------+--------+---------+---------+-----+--------------------+--------+------------+------+\n",
      "|         ID|LATITUDE|LONGITUDE|ELEVATION|STATE|                NAME|GSN_FLAG|HCN_CRN_FLAG|WMO_ID|\n",
      "+-----------+--------+---------+---------+-----+--------------------+--------+------------+------+\n",
      "|ACW00011604| 17.1167| -61.7833|     10.1|     |ST JOHNS COOLIDGE...|        |            |      |\n",
      "|ACW00011647| 17.1333| -61.7833|     19.2|     |ST JOHNS         ...|        |            |      |\n",
      "|AE000041196|  25.333|   55.517|     34.0|     |SHARJAH INTER. AI...|     GSN|            | 41196|\n",
      "|AEM00041194|  25.255|   55.364|     10.4|     |DUBAI INTL       ...|        |            | 41194|\n",
      "|AEM00041217|  24.433|   54.651|     26.8|     |ABU DHABI INTL   ...|        |            | 41217|\n",
      "|AEM00041218|  24.262|   55.609|    264.9|     |AL AIN INTL      ...|        |            | 41218|\n",
      "|AF000040930|  35.317|   69.017|   3366.0|     |NORTH-SALANG     ...|     GSN|            | 40930|\n",
      "|AFM00040938|   34.21|   62.228|    977.2|     |HERAT            ...|        |            | 40938|\n",
      "|AFM00040948|  34.566|   69.212|   1791.3|     |KABUL INTL       ...|        |            | 40948|\n",
      "|AFM00040990|    31.5|    65.85|   1010.0|     |KANDAHAR AIRPORT ...|        |            | 40990|\n",
      "+-----------+--------+---------+---------+-----+--------------------+--------+------------+------+\n",
      "only showing top 10 rows\n",
      "\n"
     ]
    }
   ],
   "source": [
    "#Parse the fixed width text formatting\n",
    "stations = load_stations.select(\n",
    "    load_stations.value.substr(1, 11).alias('ID'),\n",
    "    load_stations.value.substr(13, 8).cast(DoubleType()).alias('LATITUDE'),\n",
    "    load_stations.value.substr(22, 9).cast(DoubleType()).alias('LONGITUDE'),\n",
    "    load_stations.value.substr(32, 6).cast(DoubleType()).alias('ELEVATION'),\n",
    "    load_stations.value.substr(39, 2).alias('STATE'),\n",
    "    load_stations.value.substr(42, 30).alias('NAME'),\n",
    "    load_stations.value.substr(73, 3).alias('GSN_FLAG'),\n",
    "    load_stations.value.substr(77, 3).alias('HCN_CRN_FLAG'), \n",
    "    load_stations.value.substr(81, 5).alias('WMO_ID'),\n",
    ")\n",
    "stations.show(10)"
   ]
  },
  {
   "cell_type": "code",
   "execution_count": 16,
   "metadata": {},
   "outputs": [
    {
     "name": "stdout",
     "output_type": "stream",
     "text": [
      "root\n",
      " |-- ID: string (nullable = true)\n",
      " |-- LATITUDE: double (nullable = true)\n",
      " |-- LONGITUDE: double (nullable = true)\n",
      " |-- ELEVATION: double (nullable = true)\n",
      " |-- STATE: string (nullable = true)\n",
      " |-- NAME: string (nullable = true)\n",
      " |-- GSN_FLAG: string (nullable = true)\n",
      " |-- HCN_CRN_FLAG: string (nullable = true)\n",
      " |-- WMO_ID: string (nullable = true)\n",
      "\n"
     ]
    }
   ],
   "source": [
    "stations.printSchema()"
   ]
  },
  {
   "cell_type": "code",
   "execution_count": 33,
   "metadata": {},
   "outputs": [
    {
     "data": {
      "text/plain": [
       "122047"
      ]
     },
     "execution_count": 33,
     "metadata": {},
     "output_type": "execute_result"
    }
   ],
   "source": [
    "stations.count()"
   ]
  },
  {
   "cell_type": "code",
   "execution_count": 28,
   "metadata": {},
   "outputs": [],
   "source": [
    "def clean_metadata(dataframe):\n",
    "    \"\"\"Performes some cleaning operations to make the text data \n",
    "    more uniform\"\"\"\n",
    "    for col in dataframe.columns:\n",
    "        if dataframe.schema[col].dataType == StringType():\n",
    "            #Remove extra whitespace\n",
    "            dataframe = dataframe.withColumn(col, F.trim(F.col(col)))\n",
    "            #Convert empty strings to null columns\n",
    "            dataframe = dataframe.withColumn(col, F.when(F.col(col)==\"\",None).otherwise(F.col(col)))\n",
    "    return dataframe"
   ]
  },
  {
   "cell_type": "code",
   "execution_count": 37,
   "metadata": {},
   "outputs": [],
   "source": [
    "#Clean stations\n",
    "stations = clean_metadata(stations)"
   ]
  },
  {
   "cell_type": "code",
   "execution_count": 38,
   "metadata": {},
   "outputs": [
    {
     "data": {
      "text/plain": [
       "113961"
      ]
     },
     "execution_count": 38,
     "metadata": {},
     "output_type": "execute_result"
    }
   ],
   "source": [
    "#stations that do not have a WMO ID\n",
    "stations.select('ID').where(F.col('WMO_ID').isNull()).count()"
   ]
  },
  {
   "cell_type": "code",
   "execution_count": 19,
   "metadata": {},
   "outputs": [
    {
     "name": "stdout",
     "output_type": "stream",
     "text": [
      "+--------------------+\n",
      "|               value|\n",
      "+--------------------+\n",
      "|          AB ALBERTA|\n",
      "|           AK ALASKA|\n",
      "|AL ALABAMA       ...|\n",
      "|         AR ARKANSAS|\n",
      "|   AS AMERICAN SAMOA|\n",
      "|          AZ ARIZONA|\n",
      "| BC BRITISH COLUMBIA|\n",
      "|       CA CALIFORNIA|\n",
      "|         CO COLORADO|\n",
      "|      CT CONNECTICUT|\n",
      "+--------------------+\n",
      "only showing top 10 rows\n",
      "\n"
     ]
    }
   ],
   "source": [
    "#Load States\n",
    "load_states = spark.read.text(\"hdfs:///data/ghcnd/ghcnd-states.txt\")\n",
    "load_states.show(10)"
   ]
  },
  {
   "cell_type": "code",
   "execution_count": 20,
   "metadata": {},
   "outputs": [
    {
     "name": "stdout",
     "output_type": "stream",
     "text": [
      "+----+--------------------+\n",
      "|CODE|                NAME|\n",
      "+----+--------------------+\n",
      "|  AB|             ALBERTA|\n",
      "|  AK|              ALASKA|\n",
      "|  AL|ALABAMA          ...|\n",
      "|  AR|            ARKANSAS|\n",
      "|  AS|      AMERICAN SAMOA|\n",
      "|  AZ|             ARIZONA|\n",
      "|  BC|    BRITISH COLUMBIA|\n",
      "|  CA|          CALIFORNIA|\n",
      "|  CO|            COLORADO|\n",
      "|  CT|         CONNECTICUT|\n",
      "+----+--------------------+\n",
      "only showing top 10 rows\n",
      "\n"
     ]
    }
   ],
   "source": [
    "#Parse the fixed width text formatting\n",
    "states = load_states.select(\n",
    "    load_states.value.substr(1, 2).alias('CODE'),\n",
    "    load_states.value.substr(4, 47).alias('NAME'),\n",
    ")\n",
    "states.show(10)"
   ]
  },
  {
   "cell_type": "code",
   "execution_count": 40,
   "metadata": {},
   "outputs": [
    {
     "name": "stdout",
     "output_type": "stream",
     "text": [
      "root\n",
      " |-- CODE: string (nullable = true)\n",
      " |-- NAME: string (nullable = true)\n",
      "\n"
     ]
    }
   ],
   "source": [
    "states.printSchema()"
   ]
  },
  {
   "cell_type": "code",
   "execution_count": 41,
   "metadata": {},
   "outputs": [
    {
     "data": {
      "text/plain": [
       "74"
      ]
     },
     "execution_count": 41,
     "metadata": {},
     "output_type": "execute_result"
    }
   ],
   "source": [
    "states.count()"
   ]
  },
  {
   "cell_type": "code",
   "execution_count": 39,
   "metadata": {},
   "outputs": [],
   "source": [
    "#Clean states\n",
    "states = clean_metadata(states)"
   ]
  },
  {
   "cell_type": "code",
   "execution_count": 22,
   "metadata": {},
   "outputs": [
    {
     "name": "stdout",
     "output_type": "stream",
     "text": [
      "+--------------------+\n",
      "|               value|\n",
      "+--------------------+\n",
      "|AC Antigua and Ba...|\n",
      "|AE United Arab Em...|\n",
      "|      AF Afghanistan|\n",
      "|         AG Algeria |\n",
      "|      AJ Azerbaijan |\n",
      "|          AL Albania|\n",
      "|         AM Armenia |\n",
      "|          AO Angola |\n",
      "|AQ American Samoa...|\n",
      "|       AR Argentina |\n",
      "+--------------------+\n",
      "only showing top 10 rows\n",
      "\n"
     ]
    }
   ],
   "source": [
    "# Load Countries\n",
    "load_countries = spark.read.text(\"hdfs:///data/ghcnd/ghcnd-countries.txt\")\n",
    "load_countries.show(10)"
   ]
  },
  {
   "cell_type": "code",
   "execution_count": 23,
   "metadata": {},
   "outputs": [
    {
     "name": "stdout",
     "output_type": "stream",
     "text": [
      "+----+--------------------+\n",
      "|CODE|                NAME|\n",
      "+----+--------------------+\n",
      "|  AC|Antigua and Barbuda |\n",
      "|  AE|United Arab Emira...|\n",
      "|  AF|         Afghanistan|\n",
      "|  AG|            Algeria |\n",
      "|  AJ|         Azerbaijan |\n",
      "|  AL|             Albania|\n",
      "|  AM|            Armenia |\n",
      "|  AO|             Angola |\n",
      "|  AQ|American Samoa [U...|\n",
      "|  AR|          Argentina |\n",
      "+----+--------------------+\n",
      "only showing top 10 rows\n",
      "\n"
     ]
    }
   ],
   "source": [
    "#Parse the fixed width text formatting\n",
    "countries = load_countries.select(\n",
    "    load_countries.value.substr(1, 2).alias('CODE'),\n",
    "    load_countries.value.substr(4, 61).alias('NAME'),\n",
    ")\n",
    "countries.show(10)"
   ]
  },
  {
   "cell_type": "code",
   "execution_count": 42,
   "metadata": {},
   "outputs": [],
   "source": [
    "#Clean countries\n",
    "countries = clean_metadata(countries)"
   ]
  },
  {
   "cell_type": "code",
   "execution_count": 43,
   "metadata": {},
   "outputs": [
    {
     "name": "stdout",
     "output_type": "stream",
     "text": [
      "root\n",
      " |-- CODE: string (nullable = true)\n",
      " |-- NAME: string (nullable = true)\n",
      "\n"
     ]
    }
   ],
   "source": [
    "countries.printSchema()"
   ]
  },
  {
   "cell_type": "code",
   "execution_count": 44,
   "metadata": {},
   "outputs": [
    {
     "data": {
      "text/plain": [
       "219"
      ]
     },
     "execution_count": 44,
     "metadata": {},
     "output_type": "execute_result"
    }
   ],
   "source": [
    "countries.count()"
   ]
  },
  {
   "cell_type": "code",
   "execution_count": 25,
   "metadata": {},
   "outputs": [
    {
     "name": "stdout",
     "output_type": "stream",
     "text": [
      "+--------------------+\n",
      "|               value|\n",
      "+--------------------+\n",
      "|ACW00011604  17.1...|\n",
      "|ACW00011604  17.1...|\n",
      "|ACW00011604  17.1...|\n",
      "|ACW00011604  17.1...|\n",
      "|ACW00011604  17.1...|\n",
      "|ACW00011604  17.1...|\n",
      "|ACW00011604  17.1...|\n",
      "|ACW00011604  17.1...|\n",
      "|ACW00011604  17.1...|\n",
      "|ACW00011604  17.1...|\n",
      "+--------------------+\n",
      "only showing top 10 rows\n",
      "\n"
     ]
    }
   ],
   "source": [
    "#Load Inventory\n",
    "load_inventory = spark.read.text(\"hdfs:///data/ghcnd/ghcnd-inventory.txt\")\n",
    "load_inventory.show(10)"
   ]
  },
  {
   "cell_type": "code",
   "execution_count": 26,
   "metadata": {},
   "outputs": [
    {
     "name": "stdout",
     "output_type": "stream",
     "text": [
      "+-----------+--------+---------+-------+---------+--------+\n",
      "|         ID|LATITUDE|LONGITUDE|ELEMENT|FIRSTYEAR|LASTYEAR|\n",
      "+-----------+--------+---------+-------+---------+--------+\n",
      "|ACW00011604| 17.1167| -61.7833|   TMAX|     1949|    1949|\n",
      "|ACW00011604| 17.1167| -61.7833|   TMIN|     1949|    1949|\n",
      "|ACW00011604| 17.1167| -61.7833|   PRCP|     1949|    1949|\n",
      "|ACW00011604| 17.1167| -61.7833|   SNOW|     1949|    1949|\n",
      "|ACW00011604| 17.1167| -61.7833|   SNWD|     1949|    1949|\n",
      "|ACW00011604| 17.1167| -61.7833|   PGTM|     1949|    1949|\n",
      "|ACW00011604| 17.1167| -61.7833|   WDFG|     1949|    1949|\n",
      "|ACW00011604| 17.1167| -61.7833|   WSFG|     1949|    1949|\n",
      "|ACW00011604| 17.1167| -61.7833|   WT03|     1949|    1949|\n",
      "|ACW00011604| 17.1167| -61.7833|   WT08|     1949|    1949|\n",
      "+-----------+--------+---------+-------+---------+--------+\n",
      "only showing top 10 rows\n",
      "\n"
     ]
    }
   ],
   "source": [
    "#Parse the fixed width text formatting\n",
    "inventory = load_inventory.select(\n",
    "    load_inventory.value.substr(1, 11).alias('ID'),\n",
    "    load_inventory.value.substr(13, 8).cast(DoubleType()).alias('LATITUDE'),\n",
    "    load_inventory.value.substr(22, 9).cast(DoubleType()).alias('LONGITUDE'),\n",
    "    load_inventory.value.substr(32, 4).alias('ELEMENT'),\n",
    "    load_inventory.value.substr(37, 4).cast(IntegerType()).alias('FIRSTYEAR'),\n",
    "    load_inventory.value.substr(42, 4).cast(IntegerType()).alias('LASTYEAR'),\n",
    ")\n",
    "inventory.show(10)"
   ]
  },
  {
   "cell_type": "code",
   "execution_count": 46,
   "metadata": {},
   "outputs": [
    {
     "name": "stdout",
     "output_type": "stream",
     "text": [
      "root\n",
      " |-- ID: string (nullable = true)\n",
      " |-- LATITUDE: double (nullable = true)\n",
      " |-- LONGITUDE: double (nullable = true)\n",
      " |-- ELEMENT: string (nullable = true)\n",
      " |-- FIRSTYEAR: integer (nullable = true)\n",
      " |-- LASTYEAR: integer (nullable = true)\n",
      "\n"
     ]
    }
   ],
   "source": [
    "inventory.printSchema()"
   ]
  },
  {
   "cell_type": "code",
   "execution_count": 47,
   "metadata": {},
   "outputs": [
    {
     "data": {
      "text/plain": [
       "725754"
      ]
     },
     "execution_count": 47,
     "metadata": {},
     "output_type": "execute_result"
    }
   ],
   "source": [
    "inventory.count()"
   ]
  },
  {
   "cell_type": "code",
   "execution_count": 45,
   "metadata": {},
   "outputs": [],
   "source": [
    "#Clean inventory\n",
    "inventory = clean_metadata(inventory)"
   ]
  },
  {
   "cell_type": "code",
   "execution_count": 31,
   "metadata": {},
   "outputs": [],
   "source": [
    "# Processing Q3"
   ]
  },
  {
   "cell_type": "code",
   "execution_count": 48,
   "metadata": {},
   "outputs": [
    {
     "name": "stdout",
     "output_type": "stream",
     "text": [
      "+----------+----------------+\n",
      "|STATE_CODE|      STATE_NAME|\n",
      "+----------+----------------+\n",
      "|        AB|         ALBERTA|\n",
      "|        AK|          ALASKA|\n",
      "|        AL|         ALABAMA|\n",
      "|        AR|        ARKANSAS|\n",
      "|        AS|  AMERICAN SAMOA|\n",
      "|        AZ|         ARIZONA|\n",
      "|        BC|BRITISH COLUMBIA|\n",
      "|        CA|      CALIFORNIA|\n",
      "|        CO|        COLORADO|\n",
      "|        CT|     CONNECTICUT|\n",
      "+----------+----------------+\n",
      "only showing top 10 rows\n",
      "\n"
     ]
    }
   ],
   "source": [
    "#Rename column names for clarity\n",
    "states_renamed = states.select(\n",
    "  F.col(\"CODE\").alias(\"STATE_CODE\"),\n",
    "  F.col(\"NAME\").alias(\"STATE_NAME\")\n",
    ")\n",
    "states_renamed.show(10)"
   ]
  },
  {
   "cell_type": "code",
   "execution_count": 49,
   "metadata": {},
   "outputs": [
    {
     "name": "stdout",
     "output_type": "stream",
     "text": [
      "+------------+--------------------+\n",
      "|COUNTRY_CODE|        COUNTRY_NAME|\n",
      "+------------+--------------------+\n",
      "|          AC| Antigua and Barbuda|\n",
      "|          AE|United Arab Emirates|\n",
      "|          AF|         Afghanistan|\n",
      "|          AG|             Algeria|\n",
      "|          AJ|          Azerbaijan|\n",
      "|          AL|             Albania|\n",
      "|          AM|             Armenia|\n",
      "|          AO|              Angola|\n",
      "|          AQ|American Samoa [U...|\n",
      "|          AR|           Argentina|\n",
      "+------------+--------------------+\n",
      "only showing top 10 rows\n",
      "\n"
     ]
    }
   ],
   "source": [
    "#Rename column names for clarity\n",
    "countries_renamed = countries.select(\n",
    "  F.col(\"CODE\").alias(\"COUNTRY_CODE\"),\n",
    "  F.col(\"NAME\").alias(\"COUNTRY_NAME\")\n",
    ")\n",
    "countries_renamed.show(10)"
   ]
  },
  {
   "cell_type": "code",
   "execution_count": 50,
   "metadata": {},
   "outputs": [
    {
     "name": "stdout",
     "output_type": "stream",
     "text": [
      "+-----------+--------+---------+---------+----------+--------------------+--------+------------+------+\n",
      "|         ID|LATITUDE|LONGITUDE|ELEVATION|STATE_CODE|        STATION_NAME|GSN_FLAG|HCN_CRN_FLAG|WMO_ID|\n",
      "+-----------+--------+---------+---------+----------+--------------------+--------+------------+------+\n",
      "|ACW00011604| 17.1167| -61.7833|     10.1|      null|ST JOHNS COOLIDGE...|    null|        null|  null|\n",
      "|ACW00011647| 17.1333| -61.7833|     19.2|      null|            ST JOHNS|    null|        null|  null|\n",
      "|AE000041196|  25.333|   55.517|     34.0|      null| SHARJAH INTER. AIRP|     GSN|        null| 41196|\n",
      "|AEM00041194|  25.255|   55.364|     10.4|      null|          DUBAI INTL|    null|        null| 41194|\n",
      "|AEM00041217|  24.433|   54.651|     26.8|      null|      ABU DHABI INTL|    null|        null| 41217|\n",
      "|AEM00041218|  24.262|   55.609|    264.9|      null|         AL AIN INTL|    null|        null| 41218|\n",
      "|AF000040930|  35.317|   69.017|   3366.0|      null|        NORTH-SALANG|     GSN|        null| 40930|\n",
      "|AFM00040938|   34.21|   62.228|    977.2|      null|               HERAT|    null|        null| 40938|\n",
      "|AFM00040948|  34.566|   69.212|   1791.3|      null|          KABUL INTL|    null|        null| 40948|\n",
      "|AFM00040990|    31.5|    65.85|   1010.0|      null|    KANDAHAR AIRPORT|    null|        null| 40990|\n",
      "+-----------+--------+---------+---------+----------+--------------------+--------+------------+------+\n",
      "only showing top 10 rows\n",
      "\n"
     ]
    }
   ],
   "source": [
    "#Rename column names for clarity\n",
    "stations_renamed = stations.select(\n",
    "  F.col(\"ID\"),\n",
    "  F.col(\"LATITUDE\"), \n",
    "  F.col(\"LONGITUDE\"),\n",
    "  F.col(\"ELEVATION\"),\n",
    "  F.col(\"STATE\").alias(\"STATE_CODE\"),\n",
    "  F.col(\"NAME\").alias(\"STATION_NAME\"),\n",
    "  F.col(\"GSN_FLAG\"),\n",
    "  F.col(\"HCN_CRN_FLAG\"),\n",
    "  F.col(\"WMO_ID\")\n",
    ")\n",
    "stations_renamed.show(10)"
   ]
  },
  {
   "cell_type": "code",
   "execution_count": 51,
   "metadata": {},
   "outputs": [
    {
     "name": "stdout",
     "output_type": "stream",
     "text": [
      "+-----------+--------+---------+-------+---------+--------+\n",
      "|         ID|LATITUDE|LONGITUDE|ELEMENT|FIRSTYEAR|LASTYEAR|\n",
      "+-----------+--------+---------+-------+---------+--------+\n",
      "|ACW00011604| 17.1167| -61.7833|   TMAX|     1949|    1949|\n",
      "|ACW00011604| 17.1167| -61.7833|   TMIN|     1949|    1949|\n",
      "|ACW00011604| 17.1167| -61.7833|   PRCP|     1949|    1949|\n",
      "|ACW00011604| 17.1167| -61.7833|   SNOW|     1949|    1949|\n",
      "|ACW00011604| 17.1167| -61.7833|   SNWD|     1949|    1949|\n",
      "|ACW00011604| 17.1167| -61.7833|   PGTM|     1949|    1949|\n",
      "|ACW00011604| 17.1167| -61.7833|   WDFG|     1949|    1949|\n",
      "|ACW00011604| 17.1167| -61.7833|   WSFG|     1949|    1949|\n",
      "|ACW00011604| 17.1167| -61.7833|   WT03|     1949|    1949|\n",
      "|ACW00011604| 17.1167| -61.7833|   WT08|     1949|    1949|\n",
      "+-----------+--------+---------+-------+---------+--------+\n",
      "only showing top 10 rows\n",
      "\n"
     ]
    }
   ],
   "source": [
    "#Renaming for consistency in table name\n",
    "inventory_renamed = inventory.select(\n",
    "  F.col(\"ID\"),\n",
    "  F.col(\"LATITUDE\"), \n",
    "  F.col(\"LONGITUDE\"),\n",
    "  F.col(\"ELEMENT\"),\n",
    "  F.col(\"FIRSTYEAR\"),\n",
    "  F.col(\"LASTYEAR\")\n",
    ")\n",
    "inventory_renamed.show(10)"
   ]
  },
  {
   "cell_type": "code",
   "execution_count": 52,
   "metadata": {},
   "outputs": [
    {
     "name": "stdout",
     "output_type": "stream",
     "text": [
      "+-----------+--------+---------+---------+----------+--------------------+--------+------------+------+------------+\n",
      "|         ID|LATITUDE|LONGITUDE|ELEVATION|STATE_CODE|        STATION_NAME|GSN_FLAG|HCN_CRN_FLAG|WMO_ID|COUNTRY_CODE|\n",
      "+-----------+--------+---------+---------+----------+--------------------+--------+------------+------+------------+\n",
      "|ACW00011604| 17.1167| -61.7833|     10.1|      null|ST JOHNS COOLIDGE...|    null|        null|  null|          AC|\n",
      "|ACW00011647| 17.1333| -61.7833|     19.2|      null|            ST JOHNS|    null|        null|  null|          AC|\n",
      "|AE000041196|  25.333|   55.517|     34.0|      null| SHARJAH INTER. AIRP|     GSN|        null| 41196|          AE|\n",
      "|AEM00041194|  25.255|   55.364|     10.4|      null|          DUBAI INTL|    null|        null| 41194|          AE|\n",
      "|AEM00041217|  24.433|   54.651|     26.8|      null|      ABU DHABI INTL|    null|        null| 41217|          AE|\n",
      "|AEM00041218|  24.262|   55.609|    264.9|      null|         AL AIN INTL|    null|        null| 41218|          AE|\n",
      "|AF000040930|  35.317|   69.017|   3366.0|      null|        NORTH-SALANG|     GSN|        null| 40930|          AF|\n",
      "|AFM00040938|   34.21|   62.228|    977.2|      null|               HERAT|    null|        null| 40938|          AF|\n",
      "|AFM00040948|  34.566|   69.212|   1791.3|      null|          KABUL INTL|    null|        null| 40948|          AF|\n",
      "|AFM00040990|    31.5|    65.85|   1010.0|      null|    KANDAHAR AIRPORT|    null|        null| 40990|          AF|\n",
      "+-----------+--------+---------+---------+----------+--------------------+--------+------------+------+------------+\n",
      "only showing top 10 rows\n",
      "\n"
     ]
    }
   ],
   "source": [
    "#Extract country code from ID\n",
    "stations_renamed = stations_renamed.withColumn(\"COUNTRY_CODE\", F.col(\"ID\")[0:2])\n",
    "stations_renamed.show(10)"
   ]
  },
  {
   "cell_type": "code",
   "execution_count": 53,
   "metadata": {},
   "outputs": [
    {
     "name": "stdout",
     "output_type": "stream",
     "text": [
      "+------------+-----------+--------+---------+---------+----------+--------------------+--------+------------+------+--------------------+\n",
      "|COUNTRY_CODE|         ID|LATITUDE|LONGITUDE|ELEVATION|STATE_CODE|        STATION_NAME|GSN_FLAG|HCN_CRN_FLAG|WMO_ID|        COUNTRY_NAME|\n",
      "+------------+-----------+--------+---------+---------+----------+--------------------+--------+------------+------+--------------------+\n",
      "|          AC|ACW00011604| 17.1167| -61.7833|     10.1|      null|ST JOHNS COOLIDGE...|    null|        null|  null| Antigua and Barbuda|\n",
      "|          AC|ACW00011647| 17.1333| -61.7833|     19.2|      null|            ST JOHNS|    null|        null|  null| Antigua and Barbuda|\n",
      "|          AE|AE000041196|  25.333|   55.517|     34.0|      null| SHARJAH INTER. AIRP|     GSN|        null| 41196|United Arab Emirates|\n",
      "|          AE|AEM00041194|  25.255|   55.364|     10.4|      null|          DUBAI INTL|    null|        null| 41194|United Arab Emirates|\n",
      "|          AE|AEM00041217|  24.433|   54.651|     26.8|      null|      ABU DHABI INTL|    null|        null| 41217|United Arab Emirates|\n",
      "|          AE|AEM00041218|  24.262|   55.609|    264.9|      null|         AL AIN INTL|    null|        null| 41218|United Arab Emirates|\n",
      "|          AF|AF000040930|  35.317|   69.017|   3366.0|      null|        NORTH-SALANG|     GSN|        null| 40930|         Afghanistan|\n",
      "|          AF|AFM00040938|   34.21|   62.228|    977.2|      null|               HERAT|    null|        null| 40938|         Afghanistan|\n",
      "|          AF|AFM00040948|  34.566|   69.212|   1791.3|      null|          KABUL INTL|    null|        null| 40948|         Afghanistan|\n",
      "|          AF|AFM00040990|    31.5|    65.85|   1010.0|      null|    KANDAHAR AIRPORT|    null|        null| 40990|         Afghanistan|\n",
      "+------------+-----------+--------+---------+---------+----------+--------------------+--------+------------+------+--------------------+\n",
      "only showing top 10 rows\n",
      "\n"
     ]
    }
   ],
   "source": [
    "#Left join returns all rows from the left dataset regardless of match found on the right dataset when join expression \n",
    "#doesn’t match, it assigns null for that record and drops records from right where match not found.\n",
    "stations_with_country_name = (\n",
    "  stations_renamed\n",
    "  .join(\n",
    "    countries_renamed,\n",
    "    on=\"COUNTRY_CODE\",\n",
    "    how=\"left\"\n",
    "  )\n",
    ")   \n",
    "stations_with_country_name.show(10) "
   ]
  },
  {
   "cell_type": "code",
   "execution_count": 54,
   "metadata": {},
   "outputs": [
    {
     "name": "stdout",
     "output_type": "stream",
     "text": [
      "+----------+------------+-----------+--------+---------+---------+--------------------+--------+------------+------+--------------------+----------+\n",
      "|STATE_CODE|COUNTRY_CODE|         ID|LATITUDE|LONGITUDE|ELEVATION|        STATION_NAME|GSN_FLAG|HCN_CRN_FLAG|WMO_ID|        COUNTRY_NAME|STATE_NAME|\n",
      "+----------+------------+-----------+--------+---------+---------+--------------------+--------+------------+------+--------------------+----------+\n",
      "|      null|          AC|ACW00011604| 17.1167| -61.7833|     10.1|ST JOHNS COOLIDGE...|    null|        null|  null| Antigua and Barbuda|      null|\n",
      "|      null|          AC|ACW00011647| 17.1333| -61.7833|     19.2|            ST JOHNS|    null|        null|  null| Antigua and Barbuda|      null|\n",
      "|      null|          AE|AE000041196|  25.333|   55.517|     34.0| SHARJAH INTER. AIRP|     GSN|        null| 41196|United Arab Emirates|      null|\n",
      "|      null|          AE|AEM00041194|  25.255|   55.364|     10.4|          DUBAI INTL|    null|        null| 41194|United Arab Emirates|      null|\n",
      "|      null|          AE|AEM00041217|  24.433|   54.651|     26.8|      ABU DHABI INTL|    null|        null| 41217|United Arab Emirates|      null|\n",
      "|      null|          AE|AEM00041218|  24.262|   55.609|    264.9|         AL AIN INTL|    null|        null| 41218|United Arab Emirates|      null|\n",
      "|      null|          AF|AF000040930|  35.317|   69.017|   3366.0|        NORTH-SALANG|     GSN|        null| 40930|         Afghanistan|      null|\n",
      "|      null|          AF|AFM00040938|   34.21|   62.228|    977.2|               HERAT|    null|        null| 40938|         Afghanistan|      null|\n",
      "|      null|          AF|AFM00040948|  34.566|   69.212|   1791.3|          KABUL INTL|    null|        null| 40948|         Afghanistan|      null|\n",
      "|      null|          AF|AFM00040990|    31.5|    65.85|   1010.0|    KANDAHAR AIRPORT|    null|        null| 40990|         Afghanistan|      null|\n",
      "+----------+------------+-----------+--------+---------+---------+--------------------+--------+------------+------+--------------------+----------+\n",
      "only showing top 10 rows\n",
      "\n"
     ]
    }
   ],
   "source": [
    "#Left join stations and countries with states.\n",
    "stations_with_country_and_state_name = (\n",
    "  stations_with_country_name\n",
    "  .join(\n",
    "    states_renamed,\n",
    "    on=\"STATE_CODE\",\n",
    "    how=\"left\"\n",
    "  )\n",
    ")   \n",
    "stations_with_country_and_state_name.show(10)"
   ]
  },
  {
   "cell_type": "code",
   "execution_count": 56,
   "metadata": {},
   "outputs": [
    {
     "name": "stdout",
     "output_type": "stream",
     "text": [
      "+----------+--------------------+------------+--------------------+\n",
      "|STATE_CODE|          STATE_NAME|COUNTRY_CODE|        COUNTRY_NAME|\n",
      "+----------+--------------------+------------+--------------------+\n",
      "|        BC|    BRITISH COLUMBIA|          CA|              Canada|\n",
      "|        MH|    MARSHALL ISLANDS|          RM|    Marshall Islands|\n",
      "|        VI|      VIRGIN ISLANDS|          VQ|Virgin Islands [U...|\n",
      "|        NU|             NUNAVUT|          CA|              Canada|\n",
      "|        AB|             ALBERTA|          CA|              Canada|\n",
      "|        QC|              QUEBEC|          CA|              Canada|\n",
      "|        UM|U.S. MINOR OUTLYI...|          LQ|Palmyra Atoll [Un...|\n",
      "|        NT|NORTHWEST TERRITO...|          CA|              Canada|\n",
      "|        PE|PRINCE EDWARD ISLAND|          CA|              Canada|\n",
      "|        NL|NEWFOUNDLAND AND ...|          CA|              Canada|\n",
      "|        UM|U.S. MINOR OUTLYI...|          JQ|Johnston Atoll [U...|\n",
      "|        UM|U.S. MINOR OUTLYI...|          WQ|Wake Island [Unit...|\n",
      "|        SK|        SASKATCHEWAN|          CA|              Canada|\n",
      "|        NB|       NEW BRUNSWICK|          CA|              Canada|\n",
      "|        NS|         NOVA SCOTIA|          CA|              Canada|\n",
      "|        FM|          MICRONESIA|          FM|Federated States ...|\n",
      "|        AS|      AMERICAN SAMOA|          AQ|American Samoa [U...|\n",
      "|        YT|     YUKON TERRITORY|          CA|              Canada|\n",
      "|        GU|                GUAM|          GQ|Guam [United States]|\n",
      "|        UM|U.S. MINOR OUTLYI...|          MQ|Midway Islands [U...|\n",
      "|        MP|NORTHERN MARIANA ...|          CQ|Northern Mariana ...|\n",
      "|        MB|            MANITOBA|          CA|              Canada|\n",
      "|        ON|             ONTARIO|          CA|              Canada|\n",
      "|        PW|               PALAU|          PS|               Palau|\n",
      "|        PR|         PUERTO RICO|          RQ|Puerto Rico [Unit...|\n",
      "+----------+--------------------+------------+--------------------+\n",
      "\n"
     ]
    }
   ],
   "source": [
    "stations_with_country_and_state_name.select('STATE_CODE','STATE_NAME','COUNTRY_CODE','COUNTRY_NAME').where((F.col('COUNTRY_CODE')!='US') & (F.col('STATE_NAME')!='null')).distinct().show(50)"
   ]
  },
  {
   "cell_type": "code",
   "execution_count": 58,
   "metadata": {},
   "outputs": [
    {
     "name": "stdout",
     "output_type": "stream",
     "text": [
      "+-----------+--------+---------+-------+---------+--------+\n",
      "|         ID|LATITUDE|LONGITUDE|ELEMENT|FIRSTYEAR|LASTYEAR|\n",
      "+-----------+--------+---------+-------+---------+--------+\n",
      "|ACW00011604| 17.1167| -61.7833|   TMAX|     1949|    1949|\n",
      "|ACW00011604| 17.1167| -61.7833|   TMIN|     1949|    1949|\n",
      "|ACW00011604| 17.1167| -61.7833|   PRCP|     1949|    1949|\n",
      "|ACW00011604| 17.1167| -61.7833|   SNOW|     1949|    1949|\n",
      "|ACW00011604| 17.1167| -61.7833|   SNWD|     1949|    1949|\n",
      "|ACW00011604| 17.1167| -61.7833|   PGTM|     1949|    1949|\n",
      "|ACW00011604| 17.1167| -61.7833|   WDFG|     1949|    1949|\n",
      "|ACW00011604| 17.1167| -61.7833|   WSFG|     1949|    1949|\n",
      "|ACW00011604| 17.1167| -61.7833|   WT03|     1949|    1949|\n",
      "|ACW00011604| 17.1167| -61.7833|   WT08|     1949|    1949|\n",
      "+-----------+--------+---------+-------+---------+--------+\n",
      "only showing top 10 rows\n",
      "\n"
     ]
    }
   ],
   "source": [
    "inventory_renamed.show(10)"
   ]
  },
  {
   "cell_type": "code",
   "execution_count": 42,
   "metadata": {},
   "outputs": [
    {
     "name": "stdout",
     "output_type": "stream",
     "text": [
      "root\n",
      " |-- ID: string (nullable = true)\n",
      " |-- LATITUDE: double (nullable = true)\n",
      " |-- LONGITUDE: double (nullable = true)\n",
      " |-- ELEMENT: string (nullable = true)\n",
      " |-- FIRSTYEAR: integer (nullable = true)\n",
      " |-- LASTYEAR: integer (nullable = true)\n",
      "\n"
     ]
    }
   ],
   "source": [
    "inventory_renamed.printSchema()"
   ]
  },
  {
   "cell_type": "code",
   "execution_count": 3,
   "metadata": {},
   "outputs": [],
   "source": [
    "core_elements = [\"PRCP\", \"SNOW\", \"SNWD\", \"TMAX\", \"TMIN\"]  # define the core elements as a list"
   ]
  },
  {
   "cell_type": "code",
   "execution_count": 60,
   "metadata": {},
   "outputs": [
    {
     "name": "stdout",
     "output_type": "stream",
     "text": [
      "+-----------+----------+--------+--------------------+--------------------+------------+--------------------+-----------------+--------------------+------------------+\n",
      "|         ID|START_YEAR|END_YEAR|            ELEMENTS|   ELEMENTS_DISTINCT|NUM_ELEMENTS|       CORE_ELEMENTS|NUM_CORE_ELEMENTS|      OTHER_ELEMENTS|NUM_OTHER_ELEMENTS|\n",
      "+-----------+----------+--------+--------------------+--------------------+------------+--------------------+-----------------+--------------------+------------------+\n",
      "|ACW00011604|      1949|    1949|[TMAX, TMIN, PRCP...|[TMAX, TMIN, WSFG...|          11|[TMAX, TMIN, PRCP...|                5|[WSFG, WDFG, PGTM...|                 6|\n",
      "|ACW00011647|      1957|    1970|[TMAX, TMIN, PRCP...|[TMAX, TMIN, PRCP...|           7|[TMAX, TMIN, PRCP...|                5|        [WT16, WT03]|                 2|\n",
      "|AE000041196|      1944|    2022|[TMAX, TMIN, PRCP...|[TMAX, TMIN, PRCP...|           4|  [TMAX, TMIN, PRCP]|                3|              [TAVG]|                 1|\n",
      "|AEM00041194|      1983|    2022|[TMAX, TMIN, PRCP...|[TMAX, TMIN, PRCP...|           4|  [TMAX, TMIN, PRCP]|                3|              [TAVG]|                 1|\n",
      "|AEM00041217|      1983|    2022|[TMAX, TMIN, PRCP...|[TMAX, TMIN, PRCP...|           4|  [TMAX, TMIN, PRCP]|                3|              [TAVG]|                 1|\n",
      "|AEM00041218|      1994|    2022|[TMAX, TMIN, PRCP...|[TMAX, TMIN, PRCP...|           4|  [TMAX, TMIN, PRCP]|                3|              [TAVG]|                 1|\n",
      "|AF000040930|      1973|    1992|[TMAX, TMIN, PRCP...|[TMAX, TMIN, PRCP...|           5|[TMAX, TMIN, PRCP...|                4|              [TAVG]|                 1|\n",
      "|AFM00040938|      1973|    2021|[TMAX, TMIN, PRCP...|[TMAX, TMIN, PRCP...|           5|[TMAX, TMIN, PRCP...|                4|              [TAVG]|                 1|\n",
      "|AFM00040948|      1966|    2021|[TMAX, TMIN, PRCP...|[TMAX, TMIN, PRCP...|           5|[TMAX, TMIN, PRCP...|                4|              [TAVG]|                 1|\n",
      "|AFM00040990|      1973|    2020|[TMAX, TMIN, PRCP...|[TMAX, TMIN, PRCP...|           5|[TMAX, TMIN, PRCP...|                4|              [TAVG]|                 1|\n",
      "+-----------+----------+--------+--------------------+--------------------+------------+--------------------+-----------------+--------------------+------------------+\n",
      "only showing top 10 rows\n",
      "\n"
     ]
    }
   ],
   "source": [
    "#Temporary table to count core and other elements using array functions\n",
    "temp = (\n",
    "    inventory_renamed\n",
    "    .groupby([\"ID\"])\n",
    "    .agg(\n",
    "        F.collect_list(F.col(\"ELEMENT\")).alias(\"ELEMENTS\"),\n",
    "        F.collect_set(F.col(\"ELEMENT\")).alias(\"ELEMENTS_DISTINCT\"),\n",
    "        F.min(F.col(\"FIRSTYEAR\")).alias(\"START_YEAR\"),  \n",
    "        F.max(F.col(\"LASTYEAR\")).alias(\"END_YEAR\"),\n",
    "    )\n",
    "    .select( \n",
    "        F.col(\"ID\"),\n",
    "        F.col(\"START_YEAR\"),\n",
    "        F.col(\"END_YEAR\"),\n",
    "        F.col(\"ELEMENTS\"),\n",
    "        F.col(\"ELEMENTS_DISTINCT\"),\n",
    "        F.size(F.col(\"ELEMENTS_DISTINCT\")).alias(\"NUM_ELEMENTS\"),\n",
    "        F.array_intersect(F.col(\"ELEMENTS_DISTINCT\"), F.array([F.lit(x) for x in core_elements])).alias(\"CORE_ELEMENTS\"),\n",
    "        F.size(F.array_intersect(F.col(\"ELEMENTS_DISTINCT\"), F.array([F.lit(x) for x in core_elements]))).alias(\"NUM_CORE_ELEMENTS\"),\n",
    "        F.array_except(F.col(\"ELEMENTS_DISTINCT\"), F.array([F.lit(x) for x in core_elements])).alias(\"OTHER_ELEMENTS\"),\n",
    "        F.size(F.array_except(F.col(\"ELEMENTS_DISTINCT\"), F.array([F.lit(x) for x in core_elements]))).alias(\"NUM_OTHER_ELEMENTS\"),\n",
    "\n",
    "    )\n",
    "    .sort(F.col(\"ID\"))\n",
    ")\n",
    "temp.show(10)"
   ]
  },
  {
   "cell_type": "code",
   "execution_count": 66,
   "metadata": {},
   "outputs": [],
   "source": [
    "#Copy temp to hdfs\n",
    "temp.write.parquet(\"/user/abh89/spark/outputs/ghcnd/inventory.parquet\")"
   ]
  },
  {
   "cell_type": "code",
   "execution_count": 67,
   "metadata": {},
   "outputs": [],
   "source": [
    "#Copy from hdfs to local\n",
    "!hdfs dfs -copyToLocal /user/abh89/spark/outputs/ghcnd/inventory.parquet ~/spark/outputs/ghcnd/inventory.parquet"
   ]
  },
  {
   "cell_type": "code",
   "execution_count": 70,
   "metadata": {},
   "outputs": [
    {
     "data": {
      "text/plain": [
       "122010"
      ]
     },
     "execution_count": 70,
     "metadata": {},
     "output_type": "execute_result"
    }
   ],
   "source": [
    "temp.count()"
   ]
  },
  {
   "cell_type": "code",
   "execution_count": 46,
   "metadata": {},
   "outputs": [
    {
     "name": "stdout",
     "output_type": "stream",
     "text": [
      "root\n",
      " |-- ID: string (nullable = true)\n",
      " |-- START YEAR: integer (nullable = true)\n",
      " |-- END YEAR: integer (nullable = true)\n",
      " |-- ELEMENTS: array (nullable = false)\n",
      " |    |-- element: string (containsNull = false)\n",
      " |-- ELEMENTS DISTINCT: array (nullable = false)\n",
      " |    |-- element: string (containsNull = false)\n",
      " |-- NUM ELEMENTS: integer (nullable = false)\n",
      " |-- CORE ELEMENTS: array (nullable = false)\n",
      " |    |-- element: string (containsNull = false)\n",
      " |-- NUM CORE ELEMENTS: integer (nullable = false)\n",
      " |-- OTHER ELEMENTS: array (nullable = false)\n",
      " |    |-- element: string (containsNull = false)\n",
      " |-- NUM OTHER ELEMENTS: integer (nullable = false)\n",
      "\n"
     ]
    }
   ],
   "source": [
    "temp.printSchema()"
   ]
  },
  {
   "cell_type": "code",
   "execution_count": 72,
   "metadata": {},
   "outputs": [
    {
     "name": "stdout",
     "output_type": "stream",
     "text": [
      "+-----------------+\n",
      "|sum(NUM_ELEMENTS)|\n",
      "+-----------------+\n",
      "|           725754|\n",
      "+-----------------+\n",
      "\n"
     ]
    }
   ],
   "source": [
    "#Sum of different elements collected by each station\n",
    "temp.agg(F.sum(\"NUM_ELEMENTS\")).show()"
   ]
  },
  {
   "cell_type": "code",
   "execution_count": 75,
   "metadata": {},
   "outputs": [
    {
     "name": "stdout",
     "output_type": "stream",
     "text": [
      "+----------------------+\n",
      "|sum(NUM_CORE_ELEMENTS)|\n",
      "+----------------------+\n",
      "|                336814|\n",
      "+----------------------+\n",
      "\n"
     ]
    }
   ],
   "source": [
    "#Sum of core elements collected by each station\n",
    "temp.agg(F.sum(\"NUM_CORE_ELEMENTS\")).show()"
   ]
  },
  {
   "cell_type": "code",
   "execution_count": 76,
   "metadata": {},
   "outputs": [
    {
     "name": "stdout",
     "output_type": "stream",
     "text": [
      "+-----------------------+\n",
      "|sum(NUM_OTHER_ELEMENTS)|\n",
      "+-----------------------+\n",
      "|                 388940|\n",
      "+-----------------------+\n",
      "\n"
     ]
    }
   ],
   "source": [
    "#Sum of other elements collected by each station\n",
    "temp.agg(F.sum(\"NUM_OTHER_ELEMENTS\")).show()"
   ]
  },
  {
   "cell_type": "code",
   "execution_count": 71,
   "metadata": {},
   "outputs": [
    {
     "data": {
      "text/plain": [
       "20300"
      ]
     },
     "execution_count": 71,
     "metadata": {},
     "output_type": "execute_result"
    }
   ],
   "source": [
    "#Num of stations collecting all 5 core elements\n",
    "temp.select('ID').where(F.col('NUM_CORE_ELEMENTS') == 5).count()"
   ]
  },
  {
   "cell_type": "code",
   "execution_count": 78,
   "metadata": {},
   "outputs": [
    {
     "data": {
      "text/plain": [
       "16159"
      ]
     },
     "execution_count": 78,
     "metadata": {},
     "output_type": "execute_result"
    }
   ],
   "source": [
    "#collecting only precipitation and no other element.\n",
    "temp.where((F.array_contains(F.col('ELEMENTS'),'PRCP'))&(F.col('NUM_ELEMENTS') == 1)).count()"
   ]
  },
  {
   "cell_type": "code",
   "execution_count": 79,
   "metadata": {},
   "outputs": [
    {
     "name": "stdout",
     "output_type": "stream",
     "text": [
      "+-----------+----------+------------+--------+---------+---------+--------------------+--------+------------+------+--------------------+----------+----------+--------+--------------------+--------------------+------------+--------------------+-----------------+--------------+------------------+\n",
      "|         ID|STATE_CODE|COUNTRY_CODE|LATITUDE|LONGITUDE|ELEVATION|        STATION_NAME|GSN_FLAG|HCN_CRN_FLAG|WMO_ID|        COUNTRY_NAME|STATE_NAME|START_YEAR|END_YEAR|            ELEMENTS|   ELEMENTS_DISTINCT|NUM_ELEMENTS|       CORE_ELEMENTS|NUM_CORE_ELEMENTS|OTHER_ELEMENTS|NUM_OTHER_ELEMENTS|\n",
      "+-----------+----------+------------+--------+---------+---------+--------------------+--------+------------+------+--------------------+----------+----------+--------+--------------------+--------------------+------------+--------------------+-----------------+--------------+------------------+\n",
      "|AEM00041217|      null|          AE|  24.433|   54.651|     26.8|      ABU DHABI INTL|    null|        null| 41217|United Arab Emirates|      null|      1983|    2022|[TMAX, TMIN, PRCP...|[TMAX, TMIN, PRCP...|           4|  [TMAX, TMIN, PRCP]|                3|        [TAVG]|                 1|\n",
      "|AGE00147708|      null|          AG|   36.72|     4.05|    222.0|          TIZI OUZOU|    null|        null| 60395|             Algeria|      null|      1879|    2022|[TMAX, TMIN, PRCP...|[TMAX, TMIN, PRCP...|           5|[TMAX, TMIN, PRCP...|                4|        [TAVG]|                 1|\n",
      "|AGE00147710|      null|          AG|   36.75|      5.1|      9.0|BEJAIA-BOUGIE (PORT)|    null|        null| 60401|             Algeria|      null|      1909|    2009|[TMAX, TMIN, PRCP...|[TMAX, TMIN, PRCP...|           4|  [TMAX, TMIN, PRCP]|                3|        [TAVG]|                 1|\n",
      "|AGE00147714|      null|          AG|   35.77|      0.8|     78.0|     ORAN-CAP FALCON|    null|        null|  null|             Algeria|      null|      1896|    1938|  [TMAX, TMIN, PRCP]|  [TMAX, TMIN, PRCP]|           3|  [TMAX, TMIN, PRCP]|                3|            []|                 0|\n",
      "|AGE00147719|      null|          AG| 33.7997|     2.89|    767.0|            LAGHOUAT|    null|        null| 60545|             Algeria|      null|      1888|    2022|[TMAX, TMIN, PRCP...|[TMAX, TMIN, PRCP...|           4|  [TMAX, TMIN, PRCP]|                3|        [TAVG]|                 1|\n",
      "|AGM00060360|      null|          AG|  36.822|    7.809|      4.9|              ANNABA|    null|        null| 60360|             Algeria|      null|      1945|    2022|[TMAX, TMIN, PRCP...|[TMAX, TMIN, PRCP...|           4|  [TMAX, TMIN, PRCP]|                3|        [TAVG]|                 1|\n",
      "|AGM00060445|      null|          AG|  36.178|    5.324|   1050.0|     SETIF AIN ARNAT|    null|        null| 60445|             Algeria|      null|      1957|    2022|[TMAX, TMIN, PRCP...|[TMAX, TMIN, PRCP...|           5|[TMAX, TMIN, PRCP...|                4|        [TAVG]|                 1|\n",
      "|AGM00060452|      null|          AG|  35.817|   -0.267|      4.0|               ARZEW|    null|        null| 60452|             Algeria|      null|      1985|    2022|[TMAX, TMIN, PRCP...|[TMAX, TMIN, PRCP...|           4|  [TMAX, TMIN, PRCP]|                3|        [TAVG]|                 1|\n",
      "|AGM00060511|      null|          AG|  35.341|    1.463|    989.1|          BOU CHEKIF|    null|        null| 60511|             Algeria|      null|      1983|    2022|[TMAX, TMIN, PRCP...|[TMAX, TMIN, PRCP...|           5|[TMAX, TMIN, PRCP...|                4|        [TAVG]|                 1|\n",
      "|AGM00060540|      null|          AG|   34.15|    0.067|   1001.0|          EL-KHEITER|    null|        null| 60540|             Algeria|      null|      1981|    2022|[TMAX, TMIN, PRCP...|[TMAX, TMIN, PRCP...|           5|[TMAX, TMIN, PRCP...|                4|        [TAVG]|                 1|\n",
      "+-----------+----------+------------+--------+---------+---------+--------------------+--------+------------+------+--------------------+----------+----------+--------+--------------------+--------------------+------------+--------------------+-----------------+--------------+------------------+\n",
      "only showing top 10 rows\n",
      "\n"
     ]
    }
   ],
   "source": [
    "#Left join stations_with_country_and_state_name with inventory\n",
    "#This is enriched stations data\n",
    "stations_with_country_state_name_inventory = (\n",
    "  stations_with_country_and_state_name\n",
    "  .join(\n",
    "    temp,\n",
    "    on=\"ID\",\n",
    "    how=\"left\"\n",
    "  )\n",
    "    .na.fill(0)\n",
    ")   \n",
    "stations_with_country_state_name_inventory.show(10)"
   ]
  },
  {
   "cell_type": "code",
   "execution_count": 41,
   "metadata": {},
   "outputs": [],
   "source": [
    "#Copy enriched stations data to hdfs\n",
    "stations_with_country_state_name_inventory.write.parquet(\"/user/abh89/spark/outputs/ghcnd/stations_enriched.parquet\")"
   ]
  },
  {
   "cell_type": "code",
   "execution_count": 44,
   "metadata": {},
   "outputs": [
    {
     "name": "stdout",
     "output_type": "stream",
     "text": [
      "Found 33 items\r\n",
      "-rw-r--r--   4 abh89 abh89          0 2022-09-11 04:07 /user/abh89/spark/outputs/ghcnd/stations_enriched.parquet/_SUCCESS\r\n",
      "-rw-r--r--   4 abh89 abh89     203029 2022-09-11 04:07 /user/abh89/spark/outputs/ghcnd/stations_enriched.parquet/part-00000-40e4a51f-89d9-4d4c-8889-caed61a262dd-c000.snappy.parquet\r\n",
      "-rw-r--r--   4 abh89 abh89     204560 2022-09-11 04:07 /user/abh89/spark/outputs/ghcnd/stations_enriched.parquet/part-00001-40e4a51f-89d9-4d4c-8889-caed61a262dd-c000.snappy.parquet\r\n",
      "-rw-r--r--   4 abh89 abh89     204672 2022-09-11 04:07 /user/abh89/spark/outputs/ghcnd/stations_enriched.parquet/part-00002-40e4a51f-89d9-4d4c-8889-caed61a262dd-c000.snappy.parquet\r\n",
      "-rw-r--r--   4 abh89 abh89     209437 2022-09-11 04:07 /user/abh89/spark/outputs/ghcnd/stations_enriched.parquet/part-00003-40e4a51f-89d9-4d4c-8889-caed61a262dd-c000.snappy.parquet\r\n",
      "-rw-r--r--   4 abh89 abh89     202387 2022-09-11 04:07 /user/abh89/spark/outputs/ghcnd/stations_enriched.parquet/part-00004-40e4a51f-89d9-4d4c-8889-caed61a262dd-c000.snappy.parquet\r\n",
      "-rw-r--r--   4 abh89 abh89     205368 2022-09-11 04:07 /user/abh89/spark/outputs/ghcnd/stations_enriched.parquet/part-00005-40e4a51f-89d9-4d4c-8889-caed61a262dd-c000.snappy.parquet\r\n",
      "-rw-r--r--   4 abh89 abh89     203839 2022-09-11 04:07 /user/abh89/spark/outputs/ghcnd/stations_enriched.parquet/part-00006-40e4a51f-89d9-4d4c-8889-caed61a262dd-c000.snappy.parquet\r\n",
      "-rw-r--r--   4 abh89 abh89     202062 2022-09-11 04:07 /user/abh89/spark/outputs/ghcnd/stations_enriched.parquet/part-00007-40e4a51f-89d9-4d4c-8889-caed61a262dd-c000.snappy.parquet\r\n",
      "-rw-r--r--   4 abh89 abh89     205442 2022-09-11 04:07 /user/abh89/spark/outputs/ghcnd/stations_enriched.parquet/part-00008-40e4a51f-89d9-4d4c-8889-caed61a262dd-c000.snappy.parquet\r\n",
      "-rw-r--r--   4 abh89 abh89     207001 2022-09-11 04:07 /user/abh89/spark/outputs/ghcnd/stations_enriched.parquet/part-00009-40e4a51f-89d9-4d4c-8889-caed61a262dd-c000.snappy.parquet\r\n",
      "-rw-r--r--   4 abh89 abh89     209153 2022-09-11 04:07 /user/abh89/spark/outputs/ghcnd/stations_enriched.parquet/part-00010-40e4a51f-89d9-4d4c-8889-caed61a262dd-c000.snappy.parquet\r\n",
      "-rw-r--r--   4 abh89 abh89     207623 2022-09-11 04:07 /user/abh89/spark/outputs/ghcnd/stations_enriched.parquet/part-00011-40e4a51f-89d9-4d4c-8889-caed61a262dd-c000.snappy.parquet\r\n",
      "-rw-r--r--   4 abh89 abh89     198457 2022-09-11 04:07 /user/abh89/spark/outputs/ghcnd/stations_enriched.parquet/part-00012-40e4a51f-89d9-4d4c-8889-caed61a262dd-c000.snappy.parquet\r\n",
      "-rw-r--r--   4 abh89 abh89     201470 2022-09-11 04:07 /user/abh89/spark/outputs/ghcnd/stations_enriched.parquet/part-00013-40e4a51f-89d9-4d4c-8889-caed61a262dd-c000.snappy.parquet\r\n",
      "-rw-r--r--   4 abh89 abh89     204910 2022-09-11 04:07 /user/abh89/spark/outputs/ghcnd/stations_enriched.parquet/part-00014-40e4a51f-89d9-4d4c-8889-caed61a262dd-c000.snappy.parquet\r\n",
      "-rw-r--r--   4 abh89 abh89     210514 2022-09-11 04:07 /user/abh89/spark/outputs/ghcnd/stations_enriched.parquet/part-00015-40e4a51f-89d9-4d4c-8889-caed61a262dd-c000.snappy.parquet\r\n",
      "-rw-r--r--   4 abh89 abh89     207677 2022-09-11 04:07 /user/abh89/spark/outputs/ghcnd/stations_enriched.parquet/part-00016-40e4a51f-89d9-4d4c-8889-caed61a262dd-c000.snappy.parquet\r\n",
      "-rw-r--r--   4 abh89 abh89     210400 2022-09-11 04:07 /user/abh89/spark/outputs/ghcnd/stations_enriched.parquet/part-00017-40e4a51f-89d9-4d4c-8889-caed61a262dd-c000.snappy.parquet\r\n",
      "-rw-r--r--   4 abh89 abh89     203834 2022-09-11 04:07 /user/abh89/spark/outputs/ghcnd/stations_enriched.parquet/part-00018-40e4a51f-89d9-4d4c-8889-caed61a262dd-c000.snappy.parquet\r\n",
      "-rw-r--r--   4 abh89 abh89     210831 2022-09-11 04:07 /user/abh89/spark/outputs/ghcnd/stations_enriched.parquet/part-00019-40e4a51f-89d9-4d4c-8889-caed61a262dd-c000.snappy.parquet\r\n",
      "-rw-r--r--   4 abh89 abh89     209830 2022-09-11 04:07 /user/abh89/spark/outputs/ghcnd/stations_enriched.parquet/part-00020-40e4a51f-89d9-4d4c-8889-caed61a262dd-c000.snappy.parquet\r\n",
      "-rw-r--r--   4 abh89 abh89     209773 2022-09-11 04:07 /user/abh89/spark/outputs/ghcnd/stations_enriched.parquet/part-00021-40e4a51f-89d9-4d4c-8889-caed61a262dd-c000.snappy.parquet\r\n",
      "-rw-r--r--   4 abh89 abh89     205375 2022-09-11 04:07 /user/abh89/spark/outputs/ghcnd/stations_enriched.parquet/part-00022-40e4a51f-89d9-4d4c-8889-caed61a262dd-c000.snappy.parquet\r\n",
      "-rw-r--r--   4 abh89 abh89     202748 2022-09-11 04:07 /user/abh89/spark/outputs/ghcnd/stations_enriched.parquet/part-00023-40e4a51f-89d9-4d4c-8889-caed61a262dd-c000.snappy.parquet\r\n",
      "-rw-r--r--   4 abh89 abh89     200803 2022-09-11 04:07 /user/abh89/spark/outputs/ghcnd/stations_enriched.parquet/part-00024-40e4a51f-89d9-4d4c-8889-caed61a262dd-c000.snappy.parquet\r\n",
      "-rw-r--r--   4 abh89 abh89     202163 2022-09-11 04:07 /user/abh89/spark/outputs/ghcnd/stations_enriched.parquet/part-00025-40e4a51f-89d9-4d4c-8889-caed61a262dd-c000.snappy.parquet\r\n",
      "-rw-r--r--   4 abh89 abh89     205247 2022-09-11 04:07 /user/abh89/spark/outputs/ghcnd/stations_enriched.parquet/part-00026-40e4a51f-89d9-4d4c-8889-caed61a262dd-c000.snappy.parquet\r\n",
      "-rw-r--r--   4 abh89 abh89     205642 2022-09-11 04:07 /user/abh89/spark/outputs/ghcnd/stations_enriched.parquet/part-00027-40e4a51f-89d9-4d4c-8889-caed61a262dd-c000.snappy.parquet\r\n",
      "-rw-r--r--   4 abh89 abh89     201815 2022-09-11 04:07 /user/abh89/spark/outputs/ghcnd/stations_enriched.parquet/part-00028-40e4a51f-89d9-4d4c-8889-caed61a262dd-c000.snappy.parquet\r\n",
      "-rw-r--r--   4 abh89 abh89     208783 2022-09-11 04:07 /user/abh89/spark/outputs/ghcnd/stations_enriched.parquet/part-00029-40e4a51f-89d9-4d4c-8889-caed61a262dd-c000.snappy.parquet\r\n",
      "-rw-r--r--   4 abh89 abh89     201719 2022-09-11 04:07 /user/abh89/spark/outputs/ghcnd/stations_enriched.parquet/part-00030-40e4a51f-89d9-4d4c-8889-caed61a262dd-c000.snappy.parquet\r\n",
      "-rw-r--r--   4 abh89 abh89     207563 2022-09-11 04:07 /user/abh89/spark/outputs/ghcnd/stations_enriched.parquet/part-00031-40e4a51f-89d9-4d4c-8889-caed61a262dd-c000.snappy.parquet\r\n"
     ]
    }
   ],
   "source": [
    "!hdfs dfs -ls /user/abh89/spark/outputs/ghcnd/stations_enriched.parquet "
   ]
  },
  {
   "cell_type": "code",
   "execution_count": 45,
   "metadata": {},
   "outputs": [],
   "source": [
    "#Copy from hdfs to local\n",
    "!hdfs dfs -copyToLocal /user/abh89/spark/outputs/ghcnd/stations_enriched.parquet ~/spark/outputs/ghcnd/stations_enriched.parquet"
   ]
  },
  {
   "cell_type": "code",
   "execution_count": 80,
   "metadata": {},
   "outputs": [
    {
     "name": "stdout",
     "output_type": "stream",
     "text": [
      "+-----------+--------+-------+-----+----------------+------------+-----------+----------------+\n",
      "|         ID|    DATE|ELEMENT|VALUE|MEASUREMENT_FLAG|QUALITY_FLAG|SOURCE_FLAG|OBSERVATION_TIME|\n",
      "+-----------+--------+-------+-----+----------------+------------+-----------+----------------+\n",
      "|AE000041196|20220101|   TAVG|204.0|               H|        null|          S|            null|\n",
      "|AEM00041194|20220101|   TAVG|211.0|               H|        null|          S|            null|\n",
      "|AEM00041217|20220101|   TAVG|209.0|               H|        null|          S|            null|\n",
      "|AEM00041218|20220101|   TAVG|207.0|               H|        null|          S|            null|\n",
      "|AG000060390|20220101|   TAVG|121.0|               H|        null|          S|            null|\n",
      "|AG000060590|20220101|   TAVG|151.0|               H|        null|          S|            null|\n",
      "|AG000060611|20220101|   TAVG|111.0|               H|        null|          S|            null|\n",
      "|AGE00147708|20220101|   TMIN| 73.0|            null|        null|          S|            null|\n",
      "|AGE00147708|20220101|   PRCP|  0.0|            null|        null|          S|            null|\n",
      "|AGE00147708|20220101|   TAVG|133.0|               H|        null|          S|            null|\n",
      "+-----------+--------+-------+-----+----------------+------------+-----------+----------------+\n",
      "only showing top 10 rows\n",
      "\n"
     ]
    }
   ],
   "source": [
    "daily.show(10)"
   ]
  },
  {
   "cell_type": "code",
   "execution_count": 81,
   "metadata": {},
   "outputs": [
    {
     "name": "stdout",
     "output_type": "stream",
     "text": [
      "+-----------+--------+-------+-----+----------------+------------+-----------+----------------+----------+------------+--------+---------+---------+--------------+--------+------------+------+--------------------+----------+----------+--------+--------------------+--------------------+------------+--------------------+-----------------+--------------+------------------+\n",
      "|         ID|    DATE|ELEMENT|VALUE|MEASUREMENT_FLAG|QUALITY_FLAG|SOURCE_FLAG|OBSERVATION_TIME|STATE_CODE|COUNTRY_CODE|LATITUDE|LONGITUDE|ELEVATION|  STATION_NAME|GSN_FLAG|HCN_CRN_FLAG|WMO_ID|        COUNTRY_NAME|STATE_NAME|START_YEAR|END_YEAR|            ELEMENTS|   ELEMENTS_DISTINCT|NUM_ELEMENTS|       CORE_ELEMENTS|NUM_CORE_ELEMENTS|OTHER_ELEMENTS|NUM_OTHER_ELEMENTS|\n",
      "+-----------+--------+-------+-----+----------------+------------+-----------+----------------+----------+------------+--------+---------+---------+--------------+--------+------------+------+--------------------+----------+----------+--------+--------------------+--------------------+------------+--------------------+-----------------+--------------+------------------+\n",
      "|AEM00041217|20220101|   TAVG|209.0|               H|        null|          S|            null|      null|          AE|  24.433|   54.651|     26.8|ABU DHABI INTL|    null|        null| 41217|United Arab Emirates|      null|      1983|    2022|[TMAX, TMIN, PRCP...|[TMAX, TMIN, PRCP...|           4|  [TMAX, TMIN, PRCP]|                3|        [TAVG]|                 1|\n",
      "|AGE00147708|20220101|   TMIN| 73.0|            null|        null|          S|            null|      null|          AG|   36.72|     4.05|    222.0|    TIZI OUZOU|    null|        null| 60395|             Algeria|      null|      1879|    2022|[TMAX, TMIN, PRCP...|[TMAX, TMIN, PRCP...|           5|[TMAX, TMIN, PRCP...|                4|        [TAVG]|                 1|\n",
      "|AGE00147708|20220101|   PRCP|  0.0|            null|        null|          S|            null|      null|          AG|   36.72|     4.05|    222.0|    TIZI OUZOU|    null|        null| 60395|             Algeria|      null|      1879|    2022|[TMAX, TMIN, PRCP...|[TMAX, TMIN, PRCP...|           5|[TMAX, TMIN, PRCP...|                4|        [TAVG]|                 1|\n",
      "|AGE00147708|20220101|   TAVG|133.0|               H|        null|          S|            null|      null|          AG|   36.72|     4.05|    222.0|    TIZI OUZOU|    null|        null| 60395|             Algeria|      null|      1879|    2022|[TMAX, TMIN, PRCP...|[TMAX, TMIN, PRCP...|           5|[TMAX, TMIN, PRCP...|                4|        [TAVG]|                 1|\n",
      "|AGE00147719|20220101|   TMAX|201.0|            null|        null|          S|            null|      null|          AG| 33.7997|     2.89|    767.0|      LAGHOUAT|    null|        null| 60545|             Algeria|      null|      1888|    2022|[TMAX, TMIN, PRCP...|[TMAX, TMIN, PRCP...|           4|  [TMAX, TMIN, PRCP]|                3|        [TAVG]|                 1|\n",
      "|AGE00147719|20220101|   PRCP|  0.0|            null|        null|          S|            null|      null|          AG| 33.7997|     2.89|    767.0|      LAGHOUAT|    null|        null| 60545|             Algeria|      null|      1888|    2022|[TMAX, TMIN, PRCP...|[TMAX, TMIN, PRCP...|           4|  [TMAX, TMIN, PRCP]|                3|        [TAVG]|                 1|\n",
      "|AGE00147719|20220101|   TAVG|119.0|               H|        null|          S|            null|      null|          AG| 33.7997|     2.89|    767.0|      LAGHOUAT|    null|        null| 60545|             Algeria|      null|      1888|    2022|[TMAX, TMIN, PRCP...|[TMAX, TMIN, PRCP...|           4|  [TMAX, TMIN, PRCP]|                3|        [TAVG]|                 1|\n",
      "|AGM00060360|20220101|   TMIN| 90.0|            null|        null|          S|            null|      null|          AG|  36.822|    7.809|      4.9|        ANNABA|    null|        null| 60360|             Algeria|      null|      1945|    2022|[TMAX, TMIN, PRCP...|[TMAX, TMIN, PRCP...|           4|  [TMAX, TMIN, PRCP]|                3|        [TAVG]|                 1|\n",
      "|AGM00060360|20220101|   PRCP|  0.0|            null|        null|          S|            null|      null|          AG|  36.822|    7.809|      4.9|        ANNABA|    null|        null| 60360|             Algeria|      null|      1945|    2022|[TMAX, TMIN, PRCP...|[TMAX, TMIN, PRCP...|           4|  [TMAX, TMIN, PRCP]|                3|        [TAVG]|                 1|\n",
      "|AGM00060360|20220101|   TAVG|126.0|               H|        null|          S|            null|      null|          AG|  36.822|    7.809|      4.9|        ANNABA|    null|        null| 60360|             Algeria|      null|      1945|    2022|[TMAX, TMIN, PRCP...|[TMAX, TMIN, PRCP...|           4|  [TMAX, TMIN, PRCP]|                3|        [TAVG]|                 1|\n",
      "+-----------+--------+-------+-----+----------------+------------+-----------+----------------+----------+------------+--------+---------+---------+--------------+--------+------------+------+--------------------+----------+----------+--------+--------------------+--------------------+------------+--------------------+-----------------+--------------+------------------+\n",
      "only showing top 10 rows\n",
      "\n"
     ]
    }
   ],
   "source": [
    "#Left join subset of daily and stations_with_country_state_name_inventory(enriched stations)\n",
    "daily_with_stations = (\n",
    "  daily\n",
    "  .join(\n",
    "    stations_with_country_state_name_inventory,\n",
    "    on=\"ID\",\n",
    "    how=\"left\"\n",
    "  )\n",
    ")   \n",
    "daily_with_stations.show(10)"
   ]
  },
  {
   "cell_type": "code",
   "execution_count": 85,
   "metadata": {},
   "outputs": [
    {
     "name": "stdout",
     "output_type": "stream",
     "text": [
      "+---+\n",
      "| ID|\n",
      "+---+\n",
      "+---+\n",
      "\n"
     ]
    }
   ],
   "source": [
    "daily_with_stations.select('ID').where(F.col('END_YEAR').isNull()).show(10)"
   ]
  },
  {
   "cell_type": "code",
   "execution_count": 86,
   "metadata": {},
   "outputs": [],
   "source": [
    "#Analysis Q1"
   ]
  },
  {
   "cell_type": "code",
   "execution_count": 87,
   "metadata": {},
   "outputs": [
    {
     "data": {
      "text/plain": [
       "122047"
      ]
     },
     "execution_count": 87,
     "metadata": {},
     "output_type": "execute_result"
    }
   ],
   "source": [
    "#Total number of stations\n",
    "stations_with_country_state_name_inventory.count()"
   ]
  },
  {
   "cell_type": "code",
   "execution_count": 91,
   "metadata": {},
   "outputs": [
    {
     "data": {
      "text/plain": [
       "42588"
      ]
     },
     "execution_count": 91,
     "metadata": {},
     "output_type": "execute_result"
    }
   ],
   "source": [
    "#Stations active in 2021\n",
    "stations_with_country_state_name_inventory.select('ID').where((F.col('END_YEAR')> 2020)&(F.col('START_YEAR')!=2022)).count()"
   ]
  },
  {
   "cell_type": "code",
   "execution_count": 100,
   "metadata": {},
   "outputs": [
    {
     "data": {
      "text/plain": [
       "991"
      ]
     },
     "execution_count": 100,
     "metadata": {},
     "output_type": "execute_result"
    }
   ],
   "source": [
    "#Stations in GSN\n",
    "stations_with_country_state_name_inventory.select('ID').where(F.col('GSN_FLAG')=='GSN').count()"
   ]
  },
  {
   "cell_type": "code",
   "execution_count": 101,
   "metadata": {},
   "outputs": [
    {
     "data": {
      "text/plain": [
       "1218"
      ]
     },
     "execution_count": 101,
     "metadata": {},
     "output_type": "execute_result"
    }
   ],
   "source": [
    "#Stations in HCN\n",
    "stations_with_country_state_name_inventory.select('ID').where(F.col('HCN_CRN_FLAG')=='HCN').count()"
   ]
  },
  {
   "cell_type": "code",
   "execution_count": 103,
   "metadata": {},
   "outputs": [
    {
     "data": {
      "text/plain": [
       "0"
      ]
     },
     "execution_count": 103,
     "metadata": {},
     "output_type": "execute_result"
    }
   ],
   "source": [
    "#Stations in CRN\n",
    "stations_with_country_state_name_inventory.select('ID').where(F.col('HCN_CRN_FLAG')=='CRN').count()"
   ]
  },
  {
   "cell_type": "code",
   "execution_count": 104,
   "metadata": {},
   "outputs": [
    {
     "data": {
      "text/plain": [
       "14"
      ]
     },
     "execution_count": 104,
     "metadata": {},
     "output_type": "execute_result"
    }
   ],
   "source": [
    "#Stations in GSN and HCN\n",
    "stations_with_country_state_name_inventory.select('ID').where((F.col('HCN_CRN_FLAG')=='HCN')&(F.col('GSN_FLAG')=='GSN')).count()"
   ]
  },
  {
   "cell_type": "code",
   "execution_count": 105,
   "metadata": {},
   "outputs": [
    {
     "name": "stdout",
     "output_type": "stream",
     "text": [
      "+------------+-----+\n",
      "|COUNTRY_CODE|  NUM|\n",
      "+------------+-----+\n",
      "|          AC|    2|\n",
      "|          AE|    4|\n",
      "|          AF|    4|\n",
      "|          AG|   87|\n",
      "|          AJ|   66|\n",
      "|          AL|    3|\n",
      "|          AM|   53|\n",
      "|          AO|    6|\n",
      "|          AQ|   21|\n",
      "|          AR|  101|\n",
      "|          AS|17088|\n",
      "|          AU|   13|\n",
      "|          AY|  102|\n",
      "|          BA|    1|\n",
      "|          BB|    1|\n",
      "|          BC|   21|\n",
      "|          BD|    2|\n",
      "|          BE|    1|\n",
      "|          BF|   51|\n",
      "|          BG|   10|\n",
      "+------------+-----+\n",
      "only showing top 20 rows\n",
      "\n"
     ]
    }
   ],
   "source": [
    "#Create a temporary table temp2 for aggregation\n",
    "temp2 = (\n",
    "  stations_with_country_state_name_inventory\n",
    "  .groupBy([\"COUNTRY_CODE\"])\n",
    "  .agg(\n",
    "    F.countDistinct(F.col(\"ID\")).cast(IntegerType()).alias(\"NUM\"),\n",
    "  )\n",
    "    .sort(F.col(\"COUNTRY_CODE\"))\n",
    ")    \n",
    "    \n",
    "temp2.show(20)"
   ]
  },
  {
   "cell_type": "code",
   "execution_count": 106,
   "metadata": {},
   "outputs": [
    {
     "name": "stdout",
     "output_type": "stream",
     "text": [
      "+------------+--------------------+------------+\n",
      "|COUNTRY_CODE|        COUNTRY_NAME|NUM_STATIONS|\n",
      "+------------+--------------------+------------+\n",
      "|          AC| Antigua and Barbuda|           2|\n",
      "|          AE|United Arab Emirates|           4|\n",
      "|          AF|         Afghanistan|           4|\n",
      "|          AG|             Algeria|          87|\n",
      "|          AJ|          Azerbaijan|          66|\n",
      "|          AL|             Albania|           3|\n",
      "|          AM|             Armenia|          53|\n",
      "|          AO|              Angola|           6|\n",
      "|          AQ|American Samoa [U...|          21|\n",
      "|          AR|           Argentina|         101|\n",
      "+------------+--------------------+------------+\n",
      "only showing top 10 rows\n",
      "\n"
     ]
    }
   ],
   "source": [
    "#Join temporary table and countries\n",
    "#Update column name using withColumnRenamed\n",
    "countries_updated = (\n",
    "    countries_renamed\n",
    "    .join(temp2.withColumnRenamed(\"NUM\",\"NUM_STATIONS\"), on=\"COUNTRY_CODE\", how=\"left\")\n",
    "    .na.fill(0)\n",
    "    .sort(F.col(\"COUNTRY_CODE\"))\n",
    ")\n",
    "\n",
    "countries_updated.show(10)"
   ]
  },
  {
   "cell_type": "code",
   "execution_count": 107,
   "metadata": {},
   "outputs": [],
   "source": [
    "#Save the data to hdfs\n",
    "countries_updated.repartition(1).write.csv(\"/user/abh89/spark/outputs/ghcnd/countries.csv\")"
   ]
  },
  {
   "cell_type": "code",
   "execution_count": 108,
   "metadata": {},
   "outputs": [],
   "source": [
    "#Copy to local\n",
    "!hdfs dfs -copyToLocal /user/abh89/spark/outputs/ghcnd/countries.csv ~/spark/outputs/ghcnd/countries.csv"
   ]
  },
  {
   "cell_type": "code",
   "execution_count": 109,
   "metadata": {},
   "outputs": [
    {
     "name": "stdout",
     "output_type": "stream",
     "text": [
      "+----------+-----+\n",
      "|STATE_CODE|  NUM|\n",
      "+----------+-----+\n",
      "|      null|43969|\n",
      "|        AB| 1440|\n",
      "|        AK| 1018|\n",
      "|        AL| 1059|\n",
      "|        AR|  901|\n",
      "|        AS|   21|\n",
      "|        AZ| 1604|\n",
      "|        BC| 1709|\n",
      "|        BH|   45|\n",
      "|        CA| 2977|\n",
      "|        CO| 4457|\n",
      "|        CT|  397|\n",
      "|        DC|   17|\n",
      "|        DE|  134|\n",
      "|        FL| 2021|\n",
      "|        FM|   38|\n",
      "|        GA| 1329|\n",
      "|        GU|   21|\n",
      "|        HI|  762|\n",
      "|        IA|  955|\n",
      "+----------+-----+\n",
      "only showing top 20 rows\n",
      "\n"
     ]
    }
   ],
   "source": [
    "#Create a temporary table temp3 for aggregation\n",
    "temp3 = (\n",
    "  stations_with_country_state_name_inventory\n",
    "  .groupBy([\"STATE_CODE\"])\n",
    "  .agg(\n",
    "    F.countDistinct(F.col(\"ID\")).cast(IntegerType()).alias(\"NUM\"),\n",
    "  )\n",
    "    .sort(F.col(\"STATE_CODE\"))\n",
    ")    \n",
    "    \n",
    "temp3.show(20)"
   ]
  },
  {
   "cell_type": "code",
   "execution_count": 110,
   "metadata": {},
   "outputs": [
    {
     "name": "stdout",
     "output_type": "stream",
     "text": [
      "+----------+----------------+------------+\n",
      "|STATE_CODE|      STATE_NAME|NUM_STATIONS|\n",
      "+----------+----------------+------------+\n",
      "|        AB|         ALBERTA|        1440|\n",
      "|        AK|          ALASKA|        1018|\n",
      "|        AL|         ALABAMA|        1059|\n",
      "|        AR|        ARKANSAS|         901|\n",
      "|        AS|  AMERICAN SAMOA|          21|\n",
      "|        AZ|         ARIZONA|        1604|\n",
      "|        BC|BRITISH COLUMBIA|        1709|\n",
      "|        CA|      CALIFORNIA|        2977|\n",
      "|        CO|        COLORADO|        4457|\n",
      "|        CT|     CONNECTICUT|         397|\n",
      "+----------+----------------+------------+\n",
      "only showing top 10 rows\n",
      "\n"
     ]
    }
   ],
   "source": [
    "#Join temporary table and states\n",
    "#Update column name using withColumnRenamed\n",
    "states_updated = (\n",
    "    states_renamed\n",
    "    .join(temp3.withColumnRenamed(\"NUM\",\"NUM_STATIONS\"), on=\"STATE_CODE\", how=\"left\")\n",
    "    .na.fill(0)\n",
    "    .sort(F.col(\"STATE_CODE\"))\n",
    ")\n",
    "\n",
    "states_updated.show(10)"
   ]
  },
  {
   "cell_type": "code",
   "execution_count": 111,
   "metadata": {},
   "outputs": [],
   "source": [
    "#Save the data to hdfs\n",
    "states_updated.repartition(1).write.csv(\"/user/abh89/spark/outputs/ghcnd/states.csv\")"
   ]
  },
  {
   "cell_type": "code",
   "execution_count": 112,
   "metadata": {},
   "outputs": [],
   "source": [
    "#Copy to local\n",
    "!hdfs dfs -copyToLocal /user/abh89/spark/outputs/ghcnd/states.csv ~/spark/outputs/ghcnd/states.csv"
   ]
  },
  {
   "cell_type": "code",
   "execution_count": 113,
   "metadata": {},
   "outputs": [
    {
     "data": {
      "text/plain": [
       "25337"
      ]
     },
     "execution_count": 113,
     "metadata": {},
     "output_type": "execute_result"
    }
   ],
   "source": [
    "#Stations in southern hemisphere\n",
    "stations_with_country_state_name_inventory.select('ID').where(F.col('LATITUDE')<0).count()"
   ]
  },
  {
   "cell_type": "code",
   "execution_count": 133,
   "metadata": {},
   "outputs": [
    {
     "name": "stdout",
     "output_type": "stream",
     "text": [
      "+----------+--------------------+------------+--------------------+\n",
      "|STATE_CODE|          STATE_NAME|COUNTRY_CODE|        COUNTRY_NAME|\n",
      "+----------+--------------------+------------+--------------------+\n",
      "|        VI|      VIRGIN ISLANDS|          VQ|Virgin Islands [U...|\n",
      "|        UM|U.S. MINOR OUTLYI...|          LQ|Palmyra Atoll [Un...|\n",
      "|        UM|U.S. MINOR OUTLYI...|          JQ|Johnston Atoll [U...|\n",
      "|        UM|U.S. MINOR OUTLYI...|          WQ|Wake Island [Unit...|\n",
      "|        AS|      AMERICAN SAMOA|          AQ|American Samoa [U...|\n",
      "|        GU|                GUAM|          GQ|Guam [United States]|\n",
      "|        UM|U.S. MINOR OUTLYI...|          MQ|Midway Islands [U...|\n",
      "|        MP|NORTHERN MARIANA ...|          CQ|Northern Mariana ...|\n",
      "|        PR|         PUERTO RICO|          RQ|Puerto Rico [Unit...|\n",
      "+----------+--------------------+------------+--------------------+\n",
      "\n"
     ]
    }
   ],
   "source": [
    "#Finding US territories\n",
    "US_territories = (stations_with_country_and_state_name.select('STATE_CODE','STATE_NAME','COUNTRY_CODE','COUNTRY_NAME')\n",
    "                  .where((F.col('COUNTRY_CODE')!='US') & (F.col('STATE_NAME')!='null')& (F.col('COUNTRY_NAME').contains('United States')))\n",
    "                  .distinct())\n",
    "US_territories.show(10)"
   ]
  },
  {
   "cell_type": "code",
   "execution_count": 134,
   "metadata": {},
   "outputs": [
    {
     "name": "stdout",
     "output_type": "stream",
     "text": [
      "+----------+------------+------------+\n",
      "|STATE_CODE|COUNTRY_CODE|NUM_STATIONS|\n",
      "+----------+------------+------------+\n",
      "|        MP|          CQ|          11|\n",
      "|        UM|          WQ|           1|\n",
      "|        AS|          AQ|          21|\n",
      "|        UM|          LQ|           3|\n",
      "|        GU|          GQ|          21|\n",
      "|        UM|          MQ|           2|\n",
      "|        UM|          JQ|           4|\n",
      "|        VI|          VQ|          64|\n",
      "|        PR|          RQ|         227|\n",
      "+----------+------------+------------+\n",
      "\n"
     ]
    }
   ],
   "source": [
    "#Count of stations in US territories\n",
    "#Leftjoin US territories and countries as there are duplicate state code for different country code\n",
    "US_territories = (\n",
    "    US_territories\n",
    "    .join(countries_updated, on=\"COUNTRY_CODE\", how=\"left\")\n",
    "    .na.fill(0)\n",
    "    .select('STATE_CODE','COUNTRY_CODE','NUM_STATIONS')\n",
    ")\n",
    "\n",
    "US_territories.show(10)"
   ]
  },
  {
   "cell_type": "code",
   "execution_count": 135,
   "metadata": {},
   "outputs": [
    {
     "name": "stdout",
     "output_type": "stream",
     "text": [
      "+-----------------+\n",
      "|sum(NUM_STATIONS)|\n",
      "+-----------------+\n",
      "|              354|\n",
      "+-----------------+\n",
      "\n"
     ]
    }
   ],
   "source": [
    "#Sum of stations in US territories\n",
    "US_territories.agg(F.sum(\"NUM_STATIONS\")).show()"
   ]
  },
  {
   "cell_type": "code",
   "execution_count": null,
   "metadata": {},
   "outputs": [],
   "source": [
    "#Analysis Q2"
   ]
  },
  {
   "cell_type": "code",
   "execution_count": 67,
   "metadata": {},
   "outputs": [
    {
     "name": "stdout",
     "output_type": "stream",
     "text": [
      "+-----------+----------+------------+--------+---------+---------+--------------------+--------+-----------+------+--------------------+--------------+----------+--------+--------------------+--------------------+------------+--------------------+-----------------+--------------------+------------------+\n",
      "|         ID|STATE CODE|COUNTRY CODE|LATITUDE|LONGITUDE|ELEVATION|        STATION NAME|GSN FLAG|HCNSRN FLAG|WMO ID|        COUNTRY NAME|    STATE NAME|START YEAR|END YEAR|            ELEMENTS|   ELEMENTS DISTINCT|NUM ELEMENTS|       CORE ELEMENTS|NUM CORE ELEMENTS|      OTHER ELEMENTS|NUM OTHER ELEMENTS|\n",
      "+-----------+----------+------------+--------+---------+---------+--------------------+--------+-----------+------+--------------------+--------------+----------+--------+--------------------+--------------------+------------+--------------------+-----------------+--------------------+------------------+\n",
      "|AGE00147719|          |          AG| 33.7997|     2.89|    767.0|LAGHOUAT         ...|        |           | 60545|            Algeria |          null|      1888|    2022|[TMAX, TMIN, PRCP...|[TMAX, TMIN, PRCP...|           4|  [TMAX, TMIN, PRCP]|                3|              [TAVG]|                 1|\n",
      "|ALE00100939|          |          AL| 41.3331|  19.7831|     89.0|TIRANA           ...|        |           |      |             Albania|          null|      1940|    2000|        [TMAX, PRCP]|        [TMAX, PRCP]|           2|        [TMAX, PRCP]|                2|                  []|                 0|\n",
      "|AQC00914873|        AS|          AQ|  -14.35|-170.7667|     14.9|TAPUTIMU TUTUILA ...|        |           |      |American Samoa [U...|AMERICAN SAMOA|      1955|    1967|[TMAX, TMIN, TOBS...|[WT03, TMAX, TMIN...|          12|[TMAX, TMIN, PRCP...|                5|[WT03, MDPR, DAPR...|                 7|\n",
      "|AR000000002|          |          AR|  -29.82|   -57.42|     75.0|BONPLAND         ...|        |           |      |          Argentina |          null|      1981|    2000|              [PRCP]|              [PRCP]|           1|              [PRCP]|                1|                  []|                 0|\n",
      "|AR000875850|          |          AR| -34.583|  -58.483|     25.0|BUENOS AIRES OBSE...|        |           | 87585|          Argentina |          null|      1908|    2022|[TMAX, TMIN, PRCP...|[TMAX, TMIN, PRCP...|           5|[TMAX, TMIN, PRCP...|                4|              [TAVG]|                 1|\n",
      "|ARM00087022|          |          AR|  -22.62|  -63.794|    449.0|GENERAL ENRIQUE M...|        |           | 87022|          Argentina |          null|      1973|    2022|[TMAX, TMIN, PRCP...|[TMAX, TMIN, PRCP...|           4|  [TMAX, TMIN, PRCP]|                3|              [TAVG]|                 1|\n",
      "|ARM00087480|          |          AR| -32.904|  -60.785|     25.9|ROSARIO          ...|        |           | 87480|          Argentina |          null|      1965|    2022|[TMAX, TMIN, PRCP...|[TMAX, TMIN, PRCP...|           5|[TMAX, TMIN, PRCP...|                4|              [TAVG]|                 1|\n",
      "|ARM00087904|          |          AR| -50.267|   -72.05|    204.0|EL CALAFATE AERO ...|        |           | 87904|          Argentina |          null|      2003|    2022|[TMAX, TMIN, PRCP...|[TMAX, TMIN, PRCP...|           5|[TMAX, TMIN, PRCP...|                4|              [TAVG]|                 1|\n",
      "|ASN00001003|          |          AS|-14.1331| 126.7158|      5.0|PAGO MISSION     ...|        |           |      |          Australia |          null|      1909|    1940|              [PRCP]|              [PRCP]|           1|              [PRCP]|                1|                  []|                 0|\n",
      "|ASN00002033|          |          AS|   -17.8|    128.3|   -999.9|TURNER RIVER     ...|        |           |      |          Australia |          null|      1920|    1965|              [PRCP]|              [PRCP]|           1|              [PRCP]|                1|                  []|                 0|\n",
      "+-----------+----------+------------+--------+---------+---------+--------------------+--------+-----------+------+--------------------+--------------+----------+--------+--------------------+--------------------+------------+--------------------+-----------------+--------------------+------------------+\n",
      "only showing top 10 rows\n",
      "\n"
     ]
    }
   ],
   "source": [
    "stations_with_country_state_name_inventory.show(10)"
   ]
  },
  {
   "cell_type": "code",
   "execution_count": 136,
   "metadata": {},
   "outputs": [],
   "source": [
    "from math import radians, cos, sin, asin, sqrt"
   ]
  },
  {
   "cell_type": "code",
   "execution_count": 138,
   "metadata": {},
   "outputs": [
    {
     "name": "stdout",
     "output_type": "stream",
     "text": [
      "+-----------+-------------------+--------+---------+\n",
      "|         ID|       STATION_NAME|LATITUDE|LONGITUDE|\n",
      "+-----------+-------------------+--------+---------+\n",
      "|NZM00093110|  AUCKLAND AERO AWS|   -37.0|    174.8|\n",
      "|NZ000936150| HOKITIKA AERODROME| -42.717|  170.983|\n",
      "|NZM00093678|           KAIKOURA| -42.417|    173.7|\n",
      "|NZ000093844|INVERCARGILL AIRPOR| -46.417|  168.333|\n",
      "|NZ000093994| RAOUL ISL/KERMADEC|  -29.25| -177.917|\n",
      "+-----------+-------------------+--------+---------+\n",
      "only showing top 5 rows\n",
      "\n"
     ]
    }
   ],
   "source": [
    "#Filter stations in New Zealand and select required columns\n",
    "nz_stations = (stations_with_country_state_name_inventory\n",
    ".filter(F.col(\"COUNTRY_CODE\")==\"NZ\")\n",
    ".select(\"ID\",\"STATION_NAME\",\"LATITUDE\",\"LONGITUDE\"))\n",
    "nz_stations.show(5)"
   ]
  },
  {
   "cell_type": "code",
   "execution_count": 139,
   "metadata": {},
   "outputs": [],
   "source": [
    "#Haversine function\n",
    "def get_distance(longit_a, latit_a, longit_b, latit_b):\n",
    "# Transform to radians\n",
    "    longit_a, latit_a, longit_b, latit_b = map(radians, [longit_a,  latit_a, longit_b, latit_b])\n",
    "    dist_longit = longit_b - longit_a\n",
    "    dist_latit = latit_b - latit_a\n",
    "# Calculate area\n",
    "    area = sin(dist_latit/2)**2 + cos(latit_a) * cos(latit_b) * sin(dist_longit/2)**2\n",
    "# Calculate the central angle\n",
    "    central_angle = 2 * asin(sqrt(area))\n",
    "    radius = 6371\n",
    "# Calculate Distance\n",
    "    distance = central_angle * radius\n",
    "    return abs(round(distance, 2))"
   ]
  },
  {
   "cell_type": "code",
   "execution_count": 140,
   "metadata": {},
   "outputs": [],
   "source": [
    "#Create a udf to use it on our spark dataframe\n",
    "udf_get_distance = F.udf(get_distance)"
   ]
  },
  {
   "cell_type": "code",
   "execution_count": 141,
   "metadata": {},
   "outputs": [],
   "source": [
    "#Cross join\n",
    "nz_station_pairs = (nz_stations.crossJoin(nz_stations).toDF(\n",
    "\"STATION_ID_A\", \"STATION_NAME_A\", \"LATITUDE_A\", \"LONGITUDE_A\",\n",
    "\"STATION_ID_B\", \"STATION_NAME_B\", \"LATITUDE_B\", \"LONGITUDE_B\"))"
   ]
  },
  {
   "cell_type": "code",
   "execution_count": 142,
   "metadata": {},
   "outputs": [
    {
     "name": "stdout",
     "output_type": "stream",
     "text": [
      "+------------+-----------------+----------+-----------+------------+-------------------+----------+-----------+\n",
      "|STATION_ID_A|   STATION_NAME_A|LATITUDE_A|LONGITUDE_A|STATION_ID_B|     STATION_NAME_B|LATITUDE_B|LONGITUDE_B|\n",
      "+------------+-----------------+----------+-----------+------------+-------------------+----------+-----------+\n",
      "| NZM00093110|AUCKLAND AERO AWS|     -37.0|      174.8| NZM00093110|  AUCKLAND AERO AWS|     -37.0|      174.8|\n",
      "| NZM00093110|AUCKLAND AERO AWS|     -37.0|      174.8| NZ000936150| HOKITIKA AERODROME|   -42.717|    170.983|\n",
      "| NZM00093110|AUCKLAND AERO AWS|     -37.0|      174.8| NZM00093678|           KAIKOURA|   -42.417|      173.7|\n",
      "| NZM00093110|AUCKLAND AERO AWS|     -37.0|      174.8| NZ000093844|INVERCARGILL AIRPOR|   -46.417|    168.333|\n",
      "| NZM00093110|AUCKLAND AERO AWS|     -37.0|      174.8| NZ000093994| RAOUL ISL/KERMADEC|    -29.25|   -177.917|\n",
      "+------------+-----------------+----------+-----------+------------+-------------------+----------+-----------+\n",
      "only showing top 5 rows\n",
      "\n"
     ]
    }
   ],
   "source": [
    "nz_station_pairs.show(5)"
   ]
  },
  {
   "cell_type": "code",
   "execution_count": 143,
   "metadata": {},
   "outputs": [],
   "source": [
    "#Remove repeated rows\n",
    "nz_station_pairs =(nz_station_pairs.filter(\n",
    "nz_station_pairs.STATION_ID_A != nz_station_pairs.STATION_ID_B))"
   ]
  },
  {
   "cell_type": "code",
   "execution_count": 144,
   "metadata": {},
   "outputs": [],
   "source": [
    "#Apply udf to nz_station_pairs to add a new column ABS_DISTANCE.\n",
    "nz_station_distance = (nz_station_pairs.withColumn(\"ABS_DISTANCE\", udf_get_distance(\n",
    "nz_station_pairs.LONGITUDE_A, nz_station_pairs.LATITUDE_A,\n",
    "nz_station_pairs.LONGITUDE_B, nz_station_pairs.LATITUDE_B)\n",
    "))"
   ]
  },
  {
   "cell_type": "code",
   "execution_count": 146,
   "metadata": {},
   "outputs": [],
   "source": [
    "#cast the ABS_DISTANCE column as a double\n",
    "cols_to_cast = [\"LONGITUDE_A\" ,\"LATITUDE_A\" ,\"LONGITUDE_B\" ,\"LATITUDE_B\",\"ABS_DISTANCE\"]\n",
    "nz_station_distance = nz_station_distance.select([F.col(c).cast('double') if c in cols_to_cast else c for c in nz_station_distance.columns])\n"
   ]
  },
  {
   "cell_type": "code",
   "execution_count": 147,
   "metadata": {},
   "outputs": [
    {
     "name": "stdout",
     "output_type": "stream",
     "text": [
      "+------------+-------------------+----------+-----------+------------+-------------------+----------+-----------+------------+\n",
      "|STATION_ID_A|     STATION_NAME_A|LATITUDE_A|LONGITUDE_A|STATION_ID_B|     STATION_NAME_B|LATITUDE_B|LONGITUDE_B|ABS_DISTANCE|\n",
      "+------------+-------------------+----------+-----------+------------+-------------------+----------+-----------+------------+\n",
      "| NZ000093417|    PARAPARAUMU AWS|     -40.9|    174.983| NZM00093439|WELLINGTON AERO AWS|   -41.333|      174.8|       50.53|\n",
      "| NZM00093439|WELLINGTON AERO AWS|   -41.333|      174.8| NZ000093417|    PARAPARAUMU AWS|     -40.9|    174.983|       50.53|\n",
      "| NZM00093678|           KAIKOURA|   -42.417|      173.7| NZM00093439|WELLINGTON AERO AWS|   -41.333|      174.8|      151.07|\n",
      "| NZM00093439|WELLINGTON AERO AWS|   -41.333|      174.8| NZM00093678|           KAIKOURA|   -42.417|      173.7|      151.07|\n",
      "| NZM00093781|  CHRISTCHURCH INTL|   -43.489|    172.532| NZ000936150| HOKITIKA AERODROME|   -42.717|    170.983|      152.26|\n",
      "| NZ000936150| HOKITIKA AERODROME|   -42.717|    170.983| NZM00093781|  CHRISTCHURCH INTL|   -43.489|    172.532|      152.26|\n",
      "| NZM00093781|  CHRISTCHURCH INTL|   -43.489|    172.532| NZM00093678|           KAIKOURA|   -42.417|      173.7|      152.46|\n",
      "| NZM00093678|           KAIKOURA|   -42.417|      173.7| NZM00093781|  CHRISTCHURCH INTL|   -43.489|    172.532|      152.46|\n",
      "| NZM00093678|           KAIKOURA|   -42.417|      173.7| NZ000093417|    PARAPARAUMU AWS|     -40.9|    174.983|      199.53|\n",
      "| NZ000093417|    PARAPARAUMU AWS|     -40.9|    174.983| NZM00093678|           KAIKOURA|   -42.417|      173.7|      199.53|\n",
      "+------------+-------------------+----------+-----------+------------+-------------------+----------+-----------+------------+\n",
      "only showing top 10 rows\n",
      "\n"
     ]
    }
   ],
   "source": [
    "#Absolute value of havershine distances\n",
    "nz_station_distance.sort(F.col(\"ABS_DISTANCE\")).show(10)"
   ]
  },
  {
   "cell_type": "code",
   "execution_count": 150,
   "metadata": {},
   "outputs": [
    {
     "name": "stdout",
     "output_type": "stream",
     "text": [
      "+-----------------+\n",
      "|min(ABS_DISTANCE)|\n",
      "+-----------------+\n",
      "|            50.53|\n",
      "+-----------------+\n",
      "\n"
     ]
    }
   ],
   "source": [
    "nz_station_distance.agg(F.min(\"ABS_DISTANCE\")).show()"
   ]
  },
  {
   "cell_type": "code",
   "execution_count": 78,
   "metadata": {},
   "outputs": [
    {
     "name": "stdout",
     "output_type": "stream",
     "text": [
      "root\n",
      " |-- STATION_ID_A: string (nullable = true)\n",
      " |-- STATION_NAME_A: string (nullable = true)\n",
      " |-- LATITUDE_A: double (nullable = false)\n",
      " |-- LONGITUDE_A: double (nullable = false)\n",
      " |-- STATION_ID_B: string (nullable = true)\n",
      " |-- STATION_NAME_B: string (nullable = true)\n",
      " |-- LATITUDE_B: double (nullable = false)\n",
      " |-- LONGITUDE_B: double (nullable = false)\n",
      " |-- ABS_DISTANCE: double (nullable = true)\n",
      "\n"
     ]
    }
   ],
   "source": [
    "nz_station_distance.printSchema()"
   ]
  },
  {
   "cell_type": "code",
   "execution_count": 151,
   "metadata": {},
   "outputs": [],
   "source": [
    "#Save the data to hdfs\n",
    "nz_station_distance.write.csv(\"/user/abh89/spark/outputs/ghcnd/newzealand_stations_distance.csv\")"
   ]
  },
  {
   "cell_type": "code",
   "execution_count": 152,
   "metadata": {},
   "outputs": [],
   "source": [
    "#Copy to local\n",
    "!hdfs dfs -copyToLocal /user/abh89/spark/outputs/ghcnd/newzealand_stations_distance.csv ~/spark/outputs/ghcnd/newzealand_stations_distance.csv"
   ]
  },
  {
   "cell_type": "code",
   "execution_count": 153,
   "metadata": {},
   "outputs": [],
   "source": [
    "#Analysis Q3"
   ]
  },
  {
   "cell_type": "code",
   "execution_count": 184,
   "metadata": {},
   "outputs": [
    {
     "name": "stdout",
     "output_type": "stream",
     "text": [
      "134217728\r\n"
     ]
    }
   ],
   "source": [
    "!hdfs getconf -confKey \"dfs.blocksize\""
   ]
  },
  {
   "cell_type": "code",
   "execution_count": 82,
   "metadata": {},
   "outputs": [
    {
     "name": "stdout",
     "output_type": "stream",
     "text": [
      "SIZE     DISK_SPACE_CONSUMED_WITH_ALL_REPLICAS  FULL_PATH_NAME\r\n",
      "154.5 M  1.2 G                                  /data/ghcnd/daily/2020.csv.gz\r\n",
      "152.2 M  1.2 G                                  /data/ghcnd/daily/2021.csv.gz\r\n",
      "84.1 M   672.9 M                                /data/ghcnd/daily/2022.csv.gz\r\n"
     ]
    }
   ],
   "source": [
    "!hdfs dfs -du -h -v /data/ghcnd/daily/202*.csv.gz"
   ]
  },
  {
   "cell_type": "code",
   "execution_count": 83,
   "metadata": {},
   "outputs": [
    {
     "name": "stdout",
     "output_type": "stream",
     "text": [
      "Connecting to namenode via http://masternode2:9870/fsck?ugi=abh89&files=1&blocks=1&path=%2Fdata%2Fghcnd%2Fdaily%2F2021.csv.gz\r\n",
      "FSCK started by abh89 (auth:SIMPLE) from /192.168.40.11 for path /data/ghcnd/daily/2021.csv.gz at Sat Sep 10 02:25:55 NZST 2022\r\n",
      "\r\n",
      "/data/ghcnd/daily/2021.csv.gz 159598394 bytes, replicated: replication=8, 2 block(s):  OK\r\n",
      "0. BP-700027894-132.181.129.68-1626517177804:blk_1073787806_46986 len=134217728 Live_repl=8\r\n",
      "1. BP-700027894-132.181.129.68-1626517177804:blk_1073787807_46987 len=25380666 Live_repl=8\r\n",
      "\r\n",
      "\r\n",
      "Status: HEALTHY\r\n",
      " Number of data-nodes:\t32\r\n",
      " Number of racks:\t\t1\r\n",
      " Total dirs:\t\t\t0\r\n",
      " Total symlinks:\t\t0\r\n",
      "\r\n",
      "Replicated Blocks:\r\n",
      " Total size:\t159598394 B\r\n",
      " Total files:\t1\r\n",
      " Total blocks (validated):\t2 (avg. block size 79799197 B)\r\n",
      " Minimally replicated blocks:\t2 (100.0 %)\r\n",
      " Over-replicated blocks:\t0 (0.0 %)\r\n",
      " Under-replicated blocks:\t0 (0.0 %)\r\n",
      " Mis-replicated blocks:\t\t0 (0.0 %)\r\n",
      " Default replication factor:\t4\r\n",
      " Average block replication:\t8.0\r\n",
      " Missing blocks:\t\t0\r\n",
      " Corrupt blocks:\t\t0\r\n",
      " Missing replicas:\t\t0 (0.0 %)\r\n",
      " Blocks queued for replication:\t0\r\n",
      "\r\n",
      "Erasure Coded Block Groups:\r\n",
      " Total size:\t0 B\r\n",
      " Total files:\t0\r\n",
      " Total block groups (validated):\t0\r\n",
      " Minimally erasure-coded block groups:\t0\r\n",
      " Over-erasure-coded block groups:\t0\r\n",
      " Under-erasure-coded block groups:\t0\r\n",
      " Unsatisfactory placement block groups:\t0\r\n",
      " Average block group size:\t0.0\r\n",
      " Missing block groups:\t\t0\r\n",
      " Corrupt block groups:\t\t0\r\n",
      " Missing internal blocks:\t0\r\n",
      " Blocks queued for replication:\t0\r\n",
      "FSCK ended at Sat Sep 10 02:25:55 NZST 2022 in 1 milliseconds\r\n",
      "\r\n",
      "\r\n",
      "The filesystem under path '/data/ghcnd/daily/2021.csv.gz' is HEALTHY\r\n"
     ]
    }
   ],
   "source": [
    "#Number of blocks\n",
    "!hdfs fsck /data/ghcnd/daily/2021.csv.gz -files -blocks"
   ]
  },
  {
   "cell_type": "code",
   "execution_count": 84,
   "metadata": {},
   "outputs": [
    {
     "name": "stdout",
     "output_type": "stream",
     "text": [
      "Connecting to namenode via http://masternode2:9870/fsck?ugi=abh89&files=1&blocks=1&path=%2Fdata%2Fghcnd%2Fdaily%2F2022.csv.gz\n",
      "FSCK started by abh89 (auth:SIMPLE) from /192.168.40.11 for path /data/ghcnd/daily/2022.csv.gz at Sat Sep 10 02:27:36 NZST 2022\n",
      "\n",
      "/data/ghcnd/daily/2022.csv.gz 88195367 bytes, replicated: replication=8, 1 block(s):  OK\n",
      "0. BP-700027894-132.181.129.68-1626517177804:blk_1073787808_46988 len=88195367 Live_repl=8\n",
      "\n",
      "\n",
      "Status: HEALTHY\n",
      " Number of data-nodes:\t32\n",
      " Number of racks:\t\t1\n",
      " Total dirs:\t\t\t0\n",
      " Total symlinks:\t\t0\n",
      "\n",
      "Replicated Blocks:\n",
      " Total size:\t88195367 B\n",
      " Total files:\t1\n",
      " Total blocks (validated):\t1 (avg. block size 88195367 B)\n",
      " Minimally replicated blocks:\t1 (100.0 %)\n",
      " Over-replicated blocks:\t0 (0.0 %)\n",
      " Under-replicated blocks:\t0 (0.0 %)\n",
      " Mis-replicated blocks:\t\t0 (0.0 %)\n",
      " Default replication factor:\t4\n",
      " Average block replication:\t8.0\n",
      " Missing blocks:\t\t0\n",
      " Corrupt blocks:\t\t0\n",
      " Missing replicas:\t\t0 (0.0 %)\n",
      " Blocks queued for replication:\t0\n",
      "\n",
      "Erasure Coded Block Groups:\n",
      " Total size:\t0 B\n",
      " Total files:\t0\n",
      " Total block groups (validated):\t0\n",
      " Minimally erasure-coded block groups:\t0\n",
      " Over-erasure-coded block groups:\t0\n",
      " Under-erasure-coded block groups:\t0\n",
      " Unsatisfactory placement block groups:\t0\n",
      " Average block group size:\t0.0\n",
      " Missing block groups:\t\t0\n",
      " Corrupt block groups:\t\t0\n",
      " Missing internal blocks:\t0\n",
      " Blocks queued for replication:\t0\n",
      "FSCK ended at Sat Sep 10 02:27:36 NZST 2022 in 0 milliseconds\n",
      "\n",
      "\n",
      "The filesystem under path '/data/ghcnd/daily/2022.csv.gz' is HEALTHY\n"
     ]
    }
   ],
   "source": [
    "!hdfs fsck /data/ghcnd/daily/2022.csv.gz -files -blocks"
   ]
  },
  {
   "cell_type": "code",
   "execution_count": 85,
   "metadata": {},
   "outputs": [],
   "source": [
    "# Check the path is right and the data can be loaded successfully\n",
    "\n",
    "schema = StructType([\n",
    "    StructField(\"ID\", StringType(), True),                # Character Station code\n",
    "    StructField(\"DATE\", StringType(), True),              # Date Observation date formatted as YYYYMMDD\n",
    "    StructField(\"ELEMENT\", StringType(), True),           # Character Element type indicator\n",
    "    StructField(\"VALUE\", StringType(), True),             # Real Data value for ELEMENT\n",
    "    StructField(\"MEASUREMENT\", StringType(), True),  # Character Measurement Flag\n",
    "    StructField(\"QUALITY\", StringType(), True),      # Character Quality Flag\n",
    "    StructField(\"SOURCE\", StringType(), True),       # Character Source Flag\n",
    "    StructField(\"TIME\", StringType(), True),  # Time Observation time formatted as HHMM\n",
    "])"
   ]
  },
  {
   "cell_type": "code",
   "execution_count": 86,
   "metadata": {},
   "outputs": [
    {
     "name": "stdout",
     "output_type": "stream",
     "text": [
      "2021 count = 35917254\n",
      "2022 count = 19648456\n",
      "\n",
      "2021 num partitions = 1\n",
      "2022 num partitions = 1\n"
     ]
    }
   ],
   "source": [
    "#Observation count and number of partitions\n",
    "daily_2021 = spark.read.csv(\"/data/ghcnd/daily/2021.csv.gz\", schema=schema)\n",
    "daily_2022 = spark.read.csv(\"/data/ghcnd/daily/2022.csv.gz\", schema=schema)\n",
    "\n",
    "print(f'2021 count = {daily_2021.count()}')\n",
    "print(f'2022 count = {daily_2022.count()}')\n",
    "print(\"\")\n",
    "\n",
    "print(f\"2021 num partitions = {daily_2021.rdd.getNumPartitions()}\")\n",
    "print(f\"2022 num partitions = {daily_2022.rdd.getNumPartitions()}\")"
   ]
  },
  {
   "cell_type": "code",
   "execution_count": 89,
   "metadata": {},
   "outputs": [
    {
     "name": "stdout",
     "output_type": "stream",
     "text": [
      "daily_selected count          = 303501016\n",
      "daily_selected num partitions = 9\n"
     ]
    }
   ],
   "source": [
    "years = [2014,2015,2016,2017,2018,2019,2020,2021,2022]\n",
    "\n",
    "daily_selected = spark.read.csv([f\"/data/ghcnd/daily/{year}.csv.gz\" for year in years], schema=schema)\n",
    "#daily_selected.cache()\n",
    "\n",
    "print(f\"daily_selected count          = {daily_selected.count()}\")\n",
    "print(f\"daily_selected num partitions = {daily_selected.rdd.getNumPartitions()}\")"
   ]
  },
  {
   "cell_type": "code",
   "execution_count": 90,
   "metadata": {},
   "outputs": [
    {
     "name": "stdout",
     "output_type": "stream",
     "text": [
      "2022 count = 19648456\n",
      "2021 count = 35917254\n",
      "2020 count = 36167120\n",
      "2019 count = 35941498\n",
      "2018 count = 36326971\n",
      "2017 count = 34854073\n",
      "2016 count = 35326496\n",
      "2015 count = 34899014\n",
      "2014 count = 34420134\n",
      "\n",
      "2022 num partitions = 1\n",
      "2021 num partitions = 1\n",
      "2020 num partitions = 1\n",
      "2019 num partitions = 1\n",
      "2018 num partitions = 1\n",
      "2017 num partitions = 1\n",
      "2016 num partitions = 1\n",
      "2015 num partitions = 1\n",
      "2014 num partitions = 1\n"
     ]
    }
   ],
   "source": [
    "daily_2022 = spark.read.csv(\"/data/ghcnd/daily/2022.csv.gz\", schema=schema)\n",
    "daily_2021 = spark.read.csv(\"/data/ghcnd/daily/2021.csv.gz\", schema=schema)\n",
    "daily_2020 = spark.read.csv(\"/data/ghcnd/daily/2020.csv.gz\", schema=schema)\n",
    "daily_2019 = spark.read.csv(\"/data/ghcnd/daily/2019.csv.gz\", schema=schema)\n",
    "daily_2018 = spark.read.csv(\"/data/ghcnd/daily/2018.csv.gz\", schema=schema)\n",
    "daily_2017 = spark.read.csv(\"/data/ghcnd/daily/2017.csv.gz\", schema=schema)\n",
    "daily_2016 = spark.read.csv(\"/data/ghcnd/daily/2016.csv.gz\", schema=schema)\n",
    "daily_2015 = spark.read.csv(\"/data/ghcnd/daily/2015.csv.gz\", schema=schema)\n",
    "daily_2014 = spark.read.csv(\"/data/ghcnd/daily/2014.csv.gz\", schema=schema)\n",
    "\n",
    "\n",
    "print(f'2022 count = {daily_2022.count()}')\n",
    "print(f'2021 count = {daily_2021.count()}')\n",
    "print(f'2020 count = {daily_2020.count()}')\n",
    "print(f'2019 count = {daily_2019.count()}')\n",
    "print(f'2018 count = {daily_2018.count()}')\n",
    "print(f'2017 count = {daily_2017.count()}')\n",
    "print(f'2016 count = {daily_2016.count()}')\n",
    "print(f'2015 count = {daily_2015.count()}')\n",
    "print(f'2014 count = {daily_2014.count()}')\n",
    "print(\"\")\n",
    "\n",
    "print(f\"2022 num partitions = {daily_2022.rdd.getNumPartitions()}\")\n",
    "print(f\"2021 num partitions = {daily_2021.rdd.getNumPartitions()}\")\n",
    "print(f\"2020 num partitions = {daily_2020.rdd.getNumPartitions()}\")\n",
    "print(f\"2019 num partitions = {daily_2019.rdd.getNumPartitions()}\")\n",
    "print(f\"2018 num partitions = {daily_2018.rdd.getNumPartitions()}\")\n",
    "print(f\"2017 num partitions = {daily_2017.rdd.getNumPartitions()}\")\n",
    "print(f\"2016 num partitions = {daily_2016.rdd.getNumPartitions()}\")\n",
    "print(f\"2015 num partitions = {daily_2015.rdd.getNumPartitions()}\")\n",
    "print(f\"2014 num partitions = {daily_2014.rdd.getNumPartitions()}\")\n"
   ]
  },
  {
   "cell_type": "code",
   "execution_count": 91,
   "metadata": {},
   "outputs": [
    {
     "name": "stdout",
     "output_type": "stream",
     "text": [
      "+----+--------+\n",
      "|YEAR|   COUNT|\n",
      "+----+--------+\n",
      "|2018|36326971|\n",
      "|2016|35326496|\n",
      "|2015|34899014|\n",
      "|2021|35917254|\n",
      "|2019|35941498|\n",
      "|2017|34854073|\n",
      "|2020|36167120|\n",
      "|2014|34420134|\n",
      "|2022|19648456|\n",
      "+----+--------+\n",
      "\n"
     ]
    }
   ],
   "source": [
    "year_counts = (\n",
    "    daily_selected\n",
    "    .groupby([\n",
    "        F.substring(F.col('DATE'), 0, 4).alias('YEAR')\n",
    "    ])\n",
    "    .agg(\n",
    "        F.count(F.col('VALUE')).alias('COUNT'),\n",
    "    )\n",
    ")\n",
    "#year_counts.cache()\n",
    "year_counts.show()"
   ]
  },
  {
   "cell_type": "code",
   "execution_count": 92,
   "metadata": {},
   "outputs": [
    {
     "data": {
      "text/plain": [
       "32"
      ]
     },
     "execution_count": 92,
     "metadata": {},
     "output_type": "execute_result"
    }
   ],
   "source": [
    "year_counts.rdd.getNumPartitions()"
   ]
  },
  {
   "cell_type": "code",
   "execution_count": 94,
   "metadata": {},
   "outputs": [
    {
     "name": "stdout",
     "output_type": "stream",
     "text": [
      "+-----+-----+\n",
      "|INDEX|COUNT|\n",
      "+-----+-----+\n",
      "|    0|    0|\n",
      "|    1|    0|\n",
      "|    2|    1|\n",
      "|    3|    0|\n",
      "|    4|    0|\n",
      "|    5|    0|\n",
      "|    6|    0|\n",
      "|    7|    0|\n",
      "|    8|    2|\n",
      "|    9|    2|\n",
      "|   10|    2|\n",
      "|   11|    0|\n",
      "|   12|    1|\n",
      "|   13|    0|\n",
      "|   14|    0|\n",
      "|   15|    0|\n",
      "|   16|    0|\n",
      "|   17|    0|\n",
      "|   18|    0|\n",
      "|   19|    0|\n",
      "|   20|    0|\n",
      "|   21|    0|\n",
      "|   22|    0|\n",
      "|   23|    0|\n",
      "|   24|    0|\n",
      "|   25|    0|\n",
      "|   26|    1|\n",
      "|   27|    0|\n",
      "|   28|    0|\n",
      "|   29|    0|\n",
      "|   30|    0|\n",
      "|   31|    0|\n",
      "+-----+-----+\n",
      "\n"
     ]
    }
   ],
   "source": [
    "def get_partition_size(index, iterable_of_rows):\n",
    "    return [\n",
    "        (index, len(list(iterable_of_rows)))  # each partition is transformed into one row of (index, count)\n",
    "    ]\n",
    "\n",
    "schema = StructType([\n",
    "  StructField(\"INDEX\", StringType(), True),\n",
    "  StructField(\"COUNT\", StringType(), True),\n",
    "])\n",
    "partition_row_counts = spark.createDataFrame(\n",
    "    year_counts.rdd.mapPartitionsWithIndex(get_partition_size),  # RDD[(partition index, partition row count)]\n",
    "    schema=schema\n",
    ")\n",
    "partition_row_counts.show(32)"
   ]
  },
  {
   "cell_type": "code",
   "execution_count": 1,
   "metadata": {},
   "outputs": [],
   "source": [
    "#Analysis Q4"
   ]
  },
  {
   "cell_type": "code",
   "execution_count": 77,
   "metadata": {},
   "outputs": [],
   "source": [
    "#Defining schema for daily\n",
    "schema_daily_all = StructType([\n",
    "    StructField(\"ID\", StringType(), True),    #Station code\n",
    "    StructField(\"DATE\", StringType(), True),    #Observation date formatted as YYYYMMDD\n",
    "    StructField(\"ELEMENT\", StringType(), True),   #Element type indicator\n",
    "    StructField(\"VALUE\", DoubleType(), True),     #Data value for ELEMENT\n",
    "    StructField(\"MEASUREMENT_FLAG\", StringType(), True),    #Measurement Flag\n",
    "    StructField(\"QUALITY_FLAG\", StringType(), True),    #Quality Flag\n",
    "    StructField(\"SOURCE_FLAG\", StringType(), True),    #Source Flag\n",
    "    StructField(\"OBSERVATION_TIME\", StringType(), True),    ##Observation time formatted as HHMM\n",
    "])"
   ]
  },
  {
   "cell_type": "code",
   "execution_count": 78,
   "metadata": {},
   "outputs": [
    {
     "name": "stdout",
     "output_type": "stream",
     "text": [
      "+-----------+--------+-------+------+----------------+------------+-----------+----------------+\n",
      "|         ID|    DATE|ELEMENT| VALUE|MEASUREMENT_FLAG|QUALITY_FLAG|SOURCE_FLAG|OBSERVATION_TIME|\n",
      "+-----------+--------+-------+------+----------------+------------+-----------+----------------+\n",
      "|CA002303986|20100101|   TMAX| 205.0|            null|           G|          C|            null|\n",
      "|CA002303986|20100101|   TMIN|-300.0|            null|        null|          C|            null|\n",
      "|CA002303986|20100101|   PRCP|   4.0|            null|        null|          C|            null|\n",
      "|CA002303986|20100101|   SNOW|   4.0|            null|        null|          C|            null|\n",
      "|CA002303986|20100101|   SNWD|   0.0|            null|           I|          C|            null|\n",
      "|US1FLSL0019|20100101|   PRCP|   0.0|               T|        null|          N|            null|\n",
      "|ASN00037003|20100101|   PRCP|   0.0|            null|        null|          a|            null|\n",
      "|US1AZMR0019|20100101|   PRCP|   0.0|            null|        null|          N|            null|\n",
      "|US1AZMR0019|20100101|   SNOW|   0.0|            null|        null|          N|            null|\n",
      "|USC00178998|20100101|   TMAX|   0.0|            null|        null|          0|            1800|\n",
      "+-----------+--------+-------+------+----------------+------------+-----------+----------------+\n",
      "only showing top 10 rows\n",
      "\n"
     ]
    }
   ],
   "source": [
    "#Loading daily into Spark\n",
    "daily_all = (\n",
    "    spark.read.format(\"com.databricks.spark.csv\")\n",
    "    .option(\"header\", \"false\")\n",
    "    .option(\"inferSchema\", \"false\")\n",
    "    .schema(schema_daily_all)\n",
    "    .load(\"hdfs:///data/ghcnd/daily/*\")\n",
    ")\n",
    "daily_all.show(10)"
   ]
  },
  {
   "cell_type": "code",
   "execution_count": 79,
   "metadata": {},
   "outputs": [
    {
     "data": {
      "text/plain": [
       "3018826504"
      ]
     },
     "execution_count": 79,
     "metadata": {},
     "output_type": "execute_result"
    }
   ],
   "source": [
    "daily_all.count()"
   ]
  },
  {
   "cell_type": "code",
   "execution_count": 4,
   "metadata": {},
   "outputs": [
    {
     "data": {
      "text/plain": [
       "['PRCP', 'SNOW', 'SNWD', 'TMAX', 'TMIN']"
      ]
     },
     "execution_count": 4,
     "metadata": {},
     "output_type": "execute_result"
    }
   ],
   "source": [
    "#Core elements\n",
    "core_elements"
   ]
  },
  {
   "cell_type": "code",
   "execution_count": 80,
   "metadata": {},
   "outputs": [
    {
     "name": "stdout",
     "output_type": "stream",
     "text": [
      "+-----------+--------+-------+------+----------------+------------+-----------+----------------+\n",
      "|         ID|    DATE|ELEMENT| VALUE|MEASUREMENT_FLAG|QUALITY_FLAG|SOURCE_FLAG|OBSERVATION_TIME|\n",
      "+-----------+--------+-------+------+----------------+------------+-----------+----------------+\n",
      "|CA002303986|20100101|   TMAX| 205.0|            null|           G|          C|            null|\n",
      "|CA002303986|20100101|   TMIN|-300.0|            null|        null|          C|            null|\n",
      "|CA002303986|20100101|   PRCP|   4.0|            null|        null|          C|            null|\n",
      "|CA002303986|20100101|   SNOW|   4.0|            null|        null|          C|            null|\n",
      "|CA002303986|20100101|   SNWD|   0.0|            null|           I|          C|            null|\n",
      "|US1FLSL0019|20100101|   PRCP|   0.0|               T|        null|          N|            null|\n",
      "|ASN00037003|20100101|   PRCP|   0.0|            null|        null|          a|            null|\n",
      "|US1AZMR0019|20100101|   PRCP|   0.0|            null|        null|          N|            null|\n",
      "|US1AZMR0019|20100101|   SNOW|   0.0|            null|        null|          N|            null|\n",
      "|USC00178998|20100101|   TMAX|   0.0|            null|        null|          0|            1800|\n",
      "|USC00178998|20100101|   TMIN| -56.0|            null|        null|          0|            1800|\n",
      "|USC00178998|20100101|   PRCP|  43.0|            null|        null|          0|            0700|\n",
      "|USC00178998|20100101|   SNOW|  46.0|            null|        null|          0|            null|\n",
      "|USC00178998|20100101|   SNWD| 102.0|            null|        null|          0|            null|\n",
      "|NOE00133566|20100101|   TMAX|   2.0|            null|        null|          E|            null|\n",
      "|NOE00133566|20100101|   TMIN| -84.0|            null|        null|          E|            null|\n",
      "|NOE00133566|20100101|   PRCP|  85.0|            null|        null|          E|            null|\n",
      "|NOE00133566|20100101|   SNWD| 490.0|            null|        null|          E|            null|\n",
      "|USC00242347|20100101|   TMAX|  33.0|            null|        null|          0|            0800|\n",
      "|USC00242347|20100101|   TMIN|-161.0|            null|        null|          0|            0800|\n",
      "+-----------+--------+-------+------+----------------+------------+-----------+----------------+\n",
      "only showing top 20 rows\n",
      "\n"
     ]
    }
   ],
   "source": [
    "#Filter observations containing five core elements\n",
    "import functools\n",
    "import operator\n",
    "daily_core = (daily_all\n",
    ".filter(functools.reduce(operator.or_, [F.col(\"ELEMENT\") == x for x in core_elements]))\n",
    ".select(\"ID\",\"DATE\",\"ELEMENT\",\"VALUE\",\"MEASUREMENT_FLAG\",\"QUALITY_FLAG\",\"SOURCE_FLAG\",\"OBSERVATION_TIME\"))\n",
    "daily_core.show(20)"
   ]
  },
  {
   "cell_type": "code",
   "execution_count": 232,
   "metadata": {},
   "outputs": [
    {
     "data": {
      "text/plain": [
       "1048156273"
      ]
     },
     "execution_count": 232,
     "metadata": {},
     "output_type": "execute_result"
    }
   ],
   "source": [
    "daily_core.select(\"ID\").where(F.col('ELEMENT')=='PRCP').count()"
   ]
  },
  {
   "cell_type": "code",
   "execution_count": 81,
   "metadata": {},
   "outputs": [
    {
     "name": "stdout",
     "output_type": "stream",
     "text": [
      "+------------+----------+\n",
      "|CORE_ELEMENT|     COUNT|\n",
      "+------------+----------+\n",
      "|        SNOW| 344268930|\n",
      "|        SNWD| 290998195|\n",
      "|        TMIN| 445687425|\n",
      "|        PRCP|1048156273|\n",
      "|        TMAX| 447084093|\n",
      "+------------+----------+\n",
      "\n"
     ]
    }
   ],
   "source": [
    "#core element count\n",
    "core_counts = (\n",
    "    daily_core\n",
    "    .groupby([\n",
    "        F.col('ELEMENT').alias('CORE_ELEMENT')\n",
    "    ])\n",
    "    .agg(\n",
    "        F.count(F.col(\"ID\")).cast(IntegerType()).alias('COUNT'),\n",
    "    )\n",
    ")\n",
    "#year_counts.cache()\n",
    "core_counts.show()"
   ]
  },
  {
   "cell_type": "code",
   "execution_count": 228,
   "metadata": {},
   "outputs": [
    {
     "name": "stdout",
     "output_type": "stream",
     "text": [
      "root\n",
      " |-- ID: string (nullable = true)\n",
      " |-- DATE: string (nullable = true)\n",
      " |-- ELEMENT: string (nullable = true)\n",
      " |-- VALUE: double (nullable = true)\n",
      " |-- MEASUREMENT FLAG: string (nullable = true)\n",
      " |-- QUALITY FLAG: string (nullable = true)\n",
      " |-- SOURCE FLAG: string (nullable = true)\n",
      " |-- OBSERVATION TIME: string (nullable = true)\n",
      "\n"
     ]
    }
   ],
   "source": [
    "daily_core.printSchema()"
   ]
  },
  {
   "cell_type": "code",
   "execution_count": 98,
   "metadata": {},
   "outputs": [
    {
     "name": "stdout",
     "output_type": "stream",
     "text": [
      "+-----------+--------+-------+------+----------------+------------+-----------+----------------+\n",
      "|         ID|    DATE|ELEMENT| VALUE|MEASUREMENT_FLAG|QUALITY_FLAG|SOURCE_FLAG|OBSERVATION_TIME|\n",
      "+-----------+--------+-------+------+----------------+------------+-----------+----------------+\n",
      "|CA002303986|20100101|   TMAX| 205.0|            null|           G|          C|            null|\n",
      "|CA002303986|20100101|   TMIN|-300.0|            null|        null|          C|            null|\n",
      "|USC00178998|20100101|   TMAX|   0.0|            null|        null|          0|            1800|\n",
      "|USC00178998|20100101|   TMIN| -56.0|            null|        null|          0|            1800|\n",
      "|NOE00133566|20100101|   TMAX|   2.0|            null|        null|          E|            null|\n",
      "|NOE00133566|20100101|   TMIN| -84.0|            null|        null|          E|            null|\n",
      "|USC00242347|20100101|   TMAX|  33.0|            null|        null|          0|            0800|\n",
      "|USC00242347|20100101|   TMIN|-161.0|            null|        null|          0|            0800|\n",
      "|USS0018D08S|20100101|   TMAX|  65.0|            null|        null|          T|            null|\n",
      "|USS0018D08S|20100101|   TMIN|  19.0|            null|        null|          T|            null|\n",
      "|USC00141761|20100101|   TMAX| -72.0|            null|        null|          0|            0700|\n",
      "|USC00141761|20100101|   TMIN|-161.0|            null|        null|          0|            0700|\n",
      "|RQC00660061|20100101|   TMAX| 233.0|            null|        null|          0|            0800|\n",
      "|RQC00660061|20100101|   TMIN| 167.0|            null|        null|          0|            0800|\n",
      "|MXM00076423|20100101|   TMAX| 242.0|            null|        null|          S|            null|\n",
      "|MXM00076423|20100101|   TMIN| -35.0|            null|        null|          S|            null|\n",
      "|CA003034485|20100101|   TMAX| -26.0|            null|        null|          C|            null|\n",
      "|CA003034485|20100101|   TMIN|-244.0|            null|        null|          C|            null|\n",
      "|USC00426640|20100101|   TMAX|  11.0|            null|        null|          0|            0800|\n",
      "|USC00426640|20100101|   TMIN|-106.0|            null|        null|          0|            0800|\n",
      "+-----------+--------+-------+------+----------------+------------+-----------+----------------+\n",
      "only showing top 20 rows\n",
      "\n"
     ]
    }
   ],
   "source": [
    "#Filter TMIN TMAX from daily\n",
    "daily_minmax = (daily_core\n",
    ".filter((F.col(\"ELEMENT\")==\"TMAX\")|(F.col(\"ELEMENT\")==\"TMIN\"))                 \n",
    ".select(\"ID\",\"DATE\",\"ELEMENT\",\"VALUE\",\"MEASUREMENT_FLAG\",\"QUALITY_FLAG\",\"SOURCE_FLAG\",\"OBSERVATION_TIME\")\n",
    ")\n",
    "daily_minmax.show(20)"
   ]
  },
  {
   "cell_type": "code",
   "execution_count": 99,
   "metadata": {},
   "outputs": [
    {
     "name": "stdout",
     "output_type": "stream",
     "text": [
      "+-----------+--------+-----------------+------------+--------+--------+\n",
      "|         ID|    DATE|ELEMENTS_DISTINCT|NUM_ELEMENTS|NUM_TMAX|NUM_TMIN|\n",
      "+-----------+--------+-----------------+------------+--------+--------+\n",
      "|ACW00011604|19490314|     [TMAX, TMIN]|           2|       1|       1|\n",
      "|ACW00011604|19490316|     [TMAX, TMIN]|           2|       1|       1|\n",
      "|ACW00011604|19490401|     [TMAX, TMIN]|           2|       1|       1|\n",
      "|ACW00011604|19490409|     [TMAX, TMIN]|           2|       1|       1|\n",
      "|ACW00011604|19490506|     [TMAX, TMIN]|           2|       1|       1|\n",
      "|ACW00011604|19490510|     [TMAX, TMIN]|           2|       1|       1|\n",
      "|ACW00011604|19490520|     [TMAX, TMIN]|           2|       1|       1|\n",
      "|ACW00011604|19490722|     [TMAX, TMIN]|           2|       1|       1|\n",
      "|AE000041196|19440325|     [TMAX, TMIN]|           2|       1|       1|\n",
      "|AE000041196|19440328|     [TMAX, TMIN]|           2|       1|       1|\n",
      "|AE000041196|19440530|     [TMAX, TMIN]|           2|       1|       1|\n",
      "|AE000041196|19440616|     [TMAX, TMIN]|           2|       1|       1|\n",
      "|AE000041196|19440621|     [TMAX, TMIN]|           2|       1|       1|\n",
      "|AE000041196|19440622|     [TMAX, TMIN]|           2|       1|       1|\n",
      "|AE000041196|19440717|     [TMAX, TMIN]|           2|       1|       1|\n",
      "|AE000041196|19440722|     [TMAX, TMIN]|           2|       1|       1|\n",
      "|AE000041196|19440803|     [TMAX, TMIN]|           2|       1|       1|\n",
      "|AE000041196|19450107|     [TMAX, TMIN]|           2|       1|       1|\n",
      "|AE000041196|19450207|     [TMAX, TMIN]|           2|       1|       1|\n",
      "|AE000041196|19450411|     [TMAX, TMIN]|           2|       1|       1|\n",
      "+-----------+--------+-----------------+------------+--------+--------+\n",
      "only showing top 20 rows\n",
      "\n"
     ]
    }
   ],
   "source": [
    "#Create a temporary table to count TMIN and TMAX against each ID and Date\n",
    "temp = (\n",
    "    daily_minmax\n",
    "    .groupby([\"ID\",\"DATE\"])\n",
    "    .agg(\n",
    "        F.collect_set(F.col(\"ELEMENT\")).alias(\"ELEMENTS_DISTINCT\")\n",
    "    )\n",
    "    .select( \n",
    "        F.col(\"ID\"),\n",
    "        F.col(\"DATE\"),\n",
    "        F.col(\"ELEMENTS_DISTINCT\"),\n",
    "        F.size(F.col(\"ELEMENTS_DISTINCT\")).alias(\"NUM_ELEMENTS\"),\n",
    "        F.size(F.array_intersect(F.col(\"ELEMENTS_DISTINCT\"), F.array([F.lit('TMAX')]))).alias(\"NUM_TMAX\"),\n",
    "        F.size(F.array_intersect(F.col(\"ELEMENTS_DISTINCT\"), F.array([F.lit('TMIN')]))).alias(\"NUM_TMIN\"),\n",
    "    )\n",
    ")\n",
    "temp.show(20)"
   ]
  },
  {
   "cell_type": "code",
   "execution_count": 100,
   "metadata": {},
   "outputs": [
    {
     "data": {
      "text/plain": [
       "8848299"
      ]
     },
     "execution_count": 100,
     "metadata": {},
     "output_type": "execute_result"
    }
   ],
   "source": [
    "#TMIN don't have corresponding TMAX\n",
    "temp.select('ID').where(((F.col('NUM_TMAX')==0)&(F.col('NUM_TMIN')==1))).count()"
   ]
  },
  {
   "cell_type": "code",
   "execution_count": 101,
   "metadata": {},
   "outputs": [
    {
     "data": {
      "text/plain": [
       "27678"
      ]
     },
     "execution_count": 101,
     "metadata": {},
     "output_type": "execute_result"
    }
   ],
   "source": [
    "temp.select('ID').where(((F.col('NUM_TMAX')==0)&(F.col('NUM_TMIN')==1))).distinct().count()"
   ]
  },
  {
   "cell_type": "code",
   "execution_count": 102,
   "metadata": {},
   "outputs": [
    {
     "name": "stdout",
     "output_type": "stream",
     "text": [
      "+-----------+--------+-------+------+----------------+------------+-----------+----------------+------------+\n",
      "|         ID|    DATE|ELEMENT| VALUE|MEASUREMENT_FLAG|QUALITY_FLAG|SOURCE_FLAG|OBSERVATION_TIME|COUNTRY_CODE|\n",
      "+-----------+--------+-------+------+----------------+------------+-----------+----------------+------------+\n",
      "|CA002303986|20100101|   TMAX| 205.0|            null|           G|          C|            null|          CA|\n",
      "|CA002303986|20100101|   TMIN|-300.0|            null|        null|          C|            null|          CA|\n",
      "|CA002303986|20100101|   PRCP|   4.0|            null|        null|          C|            null|          CA|\n",
      "|CA002303986|20100101|   SNOW|   4.0|            null|        null|          C|            null|          CA|\n",
      "|CA002303986|20100101|   SNWD|   0.0|            null|           I|          C|            null|          CA|\n",
      "|US1FLSL0019|20100101|   PRCP|   0.0|               T|        null|          N|            null|          US|\n",
      "|ASN00037003|20100101|   PRCP|   0.0|            null|        null|          a|            null|          AS|\n",
      "|US1AZMR0019|20100101|   PRCP|   0.0|            null|        null|          N|            null|          US|\n",
      "|US1AZMR0019|20100101|   SNOW|   0.0|            null|        null|          N|            null|          US|\n",
      "|USC00178998|20100101|   TMAX|   0.0|            null|        null|          0|            1800|          US|\n",
      "+-----------+--------+-------+------+----------------+------------+-----------+----------------+------------+\n",
      "only showing top 10 rows\n",
      "\n"
     ]
    }
   ],
   "source": [
    "#Extract country code from ID\n",
    "daily_core = daily_core.withColumn(\"COUNTRY_CODE\", F.col(\"ID\")[0:2])\n",
    "daily_core.show(10)"
   ]
  },
  {
   "cell_type": "code",
   "execution_count": 103,
   "metadata": {},
   "outputs": [
    {
     "name": "stdout",
     "output_type": "stream",
     "text": [
      "+-----------+----+-----+---+-------+------+------------+\n",
      "|         ID|YEAR|MONTH|DAY|ELEMENT|TEMP_C|COUNTRY_CODE|\n",
      "+-----------+----+-----+---+-------+------+------------+\n",
      "|NZ000093012|2004|   01| 14|   TMIN|  15.1|          NZ|\n",
      "|NZ000093012|2004|   01| 12|   TMIN|  14.9|          NZ|\n",
      "|NZ000093012|2004|   01| 08|   TMIN|  17.5|          NZ|\n",
      "|NZ000093012|2004|   01| 02|   TMIN|  13.0|          NZ|\n",
      "|NZ000093012|2004|   01| 04|   TMIN|  16.9|          NZ|\n",
      "|NZ000093012|2004|   01| 06|   TMIN|  16.4|          NZ|\n",
      "|NZ000093012|2004|   01| 14|   TMAX|  26.2|          NZ|\n",
      "|NZ000093012|2004|   01| 20|   TMAX|  20.7|          NZ|\n",
      "|NZ000093012|2004|   01| 11|   TMAX|  26.5|          NZ|\n",
      "|NZ000093012|2004|   01| 03|   TMIN|  13.8|          NZ|\n",
      "|NZ000093012|2004|   01| 12|   TMAX|  27.7|          NZ|\n",
      "|NZ000093012|2004|   01| 05|   TMIN|  16.9|          NZ|\n",
      "|NZ000093012|2004|   01| 13|   TMAX|  26.6|          NZ|\n",
      "|NZ000093012|2004|   01| 13|   TMIN|  17.7|          NZ|\n",
      "|NZ000093012|2004|   01| 07|   TMIN|  17.7|          NZ|\n",
      "|NZ000093012|2006|   07| 10|   TMAX|  14.0|          NZ|\n",
      "|NZ000093012|2004|   01| 10|   TMAX|  28.0|          NZ|\n",
      "|NZ000093012|2004|   01| 10|   TMIN|  13.0|          NZ|\n",
      "|NZ000093012|2004|   01| 01|   TMIN|  10.6|          NZ|\n",
      "|NZ000093012|2004|   01| 11|   TMIN|  13.0|          NZ|\n",
      "+-----------+----+-----+---+-------+------+------------+\n",
      "only showing top 20 rows\n",
      "\n"
     ]
    }
   ],
   "source": [
    "#Filter by TMAX TMIN and NZ\n",
    "#Divide value by 10 and split date to year, month and day\n",
    "daily_minmax_subset = (daily_core\n",
    ".filter(((F.col(\"ELEMENT\")==\"TMAX\")|(F.col(\"ELEMENT\")==\"TMIN\"))&(F.col(\"COUNTRY_CODE\")==\"NZ\"))                 \n",
    ".select(\"ID\",F.substring(F.col('DATE'), 0, 4).alias('YEAR'),F.substring(F.col('DATE'), 5, 2).alias('MONTH'),F.substring(F.col('DATE'), 7, 2).alias('DAY'),\n",
    "        \"ELEMENT\",(F.col(\"VALUE\")/10).alias(\"TEMP_C\"),\"COUNTRY_CODE\")\n",
    ".sort(F.col(\"ID\"))\n",
    ")\n",
    "daily_minmax_subset.show(20)"
   ]
  },
  {
   "cell_type": "code",
   "execution_count": 106,
   "metadata": {},
   "outputs": [],
   "source": [
    "#Copy the table to hdfs\n",
    "daily_minmax_subset.write.csv(\"/user/abh89/spark/outputs/ghcnd/newzealand_stations_temperature.csv\")"
   ]
  },
  {
   "cell_type": "code",
   "execution_count": 126,
   "metadata": {},
   "outputs": [
    {
     "name": "stdout",
     "output_type": "stream",
     "text": [
      "   20759 /users/home/abh89/spark/outputs/ghcnd/newzealand_stations_temperature.csv/part-00000-5159e788-ed16-4188-bb1d-76e43d84fe12-c000.csv\n",
      "   41327 /users/home/abh89/spark/outputs/ghcnd/newzealand_stations_temperature.csv/part-00001-5159e788-ed16-4188-bb1d-76e43d84fe12-c000.csv\n",
      "   33897 /users/home/abh89/spark/outputs/ghcnd/newzealand_stations_temperature.csv/part-00002-5159e788-ed16-4188-bb1d-76e43d84fe12-c000.csv\n",
      "   51253 /users/home/abh89/spark/outputs/ghcnd/newzealand_stations_temperature.csv/part-00003-5159e788-ed16-4188-bb1d-76e43d84fe12-c000.csv\n",
      "   53263 /users/home/abh89/spark/outputs/ghcnd/newzealand_stations_temperature.csv/part-00004-5159e788-ed16-4188-bb1d-76e43d84fe12-c000.csv\n",
      "   54500 /users/home/abh89/spark/outputs/ghcnd/newzealand_stations_temperature.csv/part-00005-5159e788-ed16-4188-bb1d-76e43d84fe12-c000.csv\n",
      "   39732 /users/home/abh89/spark/outputs/ghcnd/newzealand_stations_temperature.csv/part-00006-5159e788-ed16-4188-bb1d-76e43d84fe12-c000.csv\n",
      "   39422 /users/home/abh89/spark/outputs/ghcnd/newzealand_stations_temperature.csv/part-00007-5159e788-ed16-4188-bb1d-76e43d84fe12-c000.csv\n",
      "   48356 /users/home/abh89/spark/outputs/ghcnd/newzealand_stations_temperature.csv/part-00008-5159e788-ed16-4188-bb1d-76e43d84fe12-c000.csv\n",
      "   35247 /users/home/abh89/spark/outputs/ghcnd/newzealand_stations_temperature.csv/part-00009-5159e788-ed16-4188-bb1d-76e43d84fe12-c000.csv\n",
      "   11448 /users/home/abh89/spark/outputs/ghcnd/newzealand_stations_temperature.csv/part-00010-5159e788-ed16-4188-bb1d-76e43d84fe12-c000.csv\n",
      "   10856 /users/home/abh89/spark/outputs/ghcnd/newzealand_stations_temperature.csv/part-00011-5159e788-ed16-4188-bb1d-76e43d84fe12-c000.csv\n",
      "   10489 /users/home/abh89/spark/outputs/ghcnd/newzealand_stations_temperature.csv/part-00012-5159e788-ed16-4188-bb1d-76e43d84fe12-c000.csv\n",
      "   22166 /users/home/abh89/spark/outputs/ghcnd/newzealand_stations_temperature.csv/part-00013-5159e788-ed16-4188-bb1d-76e43d84fe12-c000.csv\n",
      "    1939 /users/home/abh89/spark/outputs/ghcnd/newzealand_stations_temperature.csv/part-00014-5159e788-ed16-4188-bb1d-76e43d84fe12-c000.csv\n",
      "       0 /users/home/abh89/spark/outputs/ghcnd/newzealand_stations_temperature.csv/_SUCCESS\n",
      "  474654 total\n"
     ]
    }
   ],
   "source": [
    "#Count number of rows \n",
    "!wc -l ~/spark/outputs/ghcnd/newzealand_stations_temperature.csv/*"
   ]
  },
  {
   "cell_type": "code",
   "execution_count": 107,
   "metadata": {},
   "outputs": [],
   "source": [
    "#Copy from hdfs to local\n",
    "!hdfs dfs -copyToLocal /user/abh89/spark/outputs/ghcnd/newzealand_stations_temperature.csv ~/spark/outputs/ghcnd/newzealand_stations_temperature.csv"
   ]
  },
  {
   "cell_type": "code",
   "execution_count": 104,
   "metadata": {},
   "outputs": [
    {
     "data": {
      "text/plain": [
       "474654"
      ]
     },
     "execution_count": 104,
     "metadata": {},
     "output_type": "execute_result"
    }
   ],
   "source": [
    "#Count number of rows\n",
    "daily_minmax_subset.count()"
   ]
  },
  {
   "cell_type": "code",
   "execution_count": 105,
   "metadata": {},
   "outputs": [
    {
     "name": "stdout",
     "output_type": "stream",
     "text": [
      "+------------+----------+--------+------+\n",
      "|COUNTRY_CODE|START_YEAR|END_YEAR| COUNT|\n",
      "+------------+----------+--------+------+\n",
      "|          NZ|      1940|    2022|474654|\n",
      "+------------+----------+--------+------+\n",
      "\n"
     ]
    }
   ],
   "source": [
    "#Summary for New Zealand\n",
    "subset_minmax =(daily_minmax_subset\n",
    ".groupby([\n",
    "        \"COUNTRY_CODE\"\n",
    "    ])\n",
    "    .agg(\n",
    "        F.min(F.col('YEAR')).alias('START_YEAR'),\n",
    "        F.max(F.col('YEAR')).alias('END_YEAR'),\n",
    "        F.count(F.col(\"ID\")).cast(IntegerType()).alias(\"COUNT\")\n",
    "    )\n",
    "    .select(\n",
    "        F.col(\"COUNTRY_CODE\"),\n",
    "        F.col(\"START_YEAR\"),\n",
    "        F.col(\"END_YEAR\"),\n",
    "        F.col(\"COUNT\")\n",
    "    )\n",
    ")\n",
    "subset_minmax.show(20)"
   ]
  },
  {
   "cell_type": "code",
   "execution_count": 152,
   "metadata": {},
   "outputs": [
    {
     "name": "stdout",
     "output_type": "stream",
     "text": [
      "root\n",
      " |-- ELEMENT: string (nullable = true)\n",
      " |-- FIRST YEAR: integer (nullable = true)\n",
      " |-- LAST YEAR: integer (nullable = true)\n",
      " |-- COUNT: integer (nullable = false)\n",
      "\n"
     ]
    }
   ],
   "source": [
    "subset_minmax.printSchema()"
   ]
  },
  {
   "cell_type": "code",
   "execution_count": 108,
   "metadata": {},
   "outputs": [
    {
     "name": "stdout",
     "output_type": "stream",
     "text": [
      "+-----------+----+-----+---+-------+-----------+------------+\n",
      "|         ID|YEAR|MONTH|DAY|ELEMENT|RAINFALL_MM|COUNTRY_CODE|\n",
      "+-----------+----+-----+---+-------+-----------+------------+\n",
      "|ACW00011604|1949|   01| 27|   PRCP|        4.1|          AC|\n",
      "|ACW00011604|1949|   01| 10|   PRCP|        0.0|          AC|\n",
      "|ACW00011604|1949|   02| 03|   PRCP|        0.0|          AC|\n",
      "|ACW00011604|1949|   01| 18|   PRCP|        0.0|          AC|\n",
      "|ACW00011604|1949|   01| 20|   PRCP|        0.0|          AC|\n",
      "|ACW00011604|1949|   01| 22|   PRCP|        0.0|          AC|\n",
      "|ACW00011604|1949|   01| 26|   PRCP|        1.5|          AC|\n",
      "|ACW00011604|1949|   01| 16|   PRCP|        0.0|          AC|\n",
      "|ACW00011604|1949|   01| 07|   PRCP|        0.0|          AC|\n",
      "|ACW00011604|1949|   01| 19|   PRCP|        0.3|          AC|\n",
      "|ACW00011604|1949|   01| 08|   PRCP|        0.0|          AC|\n",
      "|ACW00011604|1949|   01| 21|   PRCP|        5.1|          AC|\n",
      "|ACW00011604|1949|   01| 12|   PRCP|        0.0|          AC|\n",
      "|ACW00011604|1949|   01| 14|   PRCP|        0.0|          AC|\n",
      "|ACW00011604|1949|   01| 23|   PRCP|        5.3|          AC|\n",
      "|ACW00011604|1949|   01| 15|   PRCP|        0.0|          AC|\n",
      "|ACW00011604|1949|   02| 04|   PRCP|        6.4|          AC|\n",
      "|ACW00011604|1949|   01| 02|   PRCP|        3.0|          AC|\n",
      "|ACW00011604|1949|   01| 17|   PRCP|        0.0|          AC|\n",
      "|ACW00011604|1949|   01| 05|   PRCP|        2.5|          AC|\n",
      "+-----------+----+-----+---+-------+-----------+------------+\n",
      "only showing top 20 rows\n",
      "\n"
     ]
    }
   ],
   "source": [
    "#Precipitation\n",
    "daily_rainfall_subset = (daily_core\n",
    ".filter(((F.col(\"ELEMENT\")==\"PRCP\")))                   \n",
    ".select(\"ID\",F.substring(F.col('DATE'), 0, 4).alias('YEAR'),F.substring(F.col('DATE'), 5, 2).alias('MONTH'),F.substring(F.col('DATE'), 7, 2).alias('DAY'),\n",
    "        \"ELEMENT\",(F.col(\"VALUE\")/10).alias(\"RAINFALL_MM\"),\"COUNTRY_CODE\")\n",
    ".sort(F.col(\"ID\"))\n",
    ")\n",
    "daily_rainfall_subset.show(20)"
   ]
  },
  {
   "cell_type": "code",
   "execution_count": 115,
   "metadata": {},
   "outputs": [
    {
     "data": {
      "text/plain": [
       "17161"
      ]
     },
     "execution_count": 115,
     "metadata": {},
     "output_type": "execute_result"
    }
   ],
   "source": [
    "rainfall.count()"
   ]
  },
  {
   "cell_type": "code",
   "execution_count": 109,
   "metadata": {},
   "outputs": [
    {
     "name": "stdout",
     "output_type": "stream",
     "text": [
      "+------------+----+-----+------------+------------+------------------+--------------------+\n",
      "|COUNTRY_CODE|YEAR|COUNT|MIN_RAINFALL|MAX_RAINFALL|  AVERAGE_RAINFALL|        COUNTRY_NAME|\n",
      "+------------+----+-----+------------+------------+------------------+--------------------+\n",
      "|          EK|2000|    1|       436.1|       436.1|             436.1|   Equatorial Guinea|\n",
      "|          DR|1975|    1|       341.4|       341.4|             341.4| Dominican Republic |\n",
      "|          LA|1974|    2|         0.0|       496.1|            248.05|               Laos |\n",
      "|          BH|1978|    7|         0.0|       490.0| 224.4714285714286|              Belize|\n",
      "|          NN|1979|   10|         0.0|       493.0|             196.7|        Sint Maarten|\n",
      "|          CS|1974|    2|         0.0|       364.0|             182.0|         Costa Rica |\n",
      "|          BH|1979|   11|         0.0|       495.0|175.55454545454543|              Belize|\n",
      "|          NS|1973|    3|         0.0|       257.0|             171.0|            Suriname|\n",
      "|          UC|1978|   26|         0.0|       496.1|167.50384615384615|             Curacao|\n",
      "|          BH|1977|    7|         0.0|       491.0|154.17142857142858|              Belize|\n",
      "|          HO|1978|   49|         0.0|       500.1| 146.9612244897959|           Honduras |\n",
      "|          UC|1977|   52|         0.0|       496.1|144.25384615384615|             Curacao|\n",
      "|          NN|1978|   23|         0.0|       490.0| 129.2869565217391|        Sint Maarten|\n",
      "|          HO|1977|   36|         0.0|       500.1| 128.4138888888889|           Honduras |\n",
      "|          TD|1978|   13|         0.0|       496.1|             126.5|Trinidad and Tobago |\n",
      "|          GY|1976|    3|         0.0|       364.0|121.33333333333333|             Guyana |\n",
      "|          UC|1979|   15|         0.0|       491.0|            116.82|             Curacao|\n",
      "|          TS|1973|    4|         0.0|       156.0|             116.2|            Tunisia |\n",
      "|          BM|2006|    2|         0.0|       230.4|             115.2|               Burma|\n",
      "|          EK|2001|    1|       110.0|       110.0|             110.0|   Equatorial Guinea|\n",
      "+------------+----+-----+------------+------------+------------------+--------------------+\n",
      "only showing top 20 rows\n",
      "\n"
     ]
    }
   ],
   "source": [
    "#Average rainfall by country and year\n",
    "rainfall =(daily_rainfall_subset\n",
    ".groupby([\n",
    "        \"COUNTRY_CODE\",\"YEAR\"\n",
    "    ])\n",
    "    .agg(\n",
    "        F.count(F.col(\"ID\")).cast(IntegerType()).alias(\"COUNT\"),\n",
    "        F.min(F.col('RAINFALL_MM')).alias('MIN_RAINFALL'),\n",
    "        F.max(F.col('RAINFALL_MM')).alias('MAX_RAINFALL'),\n",
    "        F.mean(F.col('RAINFALL_MM')).alias('AVERAGE_RAINFALL')\n",
    "    )\n",
    "    .select(\n",
    "        F.col(\"COUNTRY_CODE\"),\n",
    "        F.col(\"YEAR\"),\n",
    "        F.col(\"COUNT\"),\n",
    "        F.col(\"MIN_RAINFALL\"),\n",
    "        F.col(\"MAX_RAINFALL\"),\n",
    "        F.col(\"AVERAGE_RAINFALL\")\n",
    "    )\n",
    "    .join(\n",
    "        countries_renamed,\n",
    "        on=\"COUNTRY_CODE\",\n",
    "        how=\"left\"\n",
    "      )\n",
    "    .sort(F.col(\"AVERAGE_RAINFALL\").desc())\n",
    ")\n",
    "rainfall.show(20)"
   ]
  },
  {
   "cell_type": "code",
   "execution_count": 111,
   "metadata": {},
   "outputs": [],
   "source": [
    "#Save rainfall data to hdfs\n",
    "rainfall.repartition(1).write.csv(\"/user/abh89/spark/outputs/ghcnd/rainfall.csv\")"
   ]
  },
  {
   "cell_type": "code",
   "execution_count": 112,
   "metadata": {},
   "outputs": [],
   "source": [
    "#Save from hdfs to local\n",
    "!hdfs dfs -copyToLocal /user/abh89/spark/outputs/ghcnd/rainfall.csv ~/spark/outputs/ghcnd/rainfall.csv"
   ]
  },
  {
   "cell_type": "code",
   "execution_count": 13,
   "metadata": {},
   "outputs": [
    {
     "data": {
      "text/html": [
       "<div>\n",
       "<style scoped>\n",
       "    .dataframe tbody tr th:only-of-type {\n",
       "        vertical-align: middle;\n",
       "    }\n",
       "\n",
       "    .dataframe tbody tr th {\n",
       "        vertical-align: top;\n",
       "    }\n",
       "\n",
       "    .dataframe thead th {\n",
       "        text-align: right;\n",
       "    }\n",
       "</style>\n",
       "<table border=\"1\" class=\"dataframe\">\n",
       "  <thead>\n",
       "    <tr style=\"text-align: right;\">\n",
       "      <th></th>\n",
       "      <th>ID</th>\n",
       "      <th>YEAR</th>\n",
       "      <th>MONTH</th>\n",
       "      <th>DAY</th>\n",
       "      <th>ELEMENT</th>\n",
       "      <th>TEMP_C</th>\n",
       "      <th>COUNTRY_CODE</th>\n",
       "    </tr>\n",
       "  </thead>\n",
       "  <tbody>\n",
       "    <tr>\n",
       "      <th>16203</th>\n",
       "      <td>NZ000093012</td>\n",
       "      <td>2003</td>\n",
       "      <td>10</td>\n",
       "      <td>15</td>\n",
       "      <td>TMAX</td>\n",
       "      <td>18.0</td>\n",
       "      <td>NZ</td>\n",
       "    </tr>\n",
       "    <tr>\n",
       "      <th>13844</th>\n",
       "      <td>NZ000093012</td>\n",
       "      <td>1998</td>\n",
       "      <td>1</td>\n",
       "      <td>31</td>\n",
       "      <td>TMIN</td>\n",
       "      <td>16.5</td>\n",
       "      <td>NZ</td>\n",
       "    </tr>\n",
       "    <tr>\n",
       "      <th>13843</th>\n",
       "      <td>NZ000093012</td>\n",
       "      <td>1998</td>\n",
       "      <td>1</td>\n",
       "      <td>31</td>\n",
       "      <td>TMAX</td>\n",
       "      <td>27.3</td>\n",
       "      <td>NZ</td>\n",
       "    </tr>\n",
       "    <tr>\n",
       "      <th>13842</th>\n",
       "      <td>NZ000093012</td>\n",
       "      <td>1998</td>\n",
       "      <td>1</td>\n",
       "      <td>30</td>\n",
       "      <td>TMIN</td>\n",
       "      <td>16.8</td>\n",
       "      <td>NZ</td>\n",
       "    </tr>\n",
       "    <tr>\n",
       "      <th>13841</th>\n",
       "      <td>NZ000093012</td>\n",
       "      <td>1998</td>\n",
       "      <td>1</td>\n",
       "      <td>30</td>\n",
       "      <td>TMAX</td>\n",
       "      <td>26.3</td>\n",
       "      <td>NZ</td>\n",
       "    </tr>\n",
       "    <tr>\n",
       "      <th>13840</th>\n",
       "      <td>NZ000093012</td>\n",
       "      <td>1998</td>\n",
       "      <td>1</td>\n",
       "      <td>29</td>\n",
       "      <td>TMIN</td>\n",
       "      <td>19.7</td>\n",
       "      <td>NZ</td>\n",
       "    </tr>\n",
       "    <tr>\n",
       "      <th>13839</th>\n",
       "      <td>NZ000093012</td>\n",
       "      <td>1998</td>\n",
       "      <td>1</td>\n",
       "      <td>29</td>\n",
       "      <td>TMAX</td>\n",
       "      <td>24.7</td>\n",
       "      <td>NZ</td>\n",
       "    </tr>\n",
       "    <tr>\n",
       "      <th>13838</th>\n",
       "      <td>NZ000093012</td>\n",
       "      <td>1998</td>\n",
       "      <td>1</td>\n",
       "      <td>28</td>\n",
       "      <td>TMIN</td>\n",
       "      <td>19.9</td>\n",
       "      <td>NZ</td>\n",
       "    </tr>\n",
       "    <tr>\n",
       "      <th>13845</th>\n",
       "      <td>NZ000093012</td>\n",
       "      <td>1998</td>\n",
       "      <td>2</td>\n",
       "      <td>1</td>\n",
       "      <td>TMAX</td>\n",
       "      <td>28.6</td>\n",
       "      <td>NZ</td>\n",
       "    </tr>\n",
       "    <tr>\n",
       "      <th>13837</th>\n",
       "      <td>NZ000093012</td>\n",
       "      <td>1998</td>\n",
       "      <td>1</td>\n",
       "      <td>28</td>\n",
       "      <td>TMAX</td>\n",
       "      <td>26.7</td>\n",
       "      <td>NZ</td>\n",
       "    </tr>\n",
       "    <tr>\n",
       "      <th>13835</th>\n",
       "      <td>NZ000093012</td>\n",
       "      <td>1998</td>\n",
       "      <td>1</td>\n",
       "      <td>27</td>\n",
       "      <td>TMAX</td>\n",
       "      <td>25.7</td>\n",
       "      <td>NZ</td>\n",
       "    </tr>\n",
       "    <tr>\n",
       "      <th>13834</th>\n",
       "      <td>NZ000093012</td>\n",
       "      <td>1998</td>\n",
       "      <td>1</td>\n",
       "      <td>26</td>\n",
       "      <td>TMIN</td>\n",
       "      <td>17.7</td>\n",
       "      <td>NZ</td>\n",
       "    </tr>\n",
       "    <tr>\n",
       "      <th>13833</th>\n",
       "      <td>NZ000093012</td>\n",
       "      <td>1998</td>\n",
       "      <td>1</td>\n",
       "      <td>26</td>\n",
       "      <td>TMAX</td>\n",
       "      <td>27.8</td>\n",
       "      <td>NZ</td>\n",
       "    </tr>\n",
       "    <tr>\n",
       "      <th>13832</th>\n",
       "      <td>NZ000093012</td>\n",
       "      <td>1998</td>\n",
       "      <td>1</td>\n",
       "      <td>25</td>\n",
       "      <td>TMIN</td>\n",
       "      <td>16.7</td>\n",
       "      <td>NZ</td>\n",
       "    </tr>\n",
       "    <tr>\n",
       "      <th>13831</th>\n",
       "      <td>NZ000093012</td>\n",
       "      <td>1998</td>\n",
       "      <td>1</td>\n",
       "      <td>25</td>\n",
       "      <td>TMAX</td>\n",
       "      <td>26.7</td>\n",
       "      <td>NZ</td>\n",
       "    </tr>\n",
       "    <tr>\n",
       "      <th>13830</th>\n",
       "      <td>NZ000093012</td>\n",
       "      <td>1998</td>\n",
       "      <td>1</td>\n",
       "      <td>24</td>\n",
       "      <td>TMIN</td>\n",
       "      <td>18.7</td>\n",
       "      <td>NZ</td>\n",
       "    </tr>\n",
       "    <tr>\n",
       "      <th>13829</th>\n",
       "      <td>NZ000093012</td>\n",
       "      <td>1998</td>\n",
       "      <td>1</td>\n",
       "      <td>24</td>\n",
       "      <td>TMAX</td>\n",
       "      <td>24.2</td>\n",
       "      <td>NZ</td>\n",
       "    </tr>\n",
       "    <tr>\n",
       "      <th>13836</th>\n",
       "      <td>NZ000093012</td>\n",
       "      <td>1998</td>\n",
       "      <td>1</td>\n",
       "      <td>27</td>\n",
       "      <td>TMIN</td>\n",
       "      <td>18.5</td>\n",
       "      <td>NZ</td>\n",
       "    </tr>\n",
       "    <tr>\n",
       "      <th>13828</th>\n",
       "      <td>NZ000093012</td>\n",
       "      <td>1998</td>\n",
       "      <td>1</td>\n",
       "      <td>23</td>\n",
       "      <td>TMIN</td>\n",
       "      <td>18.6</td>\n",
       "      <td>NZ</td>\n",
       "    </tr>\n",
       "    <tr>\n",
       "      <th>13846</th>\n",
       "      <td>NZ000093012</td>\n",
       "      <td>1998</td>\n",
       "      <td>2</td>\n",
       "      <td>1</td>\n",
       "      <td>TMIN</td>\n",
       "      <td>16.4</td>\n",
       "      <td>NZ</td>\n",
       "    </tr>\n",
       "  </tbody>\n",
       "</table>\n",
       "</div>"
      ],
      "text/plain": [
       "                ID  YEAR  MONTH  DAY ELEMENT  TEMP_C COUNTRY_CODE\n",
       "16203  NZ000093012  2003     10   15    TMAX    18.0           NZ\n",
       "13844  NZ000093012  1998      1   31    TMIN    16.5           NZ\n",
       "13843  NZ000093012  1998      1   31    TMAX    27.3           NZ\n",
       "13842  NZ000093012  1998      1   30    TMIN    16.8           NZ\n",
       "13841  NZ000093012  1998      1   30    TMAX    26.3           NZ\n",
       "13840  NZ000093012  1998      1   29    TMIN    19.7           NZ\n",
       "13839  NZ000093012  1998      1   29    TMAX    24.7           NZ\n",
       "13838  NZ000093012  1998      1   28    TMIN    19.9           NZ\n",
       "13845  NZ000093012  1998      2    1    TMAX    28.6           NZ\n",
       "13837  NZ000093012  1998      1   28    TMAX    26.7           NZ\n",
       "13835  NZ000093012  1998      1   27    TMAX    25.7           NZ\n",
       "13834  NZ000093012  1998      1   26    TMIN    17.7           NZ\n",
       "13833  NZ000093012  1998      1   26    TMAX    27.8           NZ\n",
       "13832  NZ000093012  1998      1   25    TMIN    16.7           NZ\n",
       "13831  NZ000093012  1998      1   25    TMAX    26.7           NZ\n",
       "13830  NZ000093012  1998      1   24    TMIN    18.7           NZ\n",
       "13829  NZ000093012  1998      1   24    TMAX    24.2           NZ\n",
       "13836  NZ000093012  1998      1   27    TMIN    18.5           NZ\n",
       "13828  NZ000093012  1998      1   23    TMIN    18.6           NZ\n",
       "13846  NZ000093012  1998      2    1    TMIN    16.4           NZ"
      ]
     },
     "execution_count": 13,
     "metadata": {},
     "output_type": "execute_result"
    }
   ],
   "source": [
    "import os\n",
    "import pandas as pd\n",
    "\n",
    "columns = [\"ID\",\"YEAR\",\"MONTH\",\"DAY\",\"ELEMENT\",\"TEMP_C\",\"COUNTRY_CODE\"]\n",
    "\n",
    "parts = []\n",
    "for file in os.listdir(os.path.expanduser(\"~/spark/outputs/ghcnd/newzealand_stations_temperature.csv/\")):\n",
    "    if file == \"_SUCCESS\":\n",
    "        continue\n",
    "    try:\n",
    "        data_temperature = pd.read_csv(f\"~/spark/outputs/ghcnd/newzealand_stations_temperature.csv/{file}\", header=None, names=columns)\n",
    "        parts.append(data_temperature)\n",
    "    except pd.io.common.EmptyDataError:\n",
    "        pass\n",
    "\n",
    "data_temperature = pd.concat(parts).sort_values([\"ID\"])\n",
    "\n",
    "data_temperature.head(20)"
   ]
  },
  {
   "cell_type": "code",
   "execution_count": 35,
   "metadata": {},
   "outputs": [
    {
     "name": "stdout",
     "output_type": "stream",
     "text": [
      "ELEMENT       TMAX       TMIN\n",
      "YEAR                         \n",
      "1940     20.103010  14.803679\n",
      "1941     17.051554  11.772527\n",
      "1942     19.696328  10.485616\n",
      "1943     15.899119  10.458767\n",
      "1944     15.723814   9.830510\n",
      "1945     15.722831   9.713242\n",
      "1946     15.629589   9.760913\n",
      "1947     15.632968   9.869680\n",
      "1948     15.515091   9.072387\n",
      "1949     15.414211   8.567587\n",
      "1950     15.432237   7.410033\n",
      "1951     15.173779   7.206195\n",
      "1952     15.366319   7.556503\n",
      "1953     15.326703   7.387884\n",
      "1954     15.787610   7.636374\n",
      "1955     15.909151   7.892932\n",
      "1956     15.990110   8.137383\n",
      "1957     15.388676   7.924292\n",
      "1958     15.362466   7.827971\n",
      "1959     15.354271   7.593239\n",
      "1960     15.501252   7.544467\n",
      "1961     15.179139   7.548981\n",
      "1962     16.285826   8.279705\n",
      "1963     15.484896   7.383188\n",
      "1964     15.586311   7.573317\n",
      "1965     15.351930   7.370930\n",
      "1966     15.938278   7.909321\n",
      "1967     16.020385   8.016456\n",
      "1968     16.124380   8.738690\n",
      "1969     15.897413   7.871758\n",
      "...            ...        ...\n",
      "1993     15.765518   7.945111\n",
      "1994     15.967080   8.202615\n",
      "1995     16.371566   8.768736\n",
      "1996     16.221058   8.757041\n",
      "1997     16.079578   8.343382\n",
      "1998     17.042120   9.494003\n",
      "1999     17.178043   9.214717\n",
      "2000     16.625911   8.868923\n",
      "2001     16.822161   9.107121\n",
      "2002     16.577663   8.933670\n",
      "2003     16.745484   8.698406\n",
      "2004     16.182415   8.470736\n",
      "2005     17.098269   9.166778\n",
      "2006     16.911999   7.720518\n",
      "2007     17.299389   7.908233\n",
      "2008     17.268509   8.036884\n",
      "2009     16.789398   7.480463\n",
      "2010     17.555617   8.213786\n",
      "2011     17.325025   7.963758\n",
      "2012     17.136916   7.628513\n",
      "2013     18.411101   9.247949\n",
      "2014     17.873185   8.562153\n",
      "2015     17.966363   8.645124\n",
      "2016     17.350050   8.601970\n",
      "2017     17.518966   8.935164\n",
      "2018     18.205804   9.574757\n",
      "2019     18.092661   8.957908\n",
      "2020     17.466722   8.638333\n",
      "2021     17.930301   9.336597\n",
      "2022     18.087949   9.968475\n",
      "\n",
      "[83 rows x 2 columns]\n"
     ]
    }
   ],
   "source": [
    "import numpy as np\n",
    "temperature_NZ = data_temperature.pivot_table(values='TEMP_C', index='YEAR', columns='ELEMENT',aggfunc=np.mean)\n",
    "print(temperature_NZ)"
   ]
  },
  {
   "cell_type": "code",
   "execution_count": 43,
   "metadata": {},
   "outputs": [],
   "source": [
    "stations_NZ = data_temperature['ID'].unique()"
   ]
  },
  {
   "cell_type": "code",
   "execution_count": 22,
   "metadata": {},
   "outputs": [
    {
     "data": {
      "text/plain": [
       "ID               object\n",
       "YEAR              int64\n",
       "MONTH             int64\n",
       "DAY               int64\n",
       "ELEMENT          object\n",
       "TEMP_C          float64\n",
       "COUNTRY_CODE     object\n",
       "dtype: object"
      ]
     },
     "execution_count": 22,
     "metadata": {},
     "output_type": "execute_result"
    }
   ],
   "source": [
    "data_temperature.dtypes"
   ]
  },
  {
   "cell_type": "code",
   "execution_count": 63,
   "metadata": {},
   "outputs": [
    {
     "data": {
      "text/html": [
       "<div>\n",
       "<style scoped>\n",
       "    .dataframe tbody tr th:only-of-type {\n",
       "        vertical-align: middle;\n",
       "    }\n",
       "\n",
       "    .dataframe tbody tr th {\n",
       "        vertical-align: top;\n",
       "    }\n",
       "\n",
       "    .dataframe thead th {\n",
       "        text-align: right;\n",
       "    }\n",
       "</style>\n",
       "<table border=\"1\" class=\"dataframe\">\n",
       "  <thead>\n",
       "    <tr style=\"text-align: right;\">\n",
       "      <th></th>\n",
       "      <th>COUNTRY_CODE</th>\n",
       "      <th>YEAR</th>\n",
       "      <th>COUNT</th>\n",
       "      <th>MIN_RAINFALL</th>\n",
       "      <th>MAX_RAINFALL</th>\n",
       "      <th>AVERAGE_RAINFALL</th>\n",
       "      <th>COUNTRY_NAME</th>\n",
       "    </tr>\n",
       "  </thead>\n",
       "  <tbody>\n",
       "    <tr>\n",
       "      <th>14867</th>\n",
       "      <td>AC</td>\n",
       "      <td>1966</td>\n",
       "      <td>243</td>\n",
       "      <td>0.0</td>\n",
       "      <td>42.7</td>\n",
       "      <td>1.571605</td>\n",
       "      <td>Antigua and Barbuda</td>\n",
       "    </tr>\n",
       "    <tr>\n",
       "      <th>1565</th>\n",
       "      <td>AC</td>\n",
       "      <td>1962</td>\n",
       "      <td>363</td>\n",
       "      <td>0.0</td>\n",
       "      <td>103.1</td>\n",
       "      <td>3.091736</td>\n",
       "      <td>Antigua and Barbuda</td>\n",
       "    </tr>\n",
       "    <tr>\n",
       "      <th>13985</th>\n",
       "      <td>AC</td>\n",
       "      <td>1968</td>\n",
       "      <td>245</td>\n",
       "      <td>0.0</td>\n",
       "      <td>47.0</td>\n",
       "      <td>1.748571</td>\n",
       "      <td>Antigua and Barbuda</td>\n",
       "    </tr>\n",
       "    <tr>\n",
       "      <th>10234</th>\n",
       "      <td>AC</td>\n",
       "      <td>1958</td>\n",
       "      <td>334</td>\n",
       "      <td>0.0</td>\n",
       "      <td>79.8</td>\n",
       "      <td>3.564970</td>\n",
       "      <td>Antigua and Barbuda</td>\n",
       "    </tr>\n",
       "    <tr>\n",
       "      <th>14396</th>\n",
       "      <td>AC</td>\n",
       "      <td>1967</td>\n",
       "      <td>59</td>\n",
       "      <td>0.0</td>\n",
       "      <td>77.2</td>\n",
       "      <td>1.667797</td>\n",
       "      <td>Antigua and Barbuda</td>\n",
       "    </tr>\n",
       "    <tr>\n",
       "      <th>5187</th>\n",
       "      <td>AC</td>\n",
       "      <td>1970</td>\n",
       "      <td>32</td>\n",
       "      <td>0.0</td>\n",
       "      <td>15.5</td>\n",
       "      <td>0.684375</td>\n",
       "      <td>Antigua and Barbuda</td>\n",
       "    </tr>\n",
       "    <tr>\n",
       "      <th>12135</th>\n",
       "      <td>AC</td>\n",
       "      <td>1961</td>\n",
       "      <td>334</td>\n",
       "      <td>0.0</td>\n",
       "      <td>41.9</td>\n",
       "      <td>2.397904</td>\n",
       "      <td>Antigua and Barbuda</td>\n",
       "    </tr>\n",
       "    <tr>\n",
       "      <th>1646</th>\n",
       "      <td>AC</td>\n",
       "      <td>1959</td>\n",
       "      <td>365</td>\n",
       "      <td>0.0</td>\n",
       "      <td>109.0</td>\n",
       "      <td>3.056164</td>\n",
       "      <td>Antigua and Barbuda</td>\n",
       "    </tr>\n",
       "    <tr>\n",
       "      <th>10634</th>\n",
       "      <td>AC</td>\n",
       "      <td>1969</td>\n",
       "      <td>313</td>\n",
       "      <td>0.0</td>\n",
       "      <td>79.0</td>\n",
       "      <td>3.353355</td>\n",
       "      <td>Antigua and Barbuda</td>\n",
       "    </tr>\n",
       "    <tr>\n",
       "      <th>8027</th>\n",
       "      <td>AC</td>\n",
       "      <td>1957</td>\n",
       "      <td>122</td>\n",
       "      <td>0.0</td>\n",
       "      <td>56.1</td>\n",
       "      <td>5.322951</td>\n",
       "      <td>Antigua and Barbuda</td>\n",
       "    </tr>\n",
       "    <tr>\n",
       "      <th>12446</th>\n",
       "      <td>AC</td>\n",
       "      <td>1964</td>\n",
       "      <td>366</td>\n",
       "      <td>0.0</td>\n",
       "      <td>61.7</td>\n",
       "      <td>2.320219</td>\n",
       "      <td>Antigua and Barbuda</td>\n",
       "    </tr>\n",
       "    <tr>\n",
       "      <th>13150</th>\n",
       "      <td>AC</td>\n",
       "      <td>1949</td>\n",
       "      <td>225</td>\n",
       "      <td>0.0</td>\n",
       "      <td>37.8</td>\n",
       "      <td>1.924000</td>\n",
       "      <td>Antigua and Barbuda</td>\n",
       "    </tr>\n",
       "    <tr>\n",
       "      <th>12361</th>\n",
       "      <td>AC</td>\n",
       "      <td>1960</td>\n",
       "      <td>366</td>\n",
       "      <td>0.0</td>\n",
       "      <td>57.4</td>\n",
       "      <td>2.339071</td>\n",
       "      <td>Antigua and Barbuda</td>\n",
       "    </tr>\n",
       "    <tr>\n",
       "      <th>11762</th>\n",
       "      <td>AC</td>\n",
       "      <td>1965</td>\n",
       "      <td>365</td>\n",
       "      <td>0.0</td>\n",
       "      <td>85.6</td>\n",
       "      <td>2.501370</td>\n",
       "      <td>Antigua and Barbuda</td>\n",
       "    </tr>\n",
       "    <tr>\n",
       "      <th>1703</th>\n",
       "      <td>AC</td>\n",
       "      <td>1963</td>\n",
       "      <td>365</td>\n",
       "      <td>0.0</td>\n",
       "      <td>68.6</td>\n",
       "      <td>3.034247</td>\n",
       "      <td>Antigua and Barbuda</td>\n",
       "    </tr>\n",
       "    <tr>\n",
       "      <th>17134</th>\n",
       "      <td>AE</td>\n",
       "      <td>1980</td>\n",
       "      <td>1</td>\n",
       "      <td>0.0</td>\n",
       "      <td>0.0</td>\n",
       "      <td>0.000000</td>\n",
       "      <td>United Arab Emirates</td>\n",
       "    </tr>\n",
       "    <tr>\n",
       "      <th>16112</th>\n",
       "      <td>AE</td>\n",
       "      <td>1944</td>\n",
       "      <td>287</td>\n",
       "      <td>0.0</td>\n",
       "      <td>46.0</td>\n",
       "      <td>0.619512</td>\n",
       "      <td>United Arab Emirates</td>\n",
       "    </tr>\n",
       "    <tr>\n",
       "      <th>3538</th>\n",
       "      <td>AE</td>\n",
       "      <td>2001</td>\n",
       "      <td>6</td>\n",
       "      <td>1.0</td>\n",
       "      <td>1.8</td>\n",
       "      <td>1.466667</td>\n",
       "      <td>United Arab Emirates</td>\n",
       "    </tr>\n",
       "    <tr>\n",
       "      <th>16204</th>\n",
       "      <td>AE</td>\n",
       "      <td>1985</td>\n",
       "      <td>7</td>\n",
       "      <td>0.0</td>\n",
       "      <td>2.0</td>\n",
       "      <td>0.571429</td>\n",
       "      <td>United Arab Emirates</td>\n",
       "    </tr>\n",
       "    <tr>\n",
       "      <th>5380</th>\n",
       "      <td>AE</td>\n",
       "      <td>1993</td>\n",
       "      <td>11</td>\n",
       "      <td>0.0</td>\n",
       "      <td>75.9</td>\n",
       "      <td>12.300000</td>\n",
       "      <td>United Arab Emirates</td>\n",
       "    </tr>\n",
       "  </tbody>\n",
       "</table>\n",
       "</div>"
      ],
      "text/plain": [
       "      COUNTRY_CODE  YEAR  COUNT  MIN_RAINFALL  MAX_RAINFALL  AVERAGE_RAINFALL  \\\n",
       "14867           AC  1966    243           0.0          42.7          1.571605   \n",
       "1565            AC  1962    363           0.0         103.1          3.091736   \n",
       "13985           AC  1968    245           0.0          47.0          1.748571   \n",
       "10234           AC  1958    334           0.0          79.8          3.564970   \n",
       "14396           AC  1967     59           0.0          77.2          1.667797   \n",
       "5187            AC  1970     32           0.0          15.5          0.684375   \n",
       "12135           AC  1961    334           0.0          41.9          2.397904   \n",
       "1646            AC  1959    365           0.0         109.0          3.056164   \n",
       "10634           AC  1969    313           0.0          79.0          3.353355   \n",
       "8027            AC  1957    122           0.0          56.1          5.322951   \n",
       "12446           AC  1964    366           0.0          61.7          2.320219   \n",
       "13150           AC  1949    225           0.0          37.8          1.924000   \n",
       "12361           AC  1960    366           0.0          57.4          2.339071   \n",
       "11762           AC  1965    365           0.0          85.6          2.501370   \n",
       "1703            AC  1963    365           0.0          68.6          3.034247   \n",
       "17134           AE  1980      1           0.0           0.0          0.000000   \n",
       "16112           AE  1944    287           0.0          46.0          0.619512   \n",
       "3538            AE  2001      6           1.0           1.8          1.466667   \n",
       "16204           AE  1985      7           0.0           2.0          0.571429   \n",
       "5380            AE  1993     11           0.0          75.9         12.300000   \n",
       "\n",
       "               COUNTRY_NAME  \n",
       "14867   Antigua and Barbuda  \n",
       "1565    Antigua and Barbuda  \n",
       "13985   Antigua and Barbuda  \n",
       "10234   Antigua and Barbuda  \n",
       "14396   Antigua and Barbuda  \n",
       "5187    Antigua and Barbuda  \n",
       "12135   Antigua and Barbuda  \n",
       "1646    Antigua and Barbuda  \n",
       "10634   Antigua and Barbuda  \n",
       "8027    Antigua and Barbuda  \n",
       "12446   Antigua and Barbuda  \n",
       "13150   Antigua and Barbuda  \n",
       "12361   Antigua and Barbuda  \n",
       "11762   Antigua and Barbuda  \n",
       "1703    Antigua and Barbuda  \n",
       "17134  United Arab Emirates  \n",
       "16112  United Arab Emirates  \n",
       "3538   United Arab Emirates  \n",
       "16204  United Arab Emirates  \n",
       "5380   United Arab Emirates  "
      ]
     },
     "execution_count": 63,
     "metadata": {},
     "output_type": "execute_result"
    }
   ],
   "source": [
    "import pandas as pd\n",
    "\n",
    "columns = [\"COUNTRY_CODE\",\"YEAR\",\"COUNT\",\"MIN_RAINFALL\",\"MAX_RAINFALL\",\"AVERAGE_RAINFALL\",\"COUNTRY_NAME\"]\n",
    "\n",
    "parts = []\n",
    "for file in os.listdir(os.path.expanduser(\"~/spark/outputs/ghcnd/rainfall.csv/\")):\n",
    "    if file == \"_SUCCESS\":\n",
    "        continue\n",
    "    try:\n",
    "        data_rainfall = pd.read_csv(f\"~/spark/outputs/ghcnd/rainfall.csv/{file}\", header=None, names=columns)\n",
    "        parts.append(data_rainfall)\n",
    "    except pd.io.common.EmptyDataError:\n",
    "        pass\n",
    "\n",
    "data_rainfall.sort_values([\"COUNTRY_CODE\"]).head(20)"
   ]
  },
  {
   "cell_type": "code",
   "execution_count": 121,
   "metadata": {},
   "outputs": [
    {
     "data": {
      "text/plain": [
       "COUNTRY_CODE        17161\n",
       "YEAR                17161\n",
       "COUNT               17161\n",
       "MIN_RAINFALL        17161\n",
       "MAX_RAINFALL        17161\n",
       "AVERAGE_RAINFALL    17161\n",
       "COUNTRY_NAME        17161\n",
       "dtype: int64"
      ]
     },
     "execution_count": 121,
     "metadata": {},
     "output_type": "execute_result"
    }
   ],
   "source": [
    "data_rainfall.count()"
   ]
  },
  {
   "cell_type": "code",
   "execution_count": 70,
   "metadata": {},
   "outputs": [
    {
     "data": {
      "text/html": [
       "<div>\n",
       "<style scoped>\n",
       "    .dataframe tbody tr th:only-of-type {\n",
       "        vertical-align: middle;\n",
       "    }\n",
       "\n",
       "    .dataframe tbody tr th {\n",
       "        vertical-align: top;\n",
       "    }\n",
       "\n",
       "    .dataframe thead th {\n",
       "        text-align: right;\n",
       "    }\n",
       "</style>\n",
       "<table border=\"1\" class=\"dataframe\">\n",
       "  <thead>\n",
       "    <tr style=\"text-align: right;\">\n",
       "      <th></th>\n",
       "      <th>COUNTRY_CODE</th>\n",
       "      <th>YEAR</th>\n",
       "      <th>COUNT</th>\n",
       "      <th>MIN_RAINFALL</th>\n",
       "      <th>MAX_RAINFALL</th>\n",
       "      <th>AVERAGE_RAINFALL</th>\n",
       "      <th>COUNTRY_NAME</th>\n",
       "    </tr>\n",
       "  </thead>\n",
       "  <tbody>\n",
       "    <tr>\n",
       "      <th>258</th>\n",
       "      <td>GV</td>\n",
       "      <td>2021</td>\n",
       "      <td>144</td>\n",
       "      <td>0.0</td>\n",
       "      <td>214.9</td>\n",
       "      <td>17.975694</td>\n",
       "      <td>Guinea</td>\n",
       "    </tr>\n",
       "    <tr>\n",
       "      <th>289</th>\n",
       "      <td>ID</td>\n",
       "      <td>2021</td>\n",
       "      <td>538</td>\n",
       "      <td>0.0</td>\n",
       "      <td>340.1</td>\n",
       "      <td>16.664684</td>\n",
       "      <td>Indonesia</td>\n",
       "    </tr>\n",
       "    <tr>\n",
       "      <th>297</th>\n",
       "      <td>CB</td>\n",
       "      <td>2021</td>\n",
       "      <td>10</td>\n",
       "      <td>0.0</td>\n",
       "      <td>52.1</td>\n",
       "      <td>16.420000</td>\n",
       "      <td>Cambodia</td>\n",
       "    </tr>\n",
       "    <tr>\n",
       "      <th>309</th>\n",
       "      <td>ZA</td>\n",
       "      <td>2021</td>\n",
       "      <td>5</td>\n",
       "      <td>0.0</td>\n",
       "      <td>39.1</td>\n",
       "      <td>16.060000</td>\n",
       "      <td>Zambia</td>\n",
       "    </tr>\n",
       "    <tr>\n",
       "      <th>329</th>\n",
       "      <td>BM</td>\n",
       "      <td>2021</td>\n",
       "      <td>667</td>\n",
       "      <td>0.0</td>\n",
       "      <td>224.0</td>\n",
       "      <td>15.587856</td>\n",
       "      <td>Burma</td>\n",
       "    </tr>\n",
       "  </tbody>\n",
       "</table>\n",
       "</div>"
      ],
      "text/plain": [
       "    COUNTRY_CODE  YEAR  COUNT  MIN_RAINFALL  MAX_RAINFALL  AVERAGE_RAINFALL  \\\n",
       "258           GV  2021    144           0.0         214.9         17.975694   \n",
       "289           ID  2021    538           0.0         340.1         16.664684   \n",
       "297           CB  2021     10           0.0          52.1         16.420000   \n",
       "309           ZA  2021      5           0.0          39.1         16.060000   \n",
       "329           BM  2021    667           0.0         224.0         15.587856   \n",
       "\n",
       "    COUNTRY_NAME  \n",
       "258       Guinea  \n",
       "289    Indonesia  \n",
       "297     Cambodia  \n",
       "309       Zambia  \n",
       "329        Burma  "
      ]
     },
     "execution_count": 70,
     "metadata": {},
     "output_type": "execute_result"
    }
   ],
   "source": [
    "rainfall_2021 = data_rainfall[data_rainfall[\"YEAR\"] == 2021]\n",
    "#rainfall_2021 =rainfall_2021[\"COUNTRY_NAME\",\"AVERAGE_RAINFALL\"]\n",
    "rainfall_2021.head()"
   ]
  },
  {
   "cell_type": "code",
   "execution_count": 73,
   "metadata": {},
   "outputs": [
    {
     "data": {
      "text/html": [
       "<div>\n",
       "<style scoped>\n",
       "    .dataframe tbody tr th:only-of-type {\n",
       "        vertical-align: middle;\n",
       "    }\n",
       "\n",
       "    .dataframe tbody tr th {\n",
       "        vertical-align: top;\n",
       "    }\n",
       "\n",
       "    .dataframe thead th {\n",
       "        text-align: right;\n",
       "    }\n",
       "</style>\n",
       "<table border=\"1\" class=\"dataframe\">\n",
       "  <thead>\n",
       "    <tr style=\"text-align: right;\">\n",
       "      <th></th>\n",
       "      <th>COUNTRY_NAME</th>\n",
       "      <th>AVERAGE_RAINFALL</th>\n",
       "    </tr>\n",
       "  </thead>\n",
       "  <tbody>\n",
       "    <tr>\n",
       "      <th>258</th>\n",
       "      <td>Guinea</td>\n",
       "      <td>17.975694</td>\n",
       "    </tr>\n",
       "    <tr>\n",
       "      <th>289</th>\n",
       "      <td>Indonesia</td>\n",
       "      <td>16.664684</td>\n",
       "    </tr>\n",
       "    <tr>\n",
       "      <th>297</th>\n",
       "      <td>Cambodia</td>\n",
       "      <td>16.420000</td>\n",
       "    </tr>\n",
       "    <tr>\n",
       "      <th>309</th>\n",
       "      <td>Zambia</td>\n",
       "      <td>16.060000</td>\n",
       "    </tr>\n",
       "    <tr>\n",
       "      <th>329</th>\n",
       "      <td>Burma</td>\n",
       "      <td>15.587856</td>\n",
       "    </tr>\n",
       "  </tbody>\n",
       "</table>\n",
       "</div>"
      ],
      "text/plain": [
       "    COUNTRY_NAME  AVERAGE_RAINFALL\n",
       "258       Guinea         17.975694\n",
       "289    Indonesia         16.664684\n",
       "297     Cambodia         16.420000\n",
       "309       Zambia         16.060000\n",
       "329        Burma         15.587856"
      ]
     },
     "execution_count": 73,
     "metadata": {},
     "output_type": "execute_result"
    }
   ],
   "source": [
    "rainfall_2021 = rainfall_2021[[\"COUNTRY_NAME\",\"AVERAGE_RAINFALL\"]]\n",
    "rainfall_2021.head()"
   ]
  },
  {
   "cell_type": "code",
   "execution_count": 193,
   "metadata": {},
   "outputs": [
    {
     "data": {
      "text/html": [
       "<p><b>Spark</b></p><p>The spark session is <b><span style=\"color:red\">stopped</span></b>, confirm that <code>abh89 (jupyter)</code> is under the completed applications section in the Spark UI.</p><ul><li><a href=\"http://mathmadslinux2p.canterbury.ac.nz:8080/\" target=\"_blank\">Spark UI</a></li></ul>"
      ],
      "text/plain": [
       "<IPython.core.display.HTML object>"
      ]
     },
     "metadata": {},
     "output_type": "display_data"
    }
   ],
   "source": [
    "# Run this cell before closing the notebook or kill your spark application by hand using the link in the Spark UI\n",
    "\n",
    "stop_spark()"
   ]
  }
 ],
 "metadata": {
  "kernelspec": {
   "display_name": "Python 3",
   "language": "python",
   "name": "python3"
  },
  "language_info": {
   "codemirror_mode": {
    "name": "ipython",
    "version": 3
   },
   "file_extension": ".py",
   "mimetype": "text/x-python",
   "name": "python",
   "nbconvert_exporter": "python",
   "pygments_lexer": "ipython3",
   "version": "3.7.0"
  }
 },
 "nbformat": 4,
 "nbformat_minor": 2
}
